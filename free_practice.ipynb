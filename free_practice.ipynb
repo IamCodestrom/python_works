{
 "cells": [
  {
   "cell_type": "code",
   "execution_count": 3,
   "metadata": {},
   "outputs": [],
   "source": [
    "import pandas as pd\n",
    "import numpy as np"
   ]
  },
  {
   "cell_type": "code",
   "execution_count": 44,
   "metadata": {},
   "outputs": [
    {
     "data": {
      "text/html": [
       "<div>\n",
       "<style scoped>\n",
       "    .dataframe tbody tr th:only-of-type {\n",
       "        vertical-align: middle;\n",
       "    }\n",
       "\n",
       "    .dataframe tbody tr th {\n",
       "        vertical-align: top;\n",
       "    }\n",
       "\n",
       "    .dataframe thead th {\n",
       "        text-align: right;\n",
       "    }\n",
       "</style>\n",
       "<table border=\"1\" class=\"dataframe\">\n",
       "  <thead>\n",
       "    <tr style=\"text-align: right;\">\n",
       "      <th></th>\n",
       "      <th>Sales Date</th>\n",
       "      <th>Transaction Status</th>\n",
       "      <th>Discount</th>\n",
       "      <th>Gross Amount</th>\n",
       "      <th>Net Sales Price</th>\n",
       "      <th>Sales Person Code</th>\n",
       "      <th>Sales Person Name</th>\n",
       "      <th>Transaction ID</th>\n",
       "      <th>Design No</th>\n",
       "      <th>Serial Number</th>\n",
       "      <th>...</th>\n",
       "      <th>Mobile Number</th>\n",
       "      <th>City</th>\n",
       "      <th>State</th>\n",
       "      <th>Emp Desgination</th>\n",
       "      <th>Emp LastDateWorked</th>\n",
       "      <th>Pan Number</th>\n",
       "      <th>TypeforSuspendedTrans</th>\n",
       "      <th>URD Discount Amount</th>\n",
       "      <th>OGADJUSTEDAMOUNT</th>\n",
       "      <th>URDADDLDEDUCITON</th>\n",
       "    </tr>\n",
       "  </thead>\n",
       "  <tbody>\n",
       "    <tr>\n",
       "      <th>0</th>\n",
       "      <td>2023-09-21 12:00:00.0000000</td>\n",
       "      <td>Posted</td>\n",
       "      <td>0.00</td>\n",
       "      <td>19963.36</td>\n",
       "      <td>0.0</td>\n",
       "      <td>000983</td>\n",
       "      <td>Mahendra Reddy</td>\n",
       "      <td>113-113R1-12</td>\n",
       "      <td>OER23141-D900X0C</td>\n",
       "      <td>001850847</td>\n",
       "      <td>...</td>\n",
       "      <td>9820697652</td>\n",
       "      <td>NaN</td>\n",
       "      <td>MH</td>\n",
       "      <td>NaN</td>\n",
       "      <td>1900-01-01 00:00:00.0000000</td>\n",
       "      <td>NaN</td>\n",
       "      <td>Sales</td>\n",
       "      <td>0.0</td>\n",
       "      <td>0.0</td>\n",
       "      <td>0.0</td>\n",
       "    </tr>\n",
       "    <tr>\n",
       "      <th>1</th>\n",
       "      <td>2023-09-21 12:00:00.0000000</td>\n",
       "      <td>Posted</td>\n",
       "      <td>0.00</td>\n",
       "      <td>13927.35</td>\n",
       "      <td>0.0</td>\n",
       "      <td>000983</td>\n",
       "      <td>Mahendra Reddy</td>\n",
       "      <td>113-113R1-14</td>\n",
       "      <td>ONP23013-D300R0B</td>\n",
       "      <td>001826223</td>\n",
       "      <td>...</td>\n",
       "      <td>9834151691</td>\n",
       "      <td>KOLHAPUR</td>\n",
       "      <td>MH</td>\n",
       "      <td>NaN</td>\n",
       "      <td>1900-01-01 00:00:00.0000000</td>\n",
       "      <td>NaN</td>\n",
       "      <td>Sales</td>\n",
       "      <td>0.0</td>\n",
       "      <td>0.0</td>\n",
       "      <td>0.0</td>\n",
       "    </tr>\n",
       "    <tr>\n",
       "      <th>2</th>\n",
       "      <td>2023-09-21 12:00:00.0000000</td>\n",
       "      <td>Posted</td>\n",
       "      <td>2309.13</td>\n",
       "      <td>20782.16</td>\n",
       "      <td>0.0</td>\n",
       "      <td>000983</td>\n",
       "      <td>Mahendra Reddy</td>\n",
       "      <td>197-197R1-26</td>\n",
       "      <td>OPE20027-D900X0C</td>\n",
       "      <td>001849961</td>\n",
       "      <td>...</td>\n",
       "      <td>8554069898</td>\n",
       "      <td>Mumbai</td>\n",
       "      <td>MH</td>\n",
       "      <td>NaN</td>\n",
       "      <td>1900-01-01 00:00:00.0000000</td>\n",
       "      <td>NaN</td>\n",
       "      <td>Sales</td>\n",
       "      <td>0.0</td>\n",
       "      <td>0.0</td>\n",
       "      <td>0.0</td>\n",
       "    </tr>\n",
       "    <tr>\n",
       "      <th>3</th>\n",
       "      <td>2023-09-21 12:00:00.0000000</td>\n",
       "      <td>Posted</td>\n",
       "      <td>2723.76</td>\n",
       "      <td>88068.12</td>\n",
       "      <td>0.0</td>\n",
       "      <td>000983</td>\n",
       "      <td>Mahendra Reddy</td>\n",
       "      <td>118-118R1-18</td>\n",
       "      <td>OPE22050-D300X0C</td>\n",
       "      <td>001724103</td>\n",
       "      <td>...</td>\n",
       "      <td>8374038599</td>\n",
       "      <td>NaN</td>\n",
       "      <td>NaN</td>\n",
       "      <td>NaN</td>\n",
       "      <td>1900-01-01 00:00:00.0000000</td>\n",
       "      <td>NaN</td>\n",
       "      <td>Sales</td>\n",
       "      <td>0.0</td>\n",
       "      <td>0.0</td>\n",
       "      <td>0.0</td>\n",
       "    </tr>\n",
       "    <tr>\n",
       "      <th>4</th>\n",
       "      <td>2023-09-22 12:00:00.0000000</td>\n",
       "      <td>Posted</td>\n",
       "      <td>0.00</td>\n",
       "      <td>-29464.00</td>\n",
       "      <td>0.0</td>\n",
       "      <td>000983</td>\n",
       "      <td>Mahendra Reddy</td>\n",
       "      <td>118-118R1-64</td>\n",
       "      <td>Other Gold</td>\n",
       "      <td>NaN</td>\n",
       "      <td>...</td>\n",
       "      <td>8108407380</td>\n",
       "      <td>BEGUMPET</td>\n",
       "      <td>TS</td>\n",
       "      <td>NaN</td>\n",
       "      <td>1900-01-01 00:00:00.0000000</td>\n",
       "      <td>NaN</td>\n",
       "      <td>Sales</td>\n",
       "      <td>0.0</td>\n",
       "      <td>0.0</td>\n",
       "      <td>0.0</td>\n",
       "    </tr>\n",
       "    <tr>\n",
       "      <th>...</th>\n",
       "      <td>...</td>\n",
       "      <td>...</td>\n",
       "      <td>...</td>\n",
       "      <td>...</td>\n",
       "      <td>...</td>\n",
       "      <td>...</td>\n",
       "      <td>...</td>\n",
       "      <td>...</td>\n",
       "      <td>...</td>\n",
       "      <td>...</td>\n",
       "      <td>...</td>\n",
       "      <td>...</td>\n",
       "      <td>...</td>\n",
       "      <td>...</td>\n",
       "      <td>...</td>\n",
       "      <td>...</td>\n",
       "      <td>...</td>\n",
       "      <td>...</td>\n",
       "      <td>...</td>\n",
       "      <td>...</td>\n",
       "      <td>...</td>\n",
       "    </tr>\n",
       "    <tr>\n",
       "      <th>248222</th>\n",
       "      <td>2024-09-29 12:00:00.0000000</td>\n",
       "      <td>Posted</td>\n",
       "      <td>71452.05</td>\n",
       "      <td>285808.22</td>\n",
       "      <td>0.0</td>\n",
       "      <td>005410</td>\n",
       "      <td>NaN</td>\n",
       "      <td>118-118R1-17837</td>\n",
       "      <td>OSE22192-D309R0B</td>\n",
       "      <td>001845314</td>\n",
       "      <td>...</td>\n",
       "      <td>NaN</td>\n",
       "      <td>Hyderabad</td>\n",
       "      <td>TS</td>\n",
       "      <td>NaN</td>\n",
       "      <td>NaN</td>\n",
       "      <td>NaN</td>\n",
       "      <td>Sales</td>\n",
       "      <td>0.0</td>\n",
       "      <td>0.0</td>\n",
       "      <td>0.0</td>\n",
       "    </tr>\n",
       "    <tr>\n",
       "      <th>248223</th>\n",
       "      <td>2024-09-29 12:00:00.0000000</td>\n",
       "      <td>Posted</td>\n",
       "      <td>71584.61</td>\n",
       "      <td>328437.45</td>\n",
       "      <td>0.0</td>\n",
       "      <td>004170</td>\n",
       "      <td>Sultan Shah Makandar .</td>\n",
       "      <td>165-165R2-6911</td>\n",
       "      <td>OSN23056-D900X1C</td>\n",
       "      <td>004404822</td>\n",
       "      <td>...</td>\n",
       "      <td>NaN</td>\n",
       "      <td>Goa Margaon</td>\n",
       "      <td>GA</td>\n",
       "      <td>NaN</td>\n",
       "      <td>1900-01-01 00:00:00.0000000</td>\n",
       "      <td>NaN</td>\n",
       "      <td>Sales</td>\n",
       "      <td>0.0</td>\n",
       "      <td>0.0</td>\n",
       "      <td>0.0</td>\n",
       "    </tr>\n",
       "    <tr>\n",
       "      <th>248224</th>\n",
       "      <td>2024-09-29 12:00:00.0000000</td>\n",
       "      <td>Posted</td>\n",
       "      <td>76655.78</td>\n",
       "      <td>231500.58</td>\n",
       "      <td>0.0</td>\n",
       "      <td>005388</td>\n",
       "      <td>SUBRAJITH DALAI</td>\n",
       "      <td>212-212R1-7641</td>\n",
       "      <td>OSN23050-D911X1C</td>\n",
       "      <td>004331496</td>\n",
       "      <td>...</td>\n",
       "      <td>9880026593</td>\n",
       "      <td>Bangalore</td>\n",
       "      <td>KA</td>\n",
       "      <td>NaN</td>\n",
       "      <td>1900-01-01 00:00:00.0000000</td>\n",
       "      <td>NaN</td>\n",
       "      <td>Sales</td>\n",
       "      <td>0.0</td>\n",
       "      <td>0.0</td>\n",
       "      <td>0.0</td>\n",
       "    </tr>\n",
       "    <tr>\n",
       "      <th>248225</th>\n",
       "      <td>2024-09-29 12:00:00.0000000</td>\n",
       "      <td>Posted</td>\n",
       "      <td>88994.25</td>\n",
       "      <td>355976.98</td>\n",
       "      <td>0.0</td>\n",
       "      <td>004767</td>\n",
       "      <td>Dipalee Matelkar</td>\n",
       "      <td>229-229R1-10691</td>\n",
       "      <td>OTN23V04-D400XMB</td>\n",
       "      <td>004404700</td>\n",
       "      <td>...</td>\n",
       "      <td>9755549597</td>\n",
       "      <td>NaN</td>\n",
       "      <td>NaN</td>\n",
       "      <td>Sales Officer</td>\n",
       "      <td>1900-01-01 00:00:00.0000000</td>\n",
       "      <td>NaN</td>\n",
       "      <td>Sales</td>\n",
       "      <td>0.0</td>\n",
       "      <td>0.0</td>\n",
       "      <td>0.0</td>\n",
       "    </tr>\n",
       "    <tr>\n",
       "      <th>248226</th>\n",
       "      <td>2024-09-29 12:00:00.0000000</td>\n",
       "      <td>Posted</td>\n",
       "      <td>104425.15</td>\n",
       "      <td>313275.45</td>\n",
       "      <td>0.0</td>\n",
       "      <td>005888</td>\n",
       "      <td>SANJAY SHARMA</td>\n",
       "      <td>243-243R1-3593</td>\n",
       "      <td>OBF23031-A300WEB</td>\n",
       "      <td>004196577</td>\n",
       "      <td>...</td>\n",
       "      <td>NaN</td>\n",
       "      <td>Ahmedabad</td>\n",
       "      <td>GJ</td>\n",
       "      <td>Sales Officer</td>\n",
       "      <td>1900-01-01 00:00:00.0000000</td>\n",
       "      <td>NaN</td>\n",
       "      <td>Sales</td>\n",
       "      <td>0.0</td>\n",
       "      <td>0.0</td>\n",
       "      <td>0.0</td>\n",
       "    </tr>\n",
       "  </tbody>\n",
       "</table>\n",
       "<p>248227 rows × 80 columns</p>\n",
       "</div>"
      ],
      "text/plain": [
       "                         Sales Date Transaction Status   Discount  \\\n",
       "0       2023-09-21 12:00:00.0000000             Posted       0.00   \n",
       "1       2023-09-21 12:00:00.0000000             Posted       0.00   \n",
       "2       2023-09-21 12:00:00.0000000             Posted    2309.13   \n",
       "3       2023-09-21 12:00:00.0000000             Posted    2723.76   \n",
       "4       2023-09-22 12:00:00.0000000             Posted       0.00   \n",
       "...                             ...                ...        ...   \n",
       "248222  2024-09-29 12:00:00.0000000             Posted   71452.05   \n",
       "248223  2024-09-29 12:00:00.0000000             Posted   71584.61   \n",
       "248224  2024-09-29 12:00:00.0000000             Posted   76655.78   \n",
       "248225  2024-09-29 12:00:00.0000000             Posted   88994.25   \n",
       "248226  2024-09-29 12:00:00.0000000             Posted  104425.15   \n",
       "\n",
       "        Gross Amount  Net Sales Price Sales Person Code  \\\n",
       "0           19963.36              0.0            000983   \n",
       "1           13927.35              0.0            000983   \n",
       "2           20782.16              0.0            000983   \n",
       "3           88068.12              0.0            000983   \n",
       "4          -29464.00              0.0            000983   \n",
       "...              ...              ...               ...   \n",
       "248222     285808.22              0.0            005410   \n",
       "248223     328437.45              0.0            004170   \n",
       "248224     231500.58              0.0            005388   \n",
       "248225     355976.98              0.0            004767   \n",
       "248226     313275.45              0.0            005888   \n",
       "\n",
       "             Sales Person Name   Transaction ID         Design No  \\\n",
       "0               Mahendra Reddy     113-113R1-12  OER23141-D900X0C   \n",
       "1               Mahendra Reddy     113-113R1-14  ONP23013-D300R0B   \n",
       "2               Mahendra Reddy     197-197R1-26  OPE20027-D900X0C   \n",
       "3               Mahendra Reddy     118-118R1-18  OPE22050-D300X0C   \n",
       "4               Mahendra Reddy     118-118R1-64        Other Gold   \n",
       "...                        ...              ...               ...   \n",
       "248222                     NaN  118-118R1-17837  OSE22192-D309R0B   \n",
       "248223  Sultan Shah Makandar .   165-165R2-6911  OSN23056-D900X1C   \n",
       "248224         SUBRAJITH DALAI   212-212R1-7641  OSN23050-D911X1C   \n",
       "248225        Dipalee Matelkar  229-229R1-10691  OTN23V04-D400XMB   \n",
       "248226           SANJAY SHARMA   243-243R1-3593  OBF23031-A300WEB   \n",
       "\n",
       "       Serial Number  ... Mobile Number         City  State Emp Desgination  \\\n",
       "0          001850847  ...    9820697652          NaN     MH             NaN   \n",
       "1          001826223  ...    9834151691     KOLHAPUR     MH             NaN   \n",
       "2          001849961  ...    8554069898       Mumbai     MH             NaN   \n",
       "3          001724103  ...    8374038599          NaN    NaN             NaN   \n",
       "4                NaN  ...    8108407380     BEGUMPET     TS             NaN   \n",
       "...              ...  ...           ...          ...    ...             ...   \n",
       "248222     001845314  ...           NaN    Hyderabad     TS             NaN   \n",
       "248223     004404822  ...           NaN  Goa Margaon     GA             NaN   \n",
       "248224     004331496  ...    9880026593    Bangalore     KA             NaN   \n",
       "248225     004404700  ...    9755549597          NaN    NaN   Sales Officer   \n",
       "248226     004196577  ...           NaN    Ahmedabad     GJ   Sales Officer   \n",
       "\n",
       "                 Emp LastDateWorked Pan Number TypeforSuspendedTrans  \\\n",
       "0       1900-01-01 00:00:00.0000000        NaN                 Sales   \n",
       "1       1900-01-01 00:00:00.0000000        NaN                 Sales   \n",
       "2       1900-01-01 00:00:00.0000000        NaN                 Sales   \n",
       "3       1900-01-01 00:00:00.0000000        NaN                 Sales   \n",
       "4       1900-01-01 00:00:00.0000000        NaN                 Sales   \n",
       "...                             ...        ...                   ...   \n",
       "248222                          NaN        NaN                 Sales   \n",
       "248223  1900-01-01 00:00:00.0000000        NaN                 Sales   \n",
       "248224  1900-01-01 00:00:00.0000000        NaN                 Sales   \n",
       "248225  1900-01-01 00:00:00.0000000        NaN                 Sales   \n",
       "248226  1900-01-01 00:00:00.0000000        NaN                 Sales   \n",
       "\n",
       "       URD Discount Amount OGADJUSTEDAMOUNT URDADDLDEDUCITON  \n",
       "0                      0.0              0.0              0.0  \n",
       "1                      0.0              0.0              0.0  \n",
       "2                      0.0              0.0              0.0  \n",
       "3                      0.0              0.0              0.0  \n",
       "4                      0.0              0.0              0.0  \n",
       "...                    ...              ...              ...  \n",
       "248222                 0.0              0.0              0.0  \n",
       "248223                 0.0              0.0              0.0  \n",
       "248224                 0.0              0.0              0.0  \n",
       "248225                 0.0              0.0              0.0  \n",
       "248226                 0.0              0.0              0.0  \n",
       "\n",
       "[248227 rows x 80 columns]"
      ]
     },
     "execution_count": 44,
     "metadata": {},
     "output_type": "execute_result"
    }
   ],
   "source": [
    "sales=pd.read_csv(r'D:\\GdriveBackup\\0.Projects\\Mock Projects\\DE\\Python\\Sales.csv',low_memory=False)\n",
    "sales"
   ]
  },
  {
   "cell_type": "code",
   "execution_count": 45,
   "metadata": {},
   "outputs": [
    {
     "data": {
      "text/plain": [
       "Product Category  PlainStudded  Parent Product Category  Product      Sub Product\n",
       "Diamond Jewelry   General       Bracelet                 Bracelet     General          680421.75\n",
       "                                Earring                  EARRING      General           10874.75\n",
       "                                                         Earring      General          929238.17\n",
       "                                General                  Mangalsutra  General           19862.00\n",
       "                                Mangalsutra              Mangalsutra  General           10089.22\n",
       "                                                                                        ...     \n",
       "Platinum Jewelry  studded       Ring                     Ring         Couple Band      101088.32\n",
       "                                                                      General          671269.74\n",
       "Proto             Studded       General                  Peg Head     General               0.00\n",
       "Silver Coin       Plain         Coin                     Silver Coin  General        12046062.20\n",
       "Silver Jewelry    Plain         Ring                     Ring         General         1545210.39\n",
       "Name: Gross Amount, Length: 561, dtype: float64"
      ]
     },
     "execution_count": 45,
     "metadata": {},
     "output_type": "execute_result"
    }
   ],
   "source": [
    "a=sales.groupby(['Product Category','PlainStudded','Parent Product Category','Product','Sub Product']).sum()\n",
    "a['Gross Amount']"
   ]
  },
  {
   "cell_type": "code",
   "execution_count": 46,
   "metadata": {},
   "outputs": [
    {
     "data": {
      "text/plain": [
       "array(['Earring', 'Nosewear', 'Pendant Earring', nan, 'Ring', 'Pendant',\n",
       "       'Mangalsutra', 'Set Earring', 'Set Necklace', 'Bangle',\n",
       "       'Silver Coin', 'Pendant Set', 'Necklace', 'Bracelet', 'Chain',\n",
       "       'Gold Coin', 'Anklet', 'Peg Head', 'Loose Solitaire', 'RING',\n",
       "       'Kada', 'Mang Tikka', 'chain', 'pendant', 'Bars', 'BANGLE',\n",
       "       'PENDANT', 'EARRING', 'Others', 'Cufflink', 'Mangtika',\n",
       "       'Ladies Ring', 'Ladies Bracelet', 'Tanmaniya', 'Gents Ring',\n",
       "       'Chains', 'Openable', 'Non-Openable', 'Waist belt', 'Pendant set',\n",
       "       'earring', 'ring', 'Gents Bracelet', 'Nosepin', 'Tanmaniya Chain',\n",
       "       'bajubandh'], dtype=object)"
      ]
     },
     "execution_count": 46,
     "metadata": {},
     "output_type": "execute_result"
    }
   ],
   "source": [
    "sales['Product'].unique()"
   ]
  },
  {
   "cell_type": "code",
   "execution_count": 47,
   "metadata": {},
   "outputs": [],
   "source": [
    "sales['Sales Date']=sales['Sales Date'].astype('datetime64[ns]')"
   ]
  },
  {
   "cell_type": "code",
   "execution_count": 48,
   "metadata": {},
   "outputs": [],
   "source": [
    "sales['new col']=sales['City']+'2'"
   ]
  },
  {
   "cell_type": "code",
   "execution_count": 49,
   "metadata": {},
   "outputs": [
    {
     "data": {
      "text/html": [
       "<div>\n",
       "<style scoped>\n",
       "    .dataframe tbody tr th:only-of-type {\n",
       "        vertical-align: middle;\n",
       "    }\n",
       "\n",
       "    .dataframe tbody tr th {\n",
       "        vertical-align: top;\n",
       "    }\n",
       "\n",
       "    .dataframe thead th {\n",
       "        text-align: right;\n",
       "    }\n",
       "</style>\n",
       "<table border=\"1\" class=\"dataframe\">\n",
       "  <thead>\n",
       "    <tr style=\"text-align: right;\">\n",
       "      <th></th>\n",
       "      <th>Sales Date</th>\n",
       "      <th>Transaction Status</th>\n",
       "      <th>Discount</th>\n",
       "      <th>Gross Amount</th>\n",
       "      <th>Net Sales Price</th>\n",
       "      <th>Sales Person Code</th>\n",
       "      <th>Sales Person Name</th>\n",
       "      <th>Transaction ID</th>\n",
       "      <th>Design No</th>\n",
       "      <th>Serial Number</th>\n",
       "      <th>...</th>\n",
       "      <th>City</th>\n",
       "      <th>State</th>\n",
       "      <th>Emp Desgination</th>\n",
       "      <th>Emp LastDateWorked</th>\n",
       "      <th>Pan Number</th>\n",
       "      <th>TypeforSuspendedTrans</th>\n",
       "      <th>URD Discount Amount</th>\n",
       "      <th>OGADJUSTEDAMOUNT</th>\n",
       "      <th>URDADDLDEDUCITON</th>\n",
       "      <th>new col</th>\n",
       "    </tr>\n",
       "  </thead>\n",
       "  <tbody>\n",
       "    <tr>\n",
       "      <th>1</th>\n",
       "      <td>2023-09-21 12:00:00</td>\n",
       "      <td>Posted</td>\n",
       "      <td>0.00</td>\n",
       "      <td>13927.35</td>\n",
       "      <td>0.0</td>\n",
       "      <td>000983</td>\n",
       "      <td>Mahendra Reddy</td>\n",
       "      <td>113-113R1-14</td>\n",
       "      <td>ONP23013-D300R0B</td>\n",
       "      <td>001826223</td>\n",
       "      <td>...</td>\n",
       "      <td>KOLHAPUR</td>\n",
       "      <td>MH</td>\n",
       "      <td>NaN</td>\n",
       "      <td>1900-01-01 00:00:00.0000000</td>\n",
       "      <td>NaN</td>\n",
       "      <td>Sales</td>\n",
       "      <td>0.0</td>\n",
       "      <td>0.0</td>\n",
       "      <td>0.0</td>\n",
       "      <td>KOLHAPUR2</td>\n",
       "    </tr>\n",
       "    <tr>\n",
       "      <th>2</th>\n",
       "      <td>2023-09-21 12:00:00</td>\n",
       "      <td>Posted</td>\n",
       "      <td>2309.13</td>\n",
       "      <td>20782.16</td>\n",
       "      <td>0.0</td>\n",
       "      <td>000983</td>\n",
       "      <td>Mahendra Reddy</td>\n",
       "      <td>197-197R1-26</td>\n",
       "      <td>OPE20027-D900X0C</td>\n",
       "      <td>001849961</td>\n",
       "      <td>...</td>\n",
       "      <td>Mumbai</td>\n",
       "      <td>MH</td>\n",
       "      <td>NaN</td>\n",
       "      <td>1900-01-01 00:00:00.0000000</td>\n",
       "      <td>NaN</td>\n",
       "      <td>Sales</td>\n",
       "      <td>0.0</td>\n",
       "      <td>0.0</td>\n",
       "      <td>0.0</td>\n",
       "      <td>Mumbai2</td>\n",
       "    </tr>\n",
       "    <tr>\n",
       "      <th>4</th>\n",
       "      <td>2023-09-22 12:00:00</td>\n",
       "      <td>Posted</td>\n",
       "      <td>0.00</td>\n",
       "      <td>-29464.00</td>\n",
       "      <td>0.0</td>\n",
       "      <td>000983</td>\n",
       "      <td>Mahendra Reddy</td>\n",
       "      <td>118-118R1-64</td>\n",
       "      <td>Other Gold</td>\n",
       "      <td>NaN</td>\n",
       "      <td>...</td>\n",
       "      <td>BEGUMPET</td>\n",
       "      <td>TS</td>\n",
       "      <td>NaN</td>\n",
       "      <td>1900-01-01 00:00:00.0000000</td>\n",
       "      <td>NaN</td>\n",
       "      <td>Sales</td>\n",
       "      <td>0.0</td>\n",
       "      <td>0.0</td>\n",
       "      <td>0.0</td>\n",
       "      <td>BEGUMPET2</td>\n",
       "    </tr>\n",
       "    <tr>\n",
       "      <th>5</th>\n",
       "      <td>2023-09-22 12:00:00</td>\n",
       "      <td>Posted</td>\n",
       "      <td>1839.75</td>\n",
       "      <td>25578.22</td>\n",
       "      <td>0.0</td>\n",
       "      <td>000983</td>\n",
       "      <td>Mahendra Reddy</td>\n",
       "      <td>118-118R1-67</td>\n",
       "      <td>MRG11040-D300TLB</td>\n",
       "      <td>001804667</td>\n",
       "      <td>...</td>\n",
       "      <td>BEGUMPET</td>\n",
       "      <td>TS</td>\n",
       "      <td>NaN</td>\n",
       "      <td>1900-01-01 00:00:00.0000000</td>\n",
       "      <td>NaN</td>\n",
       "      <td>Sales</td>\n",
       "      <td>0.0</td>\n",
       "      <td>0.0</td>\n",
       "      <td>0.0</td>\n",
       "      <td>BEGUMPET2</td>\n",
       "    </tr>\n",
       "    <tr>\n",
       "      <th>7</th>\n",
       "      <td>2023-09-22 12:00:00</td>\n",
       "      <td>Posted</td>\n",
       "      <td>5145.67</td>\n",
       "      <td>47522.39</td>\n",
       "      <td>0.0</td>\n",
       "      <td>000983</td>\n",
       "      <td>Mahendra Reddy</td>\n",
       "      <td>112-112R1-57</td>\n",
       "      <td>ORG16307-D200XHB</td>\n",
       "      <td>001695541</td>\n",
       "      <td>...</td>\n",
       "      <td>New Delhi</td>\n",
       "      <td>DL</td>\n",
       "      <td>NaN</td>\n",
       "      <td>1900-01-01 00:00:00.0000000</td>\n",
       "      <td>NaN</td>\n",
       "      <td>Sales</td>\n",
       "      <td>0.0</td>\n",
       "      <td>0.0</td>\n",
       "      <td>0.0</td>\n",
       "      <td>New Delhi2</td>\n",
       "    </tr>\n",
       "    <tr>\n",
       "      <th>...</th>\n",
       "      <td>...</td>\n",
       "      <td>...</td>\n",
       "      <td>...</td>\n",
       "      <td>...</td>\n",
       "      <td>...</td>\n",
       "      <td>...</td>\n",
       "      <td>...</td>\n",
       "      <td>...</td>\n",
       "      <td>...</td>\n",
       "      <td>...</td>\n",
       "      <td>...</td>\n",
       "      <td>...</td>\n",
       "      <td>...</td>\n",
       "      <td>...</td>\n",
       "      <td>...</td>\n",
       "      <td>...</td>\n",
       "      <td>...</td>\n",
       "      <td>...</td>\n",
       "      <td>...</td>\n",
       "      <td>...</td>\n",
       "      <td>...</td>\n",
       "    </tr>\n",
       "    <tr>\n",
       "      <th>248221</th>\n",
       "      <td>2024-09-29 12:00:00</td>\n",
       "      <td>Posted</td>\n",
       "      <td>59373.12</td>\n",
       "      <td>237492.49</td>\n",
       "      <td>0.0</td>\n",
       "      <td>001706</td>\n",
       "      <td>Mala R</td>\n",
       "      <td>104-104R1-10918</td>\n",
       "      <td>OBO17006-D400XGC</td>\n",
       "      <td>004436831</td>\n",
       "      <td>...</td>\n",
       "      <td>Bangalore</td>\n",
       "      <td>KA</td>\n",
       "      <td>Sales Officer</td>\n",
       "      <td>1900-01-01 00:00:00.0000000</td>\n",
       "      <td>NaN</td>\n",
       "      <td>Sales</td>\n",
       "      <td>0.0</td>\n",
       "      <td>0.0</td>\n",
       "      <td>0.0</td>\n",
       "      <td>Bangalore2</td>\n",
       "    </tr>\n",
       "    <tr>\n",
       "      <th>248222</th>\n",
       "      <td>2024-09-29 12:00:00</td>\n",
       "      <td>Posted</td>\n",
       "      <td>71452.05</td>\n",
       "      <td>285808.22</td>\n",
       "      <td>0.0</td>\n",
       "      <td>005410</td>\n",
       "      <td>NaN</td>\n",
       "      <td>118-118R1-17837</td>\n",
       "      <td>OSE22192-D309R0B</td>\n",
       "      <td>001845314</td>\n",
       "      <td>...</td>\n",
       "      <td>Hyderabad</td>\n",
       "      <td>TS</td>\n",
       "      <td>NaN</td>\n",
       "      <td>NaN</td>\n",
       "      <td>NaN</td>\n",
       "      <td>Sales</td>\n",
       "      <td>0.0</td>\n",
       "      <td>0.0</td>\n",
       "      <td>0.0</td>\n",
       "      <td>Hyderabad2</td>\n",
       "    </tr>\n",
       "    <tr>\n",
       "      <th>248223</th>\n",
       "      <td>2024-09-29 12:00:00</td>\n",
       "      <td>Posted</td>\n",
       "      <td>71584.61</td>\n",
       "      <td>328437.45</td>\n",
       "      <td>0.0</td>\n",
       "      <td>004170</td>\n",
       "      <td>Sultan Shah Makandar .</td>\n",
       "      <td>165-165R2-6911</td>\n",
       "      <td>OSN23056-D900X1C</td>\n",
       "      <td>004404822</td>\n",
       "      <td>...</td>\n",
       "      <td>Goa Margaon</td>\n",
       "      <td>GA</td>\n",
       "      <td>NaN</td>\n",
       "      <td>1900-01-01 00:00:00.0000000</td>\n",
       "      <td>NaN</td>\n",
       "      <td>Sales</td>\n",
       "      <td>0.0</td>\n",
       "      <td>0.0</td>\n",
       "      <td>0.0</td>\n",
       "      <td>Goa Margaon2</td>\n",
       "    </tr>\n",
       "    <tr>\n",
       "      <th>248224</th>\n",
       "      <td>2024-09-29 12:00:00</td>\n",
       "      <td>Posted</td>\n",
       "      <td>76655.78</td>\n",
       "      <td>231500.58</td>\n",
       "      <td>0.0</td>\n",
       "      <td>005388</td>\n",
       "      <td>SUBRAJITH DALAI</td>\n",
       "      <td>212-212R1-7641</td>\n",
       "      <td>OSN23050-D911X1C</td>\n",
       "      <td>004331496</td>\n",
       "      <td>...</td>\n",
       "      <td>Bangalore</td>\n",
       "      <td>KA</td>\n",
       "      <td>NaN</td>\n",
       "      <td>1900-01-01 00:00:00.0000000</td>\n",
       "      <td>NaN</td>\n",
       "      <td>Sales</td>\n",
       "      <td>0.0</td>\n",
       "      <td>0.0</td>\n",
       "      <td>0.0</td>\n",
       "      <td>Bangalore2</td>\n",
       "    </tr>\n",
       "    <tr>\n",
       "      <th>248226</th>\n",
       "      <td>2024-09-29 12:00:00</td>\n",
       "      <td>Posted</td>\n",
       "      <td>104425.15</td>\n",
       "      <td>313275.45</td>\n",
       "      <td>0.0</td>\n",
       "      <td>005888</td>\n",
       "      <td>SANJAY SHARMA</td>\n",
       "      <td>243-243R1-3593</td>\n",
       "      <td>OBF23031-A300WEB</td>\n",
       "      <td>004196577</td>\n",
       "      <td>...</td>\n",
       "      <td>Ahmedabad</td>\n",
       "      <td>GJ</td>\n",
       "      <td>Sales Officer</td>\n",
       "      <td>1900-01-01 00:00:00.0000000</td>\n",
       "      <td>NaN</td>\n",
       "      <td>Sales</td>\n",
       "      <td>0.0</td>\n",
       "      <td>0.0</td>\n",
       "      <td>0.0</td>\n",
       "      <td>Ahmedabad2</td>\n",
       "    </tr>\n",
       "  </tbody>\n",
       "</table>\n",
       "<p>183081 rows × 81 columns</p>\n",
       "</div>"
      ],
      "text/plain": [
       "                Sales Date Transaction Status   Discount  Gross Amount  \\\n",
       "1      2023-09-21 12:00:00             Posted       0.00      13927.35   \n",
       "2      2023-09-21 12:00:00             Posted    2309.13      20782.16   \n",
       "4      2023-09-22 12:00:00             Posted       0.00     -29464.00   \n",
       "5      2023-09-22 12:00:00             Posted    1839.75      25578.22   \n",
       "7      2023-09-22 12:00:00             Posted    5145.67      47522.39   \n",
       "...                    ...                ...        ...           ...   \n",
       "248221 2024-09-29 12:00:00             Posted   59373.12     237492.49   \n",
       "248222 2024-09-29 12:00:00             Posted   71452.05     285808.22   \n",
       "248223 2024-09-29 12:00:00             Posted   71584.61     328437.45   \n",
       "248224 2024-09-29 12:00:00             Posted   76655.78     231500.58   \n",
       "248226 2024-09-29 12:00:00             Posted  104425.15     313275.45   \n",
       "\n",
       "        Net Sales Price Sales Person Code       Sales Person Name  \\\n",
       "1                   0.0            000983          Mahendra Reddy   \n",
       "2                   0.0            000983          Mahendra Reddy   \n",
       "4                   0.0            000983          Mahendra Reddy   \n",
       "5                   0.0            000983          Mahendra Reddy   \n",
       "7                   0.0            000983          Mahendra Reddy   \n",
       "...                 ...               ...                     ...   \n",
       "248221              0.0            001706                  Mala R   \n",
       "248222              0.0            005410                     NaN   \n",
       "248223              0.0            004170  Sultan Shah Makandar .   \n",
       "248224              0.0            005388         SUBRAJITH DALAI   \n",
       "248226              0.0            005888           SANJAY SHARMA   \n",
       "\n",
       "         Transaction ID         Design No Serial Number  ...         City  \\\n",
       "1          113-113R1-14  ONP23013-D300R0B     001826223  ...     KOLHAPUR   \n",
       "2          197-197R1-26  OPE20027-D900X0C     001849961  ...       Mumbai   \n",
       "4          118-118R1-64        Other Gold           NaN  ...     BEGUMPET   \n",
       "5          118-118R1-67  MRG11040-D300TLB     001804667  ...     BEGUMPET   \n",
       "7          112-112R1-57  ORG16307-D200XHB     001695541  ...    New Delhi   \n",
       "...                 ...               ...           ...  ...          ...   \n",
       "248221  104-104R1-10918  OBO17006-D400XGC     004436831  ...    Bangalore   \n",
       "248222  118-118R1-17837  OSE22192-D309R0B     001845314  ...    Hyderabad   \n",
       "248223   165-165R2-6911  OSN23056-D900X1C     004404822  ...  Goa Margaon   \n",
       "248224   212-212R1-7641  OSN23050-D911X1C     004331496  ...    Bangalore   \n",
       "248226   243-243R1-3593  OBF23031-A300WEB     004196577  ...    Ahmedabad   \n",
       "\n",
       "       State  Emp Desgination           Emp LastDateWorked Pan Number  \\\n",
       "1         MH              NaN  1900-01-01 00:00:00.0000000        NaN   \n",
       "2         MH              NaN  1900-01-01 00:00:00.0000000        NaN   \n",
       "4         TS              NaN  1900-01-01 00:00:00.0000000        NaN   \n",
       "5         TS              NaN  1900-01-01 00:00:00.0000000        NaN   \n",
       "7         DL              NaN  1900-01-01 00:00:00.0000000        NaN   \n",
       "...      ...              ...                          ...        ...   \n",
       "248221    KA    Sales Officer  1900-01-01 00:00:00.0000000        NaN   \n",
       "248222    TS              NaN                          NaN        NaN   \n",
       "248223    GA              NaN  1900-01-01 00:00:00.0000000        NaN   \n",
       "248224    KA              NaN  1900-01-01 00:00:00.0000000        NaN   \n",
       "248226    GJ    Sales Officer  1900-01-01 00:00:00.0000000        NaN   \n",
       "\n",
       "       TypeforSuspendedTrans URD Discount Amount OGADJUSTEDAMOUNT  \\\n",
       "1                      Sales                 0.0              0.0   \n",
       "2                      Sales                 0.0              0.0   \n",
       "4                      Sales                 0.0              0.0   \n",
       "5                      Sales                 0.0              0.0   \n",
       "7                      Sales                 0.0              0.0   \n",
       "...                      ...                 ...              ...   \n",
       "248221                 Sales                 0.0              0.0   \n",
       "248222                 Sales                 0.0              0.0   \n",
       "248223                 Sales                 0.0              0.0   \n",
       "248224                 Sales                 0.0              0.0   \n",
       "248226                 Sales                 0.0              0.0   \n",
       "\n",
       "       URDADDLDEDUCITON       new col  \n",
       "1                   0.0     KOLHAPUR2  \n",
       "2                   0.0       Mumbai2  \n",
       "4                   0.0     BEGUMPET2  \n",
       "5                   0.0     BEGUMPET2  \n",
       "7                   0.0    New Delhi2  \n",
       "...                 ...           ...  \n",
       "248221              0.0    Bangalore2  \n",
       "248222              0.0    Hyderabad2  \n",
       "248223              0.0  Goa Margaon2  \n",
       "248224              0.0    Bangalore2  \n",
       "248226              0.0    Ahmedabad2  \n",
       "\n",
       "[183081 rows x 81 columns]"
      ]
     },
     "execution_count": 49,
     "metadata": {},
     "output_type": "execute_result"
    }
   ],
   "source": [
    "sales.dropna(subset=['City','State'])"
   ]
  },
  {
   "cell_type": "code",
   "execution_count": 50,
   "metadata": {},
   "outputs": [
    {
     "data": {
      "text/plain": [
       "array(['Earring', 'Nosewear', 'Pendant Set', ..., 'Neckwear Set',\n",
       "       'Mangalsutra', 'Bracelet'], dtype=object)"
      ]
     },
     "execution_count": 50,
     "metadata": {},
     "output_type": "execute_result"
    }
   ],
   "source": [
    "sales['Parent Product Category'].values"
   ]
  },
  {
   "cell_type": "code",
   "execution_count": 51,
   "metadata": {},
   "outputs": [
    {
     "data": {
      "text/html": [
       "<div>\n",
       "<style scoped>\n",
       "    .dataframe tbody tr th:only-of-type {\n",
       "        vertical-align: middle;\n",
       "    }\n",
       "\n",
       "    .dataframe tbody tr th {\n",
       "        vertical-align: top;\n",
       "    }\n",
       "\n",
       "    .dataframe thead th {\n",
       "        text-align: right;\n",
       "    }\n",
       "</style>\n",
       "<table border=\"1\" class=\"dataframe\">\n",
       "  <thead>\n",
       "    <tr style=\"text-align: right;\">\n",
       "      <th></th>\n",
       "      <th>Sales Date</th>\n",
       "      <th>Transaction Status</th>\n",
       "      <th>Discount</th>\n",
       "      <th>Gross Amount</th>\n",
       "      <th>Net Sales Price</th>\n",
       "      <th>Sales Person Code</th>\n",
       "      <th>Sales Person Name</th>\n",
       "      <th>Transaction ID</th>\n",
       "      <th>Design No</th>\n",
       "      <th>Serial Number</th>\n",
       "      <th>...</th>\n",
       "      <th>City</th>\n",
       "      <th>State</th>\n",
       "      <th>Emp Desgination</th>\n",
       "      <th>Emp LastDateWorked</th>\n",
       "      <th>Pan Number</th>\n",
       "      <th>TypeforSuspendedTrans</th>\n",
       "      <th>URD Discount Amount</th>\n",
       "      <th>OGADJUSTEDAMOUNT</th>\n",
       "      <th>URDADDLDEDUCITON</th>\n",
       "      <th>new col</th>\n",
       "    </tr>\n",
       "  </thead>\n",
       "  <tbody>\n",
       "    <tr>\n",
       "      <th>0</th>\n",
       "      <td>2023-09-21 12:00:00</td>\n",
       "      <td>Posted</td>\n",
       "      <td>0.00</td>\n",
       "      <td>19963.36</td>\n",
       "      <td>0.0</td>\n",
       "      <td>000983</td>\n",
       "      <td>Mahendra Reddy</td>\n",
       "      <td>113-113R1-12</td>\n",
       "      <td>OER23141-D900X0C</td>\n",
       "      <td>001850847</td>\n",
       "      <td>...</td>\n",
       "      <td>NaN</td>\n",
       "      <td>MH</td>\n",
       "      <td>NaN</td>\n",
       "      <td>1900-01-01 00:00:00.0000000</td>\n",
       "      <td>NaN</td>\n",
       "      <td>Sales</td>\n",
       "      <td>0.0</td>\n",
       "      <td>0.0</td>\n",
       "      <td>0.0</td>\n",
       "      <td>NaN</td>\n",
       "    </tr>\n",
       "    <tr>\n",
       "      <th>2</th>\n",
       "      <td>2023-09-21 12:00:00</td>\n",
       "      <td>Posted</td>\n",
       "      <td>2309.13</td>\n",
       "      <td>20782.16</td>\n",
       "      <td>0.0</td>\n",
       "      <td>000983</td>\n",
       "      <td>Mahendra Reddy</td>\n",
       "      <td>197-197R1-26</td>\n",
       "      <td>OPE20027-D900X0C</td>\n",
       "      <td>001849961</td>\n",
       "      <td>...</td>\n",
       "      <td>Mumbai</td>\n",
       "      <td>MH</td>\n",
       "      <td>NaN</td>\n",
       "      <td>1900-01-01 00:00:00.0000000</td>\n",
       "      <td>NaN</td>\n",
       "      <td>Sales</td>\n",
       "      <td>0.0</td>\n",
       "      <td>0.0</td>\n",
       "      <td>0.0</td>\n",
       "      <td>Mumbai2</td>\n",
       "    </tr>\n",
       "    <tr>\n",
       "      <th>3</th>\n",
       "      <td>2023-09-21 12:00:00</td>\n",
       "      <td>Posted</td>\n",
       "      <td>2723.76</td>\n",
       "      <td>88068.12</td>\n",
       "      <td>0.0</td>\n",
       "      <td>000983</td>\n",
       "      <td>Mahendra Reddy</td>\n",
       "      <td>118-118R1-18</td>\n",
       "      <td>OPE22050-D300X0C</td>\n",
       "      <td>001724103</td>\n",
       "      <td>...</td>\n",
       "      <td>NaN</td>\n",
       "      <td>NaN</td>\n",
       "      <td>NaN</td>\n",
       "      <td>1900-01-01 00:00:00.0000000</td>\n",
       "      <td>NaN</td>\n",
       "      <td>Sales</td>\n",
       "      <td>0.0</td>\n",
       "      <td>0.0</td>\n",
       "      <td>0.0</td>\n",
       "      <td>NaN</td>\n",
       "    </tr>\n",
       "    <tr>\n",
       "      <th>4</th>\n",
       "      <td>2023-09-22 12:00:00</td>\n",
       "      <td>Posted</td>\n",
       "      <td>0.00</td>\n",
       "      <td>-29464.00</td>\n",
       "      <td>0.0</td>\n",
       "      <td>000983</td>\n",
       "      <td>Mahendra Reddy</td>\n",
       "      <td>118-118R1-64</td>\n",
       "      <td>Other Gold</td>\n",
       "      <td>NaN</td>\n",
       "      <td>...</td>\n",
       "      <td>BEGUMPET</td>\n",
       "      <td>TS</td>\n",
       "      <td>NaN</td>\n",
       "      <td>1900-01-01 00:00:00.0000000</td>\n",
       "      <td>NaN</td>\n",
       "      <td>Sales</td>\n",
       "      <td>0.0</td>\n",
       "      <td>0.0</td>\n",
       "      <td>0.0</td>\n",
       "      <td>BEGUMPET2</td>\n",
       "    </tr>\n",
       "    <tr>\n",
       "      <th>5</th>\n",
       "      <td>2023-09-22 12:00:00</td>\n",
       "      <td>Posted</td>\n",
       "      <td>1839.75</td>\n",
       "      <td>25578.22</td>\n",
       "      <td>0.0</td>\n",
       "      <td>000983</td>\n",
       "      <td>Mahendra Reddy</td>\n",
       "      <td>118-118R1-67</td>\n",
       "      <td>MRG11040-D300TLB</td>\n",
       "      <td>001804667</td>\n",
       "      <td>...</td>\n",
       "      <td>BEGUMPET</td>\n",
       "      <td>TS</td>\n",
       "      <td>NaN</td>\n",
       "      <td>1900-01-01 00:00:00.0000000</td>\n",
       "      <td>NaN</td>\n",
       "      <td>Sales</td>\n",
       "      <td>0.0</td>\n",
       "      <td>0.0</td>\n",
       "      <td>0.0</td>\n",
       "      <td>BEGUMPET2</td>\n",
       "    </tr>\n",
       "    <tr>\n",
       "      <th>...</th>\n",
       "      <td>...</td>\n",
       "      <td>...</td>\n",
       "      <td>...</td>\n",
       "      <td>...</td>\n",
       "      <td>...</td>\n",
       "      <td>...</td>\n",
       "      <td>...</td>\n",
       "      <td>...</td>\n",
       "      <td>...</td>\n",
       "      <td>...</td>\n",
       "      <td>...</td>\n",
       "      <td>...</td>\n",
       "      <td>...</td>\n",
       "      <td>...</td>\n",
       "      <td>...</td>\n",
       "      <td>...</td>\n",
       "      <td>...</td>\n",
       "      <td>...</td>\n",
       "      <td>...</td>\n",
       "      <td>...</td>\n",
       "      <td>...</td>\n",
       "    </tr>\n",
       "    <tr>\n",
       "      <th>248222</th>\n",
       "      <td>2024-09-29 12:00:00</td>\n",
       "      <td>Posted</td>\n",
       "      <td>71452.05</td>\n",
       "      <td>285808.22</td>\n",
       "      <td>0.0</td>\n",
       "      <td>005410</td>\n",
       "      <td>NaN</td>\n",
       "      <td>118-118R1-17837</td>\n",
       "      <td>OSE22192-D309R0B</td>\n",
       "      <td>001845314</td>\n",
       "      <td>...</td>\n",
       "      <td>Hyderabad</td>\n",
       "      <td>TS</td>\n",
       "      <td>NaN</td>\n",
       "      <td>NaN</td>\n",
       "      <td>NaN</td>\n",
       "      <td>Sales</td>\n",
       "      <td>0.0</td>\n",
       "      <td>0.0</td>\n",
       "      <td>0.0</td>\n",
       "      <td>Hyderabad2</td>\n",
       "    </tr>\n",
       "    <tr>\n",
       "      <th>248223</th>\n",
       "      <td>2024-09-29 12:00:00</td>\n",
       "      <td>Posted</td>\n",
       "      <td>71584.61</td>\n",
       "      <td>328437.45</td>\n",
       "      <td>0.0</td>\n",
       "      <td>004170</td>\n",
       "      <td>Sultan Shah Makandar .</td>\n",
       "      <td>165-165R2-6911</td>\n",
       "      <td>OSN23056-D900X1C</td>\n",
       "      <td>004404822</td>\n",
       "      <td>...</td>\n",
       "      <td>Goa Margaon</td>\n",
       "      <td>GA</td>\n",
       "      <td>NaN</td>\n",
       "      <td>1900-01-01 00:00:00.0000000</td>\n",
       "      <td>NaN</td>\n",
       "      <td>Sales</td>\n",
       "      <td>0.0</td>\n",
       "      <td>0.0</td>\n",
       "      <td>0.0</td>\n",
       "      <td>Goa Margaon2</td>\n",
       "    </tr>\n",
       "    <tr>\n",
       "      <th>248224</th>\n",
       "      <td>2024-09-29 12:00:00</td>\n",
       "      <td>Posted</td>\n",
       "      <td>76655.78</td>\n",
       "      <td>231500.58</td>\n",
       "      <td>0.0</td>\n",
       "      <td>005388</td>\n",
       "      <td>SUBRAJITH DALAI</td>\n",
       "      <td>212-212R1-7641</td>\n",
       "      <td>OSN23050-D911X1C</td>\n",
       "      <td>004331496</td>\n",
       "      <td>...</td>\n",
       "      <td>Bangalore</td>\n",
       "      <td>KA</td>\n",
       "      <td>NaN</td>\n",
       "      <td>1900-01-01 00:00:00.0000000</td>\n",
       "      <td>NaN</td>\n",
       "      <td>Sales</td>\n",
       "      <td>0.0</td>\n",
       "      <td>0.0</td>\n",
       "      <td>0.0</td>\n",
       "      <td>Bangalore2</td>\n",
       "    </tr>\n",
       "    <tr>\n",
       "      <th>248225</th>\n",
       "      <td>2024-09-29 12:00:00</td>\n",
       "      <td>Posted</td>\n",
       "      <td>88994.25</td>\n",
       "      <td>355976.98</td>\n",
       "      <td>0.0</td>\n",
       "      <td>004767</td>\n",
       "      <td>Dipalee Matelkar</td>\n",
       "      <td>229-229R1-10691</td>\n",
       "      <td>OTN23V04-D400XMB</td>\n",
       "      <td>004404700</td>\n",
       "      <td>...</td>\n",
       "      <td>NaN</td>\n",
       "      <td>NaN</td>\n",
       "      <td>Sales Officer</td>\n",
       "      <td>1900-01-01 00:00:00.0000000</td>\n",
       "      <td>NaN</td>\n",
       "      <td>Sales</td>\n",
       "      <td>0.0</td>\n",
       "      <td>0.0</td>\n",
       "      <td>0.0</td>\n",
       "      <td>NaN</td>\n",
       "    </tr>\n",
       "    <tr>\n",
       "      <th>248226</th>\n",
       "      <td>2024-09-29 12:00:00</td>\n",
       "      <td>Posted</td>\n",
       "      <td>104425.15</td>\n",
       "      <td>313275.45</td>\n",
       "      <td>0.0</td>\n",
       "      <td>005888</td>\n",
       "      <td>SANJAY SHARMA</td>\n",
       "      <td>243-243R1-3593</td>\n",
       "      <td>OBF23031-A300WEB</td>\n",
       "      <td>004196577</td>\n",
       "      <td>...</td>\n",
       "      <td>Ahmedabad</td>\n",
       "      <td>GJ</td>\n",
       "      <td>Sales Officer</td>\n",
       "      <td>1900-01-01 00:00:00.0000000</td>\n",
       "      <td>NaN</td>\n",
       "      <td>Sales</td>\n",
       "      <td>0.0</td>\n",
       "      <td>0.0</td>\n",
       "      <td>0.0</td>\n",
       "      <td>Ahmedabad2</td>\n",
       "    </tr>\n",
       "  </tbody>\n",
       "</table>\n",
       "<p>248226 rows × 81 columns</p>\n",
       "</div>"
      ],
      "text/plain": [
       "                Sales Date Transaction Status   Discount  Gross Amount  \\\n",
       "0      2023-09-21 12:00:00             Posted       0.00      19963.36   \n",
       "2      2023-09-21 12:00:00             Posted    2309.13      20782.16   \n",
       "3      2023-09-21 12:00:00             Posted    2723.76      88068.12   \n",
       "4      2023-09-22 12:00:00             Posted       0.00     -29464.00   \n",
       "5      2023-09-22 12:00:00             Posted    1839.75      25578.22   \n",
       "...                    ...                ...        ...           ...   \n",
       "248222 2024-09-29 12:00:00             Posted   71452.05     285808.22   \n",
       "248223 2024-09-29 12:00:00             Posted   71584.61     328437.45   \n",
       "248224 2024-09-29 12:00:00             Posted   76655.78     231500.58   \n",
       "248225 2024-09-29 12:00:00             Posted   88994.25     355976.98   \n",
       "248226 2024-09-29 12:00:00             Posted  104425.15     313275.45   \n",
       "\n",
       "        Net Sales Price Sales Person Code       Sales Person Name  \\\n",
       "0                   0.0            000983          Mahendra Reddy   \n",
       "2                   0.0            000983          Mahendra Reddy   \n",
       "3                   0.0            000983          Mahendra Reddy   \n",
       "4                   0.0            000983          Mahendra Reddy   \n",
       "5                   0.0            000983          Mahendra Reddy   \n",
       "...                 ...               ...                     ...   \n",
       "248222              0.0            005410                     NaN   \n",
       "248223              0.0            004170  Sultan Shah Makandar .   \n",
       "248224              0.0            005388         SUBRAJITH DALAI   \n",
       "248225              0.0            004767        Dipalee Matelkar   \n",
       "248226              0.0            005888           SANJAY SHARMA   \n",
       "\n",
       "         Transaction ID         Design No Serial Number  ...         City  \\\n",
       "0          113-113R1-12  OER23141-D900X0C     001850847  ...          NaN   \n",
       "2          197-197R1-26  OPE20027-D900X0C     001849961  ...       Mumbai   \n",
       "3          118-118R1-18  OPE22050-D300X0C     001724103  ...          NaN   \n",
       "4          118-118R1-64        Other Gold           NaN  ...     BEGUMPET   \n",
       "5          118-118R1-67  MRG11040-D300TLB     001804667  ...     BEGUMPET   \n",
       "...                 ...               ...           ...  ...          ...   \n",
       "248222  118-118R1-17837  OSE22192-D309R0B     001845314  ...    Hyderabad   \n",
       "248223   165-165R2-6911  OSN23056-D900X1C     004404822  ...  Goa Margaon   \n",
       "248224   212-212R1-7641  OSN23050-D911X1C     004331496  ...    Bangalore   \n",
       "248225  229-229R1-10691  OTN23V04-D400XMB     004404700  ...          NaN   \n",
       "248226   243-243R1-3593  OBF23031-A300WEB     004196577  ...    Ahmedabad   \n",
       "\n",
       "       State  Emp Desgination           Emp LastDateWorked Pan Number  \\\n",
       "0         MH              NaN  1900-01-01 00:00:00.0000000        NaN   \n",
       "2         MH              NaN  1900-01-01 00:00:00.0000000        NaN   \n",
       "3        NaN              NaN  1900-01-01 00:00:00.0000000        NaN   \n",
       "4         TS              NaN  1900-01-01 00:00:00.0000000        NaN   \n",
       "5         TS              NaN  1900-01-01 00:00:00.0000000        NaN   \n",
       "...      ...              ...                          ...        ...   \n",
       "248222    TS              NaN                          NaN        NaN   \n",
       "248223    GA              NaN  1900-01-01 00:00:00.0000000        NaN   \n",
       "248224    KA              NaN  1900-01-01 00:00:00.0000000        NaN   \n",
       "248225   NaN    Sales Officer  1900-01-01 00:00:00.0000000        NaN   \n",
       "248226    GJ    Sales Officer  1900-01-01 00:00:00.0000000        NaN   \n",
       "\n",
       "       TypeforSuspendedTrans URD Discount Amount OGADJUSTEDAMOUNT  \\\n",
       "0                      Sales                 0.0              0.0   \n",
       "2                      Sales                 0.0              0.0   \n",
       "3                      Sales                 0.0              0.0   \n",
       "4                      Sales                 0.0              0.0   \n",
       "5                      Sales                 0.0              0.0   \n",
       "...                      ...                 ...              ...   \n",
       "248222                 Sales                 0.0              0.0   \n",
       "248223                 Sales                 0.0              0.0   \n",
       "248224                 Sales                 0.0              0.0   \n",
       "248225                 Sales                 0.0              0.0   \n",
       "248226                 Sales                 0.0              0.0   \n",
       "\n",
       "       URDADDLDEDUCITON       new col  \n",
       "0                   0.0           NaN  \n",
       "2                   0.0       Mumbai2  \n",
       "3                   0.0           NaN  \n",
       "4                   0.0     BEGUMPET2  \n",
       "5                   0.0     BEGUMPET2  \n",
       "...                 ...           ...  \n",
       "248222              0.0    Hyderabad2  \n",
       "248223              0.0  Goa Margaon2  \n",
       "248224              0.0    Bangalore2  \n",
       "248225              0.0           NaN  \n",
       "248226              0.0    Ahmedabad2  \n",
       "\n",
       "[248226 rows x 81 columns]"
      ]
     },
     "execution_count": 51,
     "metadata": {},
     "output_type": "execute_result"
    }
   ],
   "source": [
    "sales.drop(index=1)"
   ]
  },
  {
   "cell_type": "code",
   "execution_count": 52,
   "metadata": {},
   "outputs": [
    {
     "data": {
      "text/plain": [
       "array([ 1, 32, 34, 56, 43, 56])"
      ]
     },
     "execution_count": 52,
     "metadata": {},
     "output_type": "execute_result"
    }
   ],
   "source": [
    "a=[1,32,34,56,43,56]\n",
    "a\n",
    "b=np.array(a)\n",
    "b"
   ]
  },
  {
   "cell_type": "code",
   "execution_count": 53,
   "metadata": {},
   "outputs": [],
   "source": [
    "b=b.astype('int32')"
   ]
  },
  {
   "cell_type": "code",
   "execution_count": 54,
   "metadata": {},
   "outputs": [
    {
     "data": {
      "text/plain": [
       "array([ 1, 32, 34, 56, 43, 56], dtype=int32)"
      ]
     },
     "execution_count": 54,
     "metadata": {},
     "output_type": "execute_result"
    }
   ],
   "source": [
    "b"
   ]
  },
  {
   "cell_type": "code",
   "execution_count": 55,
   "metadata": {},
   "outputs": [
    {
     "data": {
      "text/plain": [
       "True"
      ]
     },
     "execution_count": 55,
     "metadata": {},
     "output_type": "execute_result"
    }
   ],
   "source": [
    "def find_vk(a):\n",
    "    return\\\n",
    "'V Kolhi' in a\n",
    "\n",
    "find_vk(['V Kolhi','R Sharma','MS Dhoni'])"
   ]
  },
  {
   "cell_type": "code",
   "execution_count": 56,
   "metadata": {},
   "outputs": [
    {
     "data": {
      "text/plain": [
       "<pandas.core.groupby.generic.DataFrameGroupBy object at 0x000001437AFA3250>"
      ]
     },
     "execution_count": 56,
     "metadata": {},
     "output_type": "execute_result"
    }
   ],
   "source": [
    "sales[['Gross Amount','Parent Product Category']].groupby('Parent Product Category')"
   ]
  },
  {
   "cell_type": "code",
   "execution_count": 57,
   "metadata": {},
   "outputs": [
    {
     "data": {
      "text/plain": [
       "Index(['Sales Date', 'Transaction Status', 'Discount', 'Gross Amount',\n",
       "       'Net Sales Price', 'Sales Person Code', 'Sales Person Name',\n",
       "       'Transaction ID', 'Design No', 'Serial Number', 'Customer ID',\n",
       "       'DataAreaID', 'Warehouse', 'Store Name', 'Store Code', 'Type of Store',\n",
       "       'Region', 'Sales Order ID', 'Customer Name', 'Bill No', 'Cost Price',\n",
       "       'Weight Range', 'Sales Price', 'Price Range', 'Stone Value',\n",
       "       'Diamond Value', 'Gold Value', 'Palladium Value', 'Platinum Value',\n",
       "       'Hallmarking Value', 'Handling Value', 'Silver Value', 'Setting Value',\n",
       "       'Labour Value', 'Wastage Amount', 'Second Wastage Amount',\n",
       "       'Other Charges', 'IGI Amount', 'PGI Amount', 'TRANSDATE',\n",
       "       'Product Category', 'PlainStudded', 'Type of jewellery', 'Collection',\n",
       "       'Design Type', 'Kt', 'Brand', 'Sub Brand', 'Parent Product Category',\n",
       "       'Product', 'Sub Product', 'Incentive Category', 'Gross Weight',\n",
       "       'Revised Selling Price', 'GST Amount', 'URDType', 'Type',\n",
       "       'Business Category', 'Qty', 'Sale Type', 'EMI Type', 'Scheme Type',\n",
       "       'Customer Type', 'Diamond Weight', 'Diamond Pieces', 'Stone Weight',\n",
       "       'Stone Pieces', 'Net Weight', 'GPP Account No', 'No of GPP Accounts',\n",
       "       'Mobile Number', 'City', 'State', 'Emp Desgination',\n",
       "       'Emp LastDateWorked', 'Pan Number', 'TypeforSuspendedTrans',\n",
       "       'URD Discount Amount', 'OGADJUSTEDAMOUNT', 'URDADDLDEDUCITON',\n",
       "       'new col'],\n",
       "      dtype='object')"
      ]
     },
     "execution_count": 57,
     "metadata": {},
     "output_type": "execute_result"
    }
   ],
   "source": [
    "sales.columns"
   ]
  },
  {
   "cell_type": "code",
   "execution_count": 58,
   "metadata": {},
   "outputs": [
    {
     "data": {
      "text/html": [
       "<div>\n",
       "<style scoped>\n",
       "    .dataframe tbody tr th:only-of-type {\n",
       "        vertical-align: middle;\n",
       "    }\n",
       "\n",
       "    .dataframe tbody tr th {\n",
       "        vertical-align: top;\n",
       "    }\n",
       "\n",
       "    .dataframe thead th {\n",
       "        text-align: right;\n",
       "    }\n",
       "</style>\n",
       "<table border=\"1\" class=\"dataframe\">\n",
       "  <thead>\n",
       "    <tr style=\"text-align: right;\">\n",
       "      <th></th>\n",
       "      <th></th>\n",
       "      <th>Gross Amount</th>\n",
       "    </tr>\n",
       "    <tr>\n",
       "      <th>Product Category</th>\n",
       "      <th>PlainStudded</th>\n",
       "      <th></th>\n",
       "    </tr>\n",
       "  </thead>\n",
       "  <tbody>\n",
       "    <tr>\n",
       "      <th rowspan=\"14\" valign=\"top\">Diamond Jewelry</th>\n",
       "      <th>General</th>\n",
       "      <td>105559.815753</td>\n",
       "    </tr>\n",
       "    <tr>\n",
       "      <th>Large Solitaire</th>\n",
       "      <td>443513.814495</td>\n",
       "    </tr>\n",
       "    <tr>\n",
       "      <th>Lilitaire</th>\n",
       "      <td>68589.710278</td>\n",
       "    </tr>\n",
       "    <tr>\n",
       "      <th>Medium Solitaire</th>\n",
       "      <td>102291.977400</td>\n",
       "    </tr>\n",
       "    <tr>\n",
       "      <th>Plain</th>\n",
       "      <td>17791.313594</td>\n",
       "    </tr>\n",
       "    <tr>\n",
       "      <th>Plain-Dual Metal</th>\n",
       "      <td>38601.368889</td>\n",
       "    </tr>\n",
       "    <tr>\n",
       "      <th>STUDDED</th>\n",
       "      <td>175452.420000</td>\n",
       "    </tr>\n",
       "    <tr>\n",
       "      <th>Small Solitaire</th>\n",
       "      <td>61563.318176</td>\n",
       "    </tr>\n",
       "    <tr>\n",
       "      <th>Studded</th>\n",
       "      <td>66622.398578</td>\n",
       "    </tr>\n",
       "    <tr>\n",
       "      <th>Studded - Dual Metal</th>\n",
       "      <td>57998.935567</td>\n",
       "    </tr>\n",
       "    <tr>\n",
       "      <th>Studded - TT</th>\n",
       "      <td>-123063.488571</td>\n",
       "    </tr>\n",
       "    <tr>\n",
       "      <th>Studded- Duel metal</th>\n",
       "      <td>-26706.000000</td>\n",
       "    </tr>\n",
       "    <tr>\n",
       "      <th>plain</th>\n",
       "      <td>29604.420000</td>\n",
       "    </tr>\n",
       "    <tr>\n",
       "      <th>studded</th>\n",
       "      <td>100847.917087</td>\n",
       "    </tr>\n",
       "    <tr>\n",
       "      <th>FG_DJ</th>\n",
       "      <th>Studded</th>\n",
       "      <td>-68579.000000</td>\n",
       "    </tr>\n",
       "    <tr>\n",
       "      <th rowspan=\"2\" valign=\"top\">Gold Coin</th>\n",
       "      <th>Plain</th>\n",
       "      <td>6270.069245</td>\n",
       "    </tr>\n",
       "    <tr>\n",
       "      <th>Studded</th>\n",
       "      <td>34537.791250</td>\n",
       "    </tr>\n",
       "    <tr>\n",
       "      <th rowspan=\"4\" valign=\"top\">Gold Jewelry</th>\n",
       "      <th>General</th>\n",
       "      <td>98176.392000</td>\n",
       "    </tr>\n",
       "    <tr>\n",
       "      <th>Plain</th>\n",
       "      <td>71980.718963</td>\n",
       "    </tr>\n",
       "    <tr>\n",
       "      <th>Studded</th>\n",
       "      <td>61723.687500</td>\n",
       "    </tr>\n",
       "    <tr>\n",
       "      <th>plain</th>\n",
       "      <td>295451.136667</td>\n",
       "    </tr>\n",
       "    <tr>\n",
       "      <th rowspan=\"3\" valign=\"top\">Loose Solitaire</th>\n",
       "      <th>General</th>\n",
       "      <td>91026.508938</td>\n",
       "    </tr>\n",
       "    <tr>\n",
       "      <th>Large Solitaire</th>\n",
       "      <td>432487.140000</td>\n",
       "    </tr>\n",
       "    <tr>\n",
       "      <th>Medium Solitaire</th>\n",
       "      <td>71300.000000</td>\n",
       "    </tr>\n",
       "    <tr>\n",
       "      <th rowspan=\"16\" valign=\"top\">Platinum Jewelry</th>\n",
       "      <th>General</th>\n",
       "      <td>-43747.000000</td>\n",
       "    </tr>\n",
       "    <tr>\n",
       "      <th>Large Solitaire</th>\n",
       "      <td>460268.000000</td>\n",
       "    </tr>\n",
       "    <tr>\n",
       "      <th>Lilitaire</th>\n",
       "      <td>-31219.000000</td>\n",
       "    </tr>\n",
       "    <tr>\n",
       "      <th>Medium Solitaire</th>\n",
       "      <td>103746.746124</td>\n",
       "    </tr>\n",
       "    <tr>\n",
       "      <th>PLAIN</th>\n",
       "      <td>-22319.000000</td>\n",
       "    </tr>\n",
       "    <tr>\n",
       "      <th>Plain</th>\n",
       "      <td>61973.573906</td>\n",
       "    </tr>\n",
       "    <tr>\n",
       "      <th>Plain - Dual Metal</th>\n",
       "      <td>-50123.000000</td>\n",
       "    </tr>\n",
       "    <tr>\n",
       "      <th>Plain-Dual Metal</th>\n",
       "      <td>63085.640365</td>\n",
       "    </tr>\n",
       "    <tr>\n",
       "      <th>Plain-TT</th>\n",
       "      <td>-48774.284000</td>\n",
       "    </tr>\n",
       "    <tr>\n",
       "      <th>Small Solitaire</th>\n",
       "      <td>38612.479031</td>\n",
       "    </tr>\n",
       "    <tr>\n",
       "      <th>Small Solitaire - Dual Metal</th>\n",
       "      <td>33810.713420</td>\n",
       "    </tr>\n",
       "    <tr>\n",
       "      <th>Studded</th>\n",
       "      <td>30118.281703</td>\n",
       "    </tr>\n",
       "    <tr>\n",
       "      <th>Studded - Dual Metal</th>\n",
       "      <td>38699.309157</td>\n",
       "    </tr>\n",
       "    <tr>\n",
       "      <th>Studded - TT</th>\n",
       "      <td>-50543.500000</td>\n",
       "    </tr>\n",
       "    <tr>\n",
       "      <th>plain</th>\n",
       "      <td>61469.518571</td>\n",
       "    </tr>\n",
       "    <tr>\n",
       "      <th>studded</th>\n",
       "      <td>66311.184706</td>\n",
       "    </tr>\n",
       "    <tr>\n",
       "      <th>Proto</th>\n",
       "      <th>Studded</th>\n",
       "      <td>0.000000</td>\n",
       "    </tr>\n",
       "    <tr>\n",
       "      <th>Silver Coin</th>\n",
       "      <th>Plain</th>\n",
       "      <td>232.482123</td>\n",
       "    </tr>\n",
       "    <tr>\n",
       "      <th>Silver Jewelry</th>\n",
       "      <th>Plain</th>\n",
       "      <td>1065.662338</td>\n",
       "    </tr>\n",
       "  </tbody>\n",
       "</table>\n",
       "</div>"
      ],
      "text/plain": [
       "                                                Gross Amount\n",
       "Product Category PlainStudded                               \n",
       "Diamond Jewelry  General                       105559.815753\n",
       "                 Large Solitaire               443513.814495\n",
       "                 Lilitaire                      68589.710278\n",
       "                 Medium Solitaire              102291.977400\n",
       "                 Plain                          17791.313594\n",
       "                 Plain-Dual Metal               38601.368889\n",
       "                 STUDDED                       175452.420000\n",
       "                 Small Solitaire                61563.318176\n",
       "                 Studded                        66622.398578\n",
       "                 Studded - Dual Metal           57998.935567\n",
       "                 Studded - TT                 -123063.488571\n",
       "                 Studded- Duel metal           -26706.000000\n",
       "                 plain                          29604.420000\n",
       "                 studded                       100847.917087\n",
       "FG_DJ            Studded                       -68579.000000\n",
       "Gold Coin        Plain                           6270.069245\n",
       "                 Studded                        34537.791250\n",
       "Gold Jewelry     General                        98176.392000\n",
       "                 Plain                          71980.718963\n",
       "                 Studded                        61723.687500\n",
       "                 plain                         295451.136667\n",
       "Loose Solitaire  General                        91026.508938\n",
       "                 Large Solitaire               432487.140000\n",
       "                 Medium Solitaire               71300.000000\n",
       "Platinum Jewelry General                       -43747.000000\n",
       "                 Large Solitaire               460268.000000\n",
       "                 Lilitaire                     -31219.000000\n",
       "                 Medium Solitaire              103746.746124\n",
       "                 PLAIN                         -22319.000000\n",
       "                 Plain                          61973.573906\n",
       "                 Plain - Dual Metal            -50123.000000\n",
       "                 Plain-Dual Metal               63085.640365\n",
       "                 Plain-TT                      -48774.284000\n",
       "                 Small Solitaire                38612.479031\n",
       "                 Small Solitaire - Dual Metal   33810.713420\n",
       "                 Studded                        30118.281703\n",
       "                 Studded - Dual Metal           38699.309157\n",
       "                 Studded - TT                  -50543.500000\n",
       "                 plain                          61469.518571\n",
       "                 studded                        66311.184706\n",
       "Proto            Studded                            0.000000\n",
       "Silver Coin      Plain                            232.482123\n",
       "Silver Jewelry   Plain                           1065.662338"
      ]
     },
     "execution_count": 58,
     "metadata": {},
     "output_type": "execute_result"
    }
   ],
   "source": [
    "a=sales[['Product Category','PlainStudded','Gross Amount']].groupby(['Product Category','PlainStudded']).mean()\n",
    "a\n"
   ]
  },
  {
   "cell_type": "code",
   "execution_count": 59,
   "metadata": {},
   "outputs": [
    {
     "data": {
      "text/plain": [
       "<Axes: xlabel='Sales Date'>"
      ]
     },
     "execution_count": 59,
     "metadata": {},
     "output_type": "execute_result"
    },
    {
     "data": {
      "image/png": "[encoded data removed]",
      "text/plain": [
       "<Figure size 640x480 with 1 Axes>"
      ]
     },
     "metadata": {},
     "output_type": "display_data"
    }
   ],
   "source": [
    "a=sales[sales['Product Category']=='Diamond Jewelry'][['Sales Date','Gross Amount']]\\\n",
    "    .groupby('Sales Date').mean()\n",
    "a.sort_index(ascending=False).plot(kind='area')"
   ]
  },
  {
   "cell_type": "code",
   "execution_count": 60,
   "metadata": {},
   "outputs": [
    {
     "name": "stdout",
     "output_type": "stream",
     "text": [
      "Product Category\n",
      "Diamond Jewelry     7.436733e+09\n",
      "FG_DJ              -1.371580e+05\n",
      "Gold Coin           1.746344e+08\n",
      "Gold Jewelry        1.450733e+08\n",
      "Loose Solitaire     1.071417e+08\n",
      "Platinum Jewelry    6.607097e+08\n",
      "Proto               0.000000e+00\n",
      "Silver Coin         1.204606e+07\n",
      "Silver Jewelry      1.545210e+06\n",
      "Name: Gross Amount, dtype: float64\n"
     ]
    }
   ],
   "source": [
    "# Grouping by 'Product Category' and summing 'Gross Amount'\n",
    "grouped_sales = sales.groupby('Product Category')['Gross Amount'].sum()\n",
    "\n",
    "# Now printing the result\n",
    "print(grouped_sales)\n"
   ]
  },
  {
   "cell_type": "code",
   "execution_count": 61,
   "metadata": {},
   "outputs": [
    {
     "data": {
      "text/plain": [
       "Index(['Discount', 'Gross Amount', 'Net Sales Price', 'Warehouse',\n",
       "       'Cost Price', 'Sales Price', 'Stone Value', 'Diamond Value',\n",
       "       'Gold Value', 'Palladium Value', 'Platinum Value', 'Hallmarking Value',\n",
       "       'Handling Value', 'Silver Value', 'Setting Value', 'Labour Value',\n",
       "       'Wastage Amount', 'Second Wastage Amount', 'Other Charges',\n",
       "       'IGI Amount', 'PGI Amount', 'Gross Weight', 'Revised Selling Price',\n",
       "       'GST Amount', 'Qty', 'Diamond Weight', 'Diamond Pieces', 'Stone Weight',\n",
       "       'Stone Pieces', 'Net Weight', 'No of GPP Accounts',\n",
       "       'URD Discount Amount', 'OGADJUSTEDAMOUNT', 'URDADDLDEDUCITON'],\n",
       "      dtype='object')"
      ]
     },
     "execution_count": 61,
     "metadata": {},
     "output_type": "execute_result"
    }
   ],
   "source": [
    "sales[sales['Type']=='Return'].select_dtypes(include='number').columns"
   ]
  },
  {
   "cell_type": "code",
   "execution_count": 62,
   "metadata": {},
   "outputs": [
    {
     "data": {
      "text/html": [
       "<div>\n",
       "<style scoped>\n",
       "    .dataframe tbody tr th:only-of-type {\n",
       "        vertical-align: middle;\n",
       "    }\n",
       "\n",
       "    .dataframe tbody tr th {\n",
       "        vertical-align: top;\n",
       "    }\n",
       "\n",
       "    .dataframe thead th {\n",
       "        text-align: right;\n",
       "    }\n",
       "</style>\n",
       "<table border=\"1\" class=\"dataframe\">\n",
       "  <thead>\n",
       "    <tr style=\"text-align: right;\">\n",
       "      <th></th>\n",
       "      <th>Discount</th>\n",
       "      <th>Gross Amount</th>\n",
       "      <th>Net Sales Price</th>\n",
       "      <th>Warehouse</th>\n",
       "      <th>Cost Price</th>\n",
       "      <th>Sales Price</th>\n",
       "      <th>Stone Value</th>\n",
       "      <th>Diamond Value</th>\n",
       "      <th>Gold Value</th>\n",
       "      <th>Palladium Value</th>\n",
       "      <th>...</th>\n",
       "      <th>Qty</th>\n",
       "      <th>Diamond Weight</th>\n",
       "      <th>Diamond Pieces</th>\n",
       "      <th>Stone Weight</th>\n",
       "      <th>Stone Pieces</th>\n",
       "      <th>Net Weight</th>\n",
       "      <th>No of GPP Accounts</th>\n",
       "      <th>URD Discount Amount</th>\n",
       "      <th>OGADJUSTEDAMOUNT</th>\n",
       "      <th>URDADDLDEDUCITON</th>\n",
       "    </tr>\n",
       "  </thead>\n",
       "  <tbody>\n",
       "    <tr>\n",
       "      <th>26</th>\n",
       "      <td>0.00</td>\n",
       "      <td>-14781.90</td>\n",
       "      <td>0.0</td>\n",
       "      <td>132</td>\n",
       "      <td>752.000000</td>\n",
       "      <td>826.10</td>\n",
       "      <td>0.0</td>\n",
       "      <td>0.00</td>\n",
       "      <td>0.00000</td>\n",
       "      <td>0.0</td>\n",
       "      <td>...</td>\n",
       "      <td>-1</td>\n",
       "      <td>0.00</td>\n",
       "      <td>0.0</td>\n",
       "      <td>0.0</td>\n",
       "      <td>0.0</td>\n",
       "      <td>10.000</td>\n",
       "      <td>NaN</td>\n",
       "      <td>0.0</td>\n",
       "      <td>0.0</td>\n",
       "      <td>0.0</td>\n",
       "    </tr>\n",
       "    <tr>\n",
       "      <th>31</th>\n",
       "      <td>0.00</td>\n",
       "      <td>-256021.52</td>\n",
       "      <td>0.0</td>\n",
       "      <td>168</td>\n",
       "      <td>146714.120000</td>\n",
       "      <td>254202.65</td>\n",
       "      <td>0.0</td>\n",
       "      <td>36860.00</td>\n",
       "      <td>95341.87000</td>\n",
       "      <td>0.0</td>\n",
       "      <td>...</td>\n",
       "      <td>-1</td>\n",
       "      <td>0.97</td>\n",
       "      <td>53.0</td>\n",
       "      <td>0.0</td>\n",
       "      <td>0.0</td>\n",
       "      <td>21.256</td>\n",
       "      <td>NaN</td>\n",
       "      <td>0.0</td>\n",
       "      <td>0.0</td>\n",
       "      <td>0.0</td>\n",
       "    </tr>\n",
       "    <tr>\n",
       "      <th>149</th>\n",
       "      <td>0.00</td>\n",
       "      <td>-81929.84</td>\n",
       "      <td>0.0</td>\n",
       "      <td>113</td>\n",
       "      <td>29529.020000</td>\n",
       "      <td>81365.97</td>\n",
       "      <td>0.0</td>\n",
       "      <td>16765.00</td>\n",
       "      <td>10463.20000</td>\n",
       "      <td>0.0</td>\n",
       "      <td>...</td>\n",
       "      <td>-1</td>\n",
       "      <td>0.59</td>\n",
       "      <td>110.0</td>\n",
       "      <td>0.0</td>\n",
       "      <td>0.0</td>\n",
       "      <td>3.002</td>\n",
       "      <td>NaN</td>\n",
       "      <td>0.0</td>\n",
       "      <td>0.0</td>\n",
       "      <td>0.0</td>\n",
       "    </tr>\n",
       "    <tr>\n",
       "      <th>150</th>\n",
       "      <td>0.00</td>\n",
       "      <td>-132872.12</td>\n",
       "      <td>0.0</td>\n",
       "      <td>113</td>\n",
       "      <td>61543.910000</td>\n",
       "      <td>126554.40</td>\n",
       "      <td>0.0</td>\n",
       "      <td>13790.00</td>\n",
       "      <td>40148.90000</td>\n",
       "      <td>0.0</td>\n",
       "      <td>...</td>\n",
       "      <td>-1</td>\n",
       "      <td>0.70</td>\n",
       "      <td>114.0</td>\n",
       "      <td>0.0</td>\n",
       "      <td>0.0</td>\n",
       "      <td>11.700</td>\n",
       "      <td>NaN</td>\n",
       "      <td>0.0</td>\n",
       "      <td>0.0</td>\n",
       "      <td>0.0</td>\n",
       "    </tr>\n",
       "    <tr>\n",
       "      <th>378</th>\n",
       "      <td>-31490.72</td>\n",
       "      <td>-94472.14</td>\n",
       "      <td>0.0</td>\n",
       "      <td>118</td>\n",
       "      <td>40007.020000</td>\n",
       "      <td>151495.00</td>\n",
       "      <td>0.0</td>\n",
       "      <td>35093.31</td>\n",
       "      <td>3397.60000</td>\n",
       "      <td>0.0</td>\n",
       "      <td>...</td>\n",
       "      <td>-1</td>\n",
       "      <td>0.49</td>\n",
       "      <td>2.0</td>\n",
       "      <td>0.0</td>\n",
       "      <td>0.0</td>\n",
       "      <td>1.592</td>\n",
       "      <td>NaN</td>\n",
       "      <td>NaN</td>\n",
       "      <td>NaN</td>\n",
       "      <td>NaN</td>\n",
       "    </tr>\n",
       "    <tr>\n",
       "      <th>...</th>\n",
       "      <td>...</td>\n",
       "      <td>...</td>\n",
       "      <td>...</td>\n",
       "      <td>...</td>\n",
       "      <td>...</td>\n",
       "      <td>...</td>\n",
       "      <td>...</td>\n",
       "      <td>...</td>\n",
       "      <td>...</td>\n",
       "      <td>...</td>\n",
       "      <td>...</td>\n",
       "      <td>...</td>\n",
       "      <td>...</td>\n",
       "      <td>...</td>\n",
       "      <td>...</td>\n",
       "      <td>...</td>\n",
       "      <td>...</td>\n",
       "      <td>...</td>\n",
       "      <td>...</td>\n",
       "      <td>...</td>\n",
       "      <td>...</td>\n",
       "    </tr>\n",
       "    <tr>\n",
       "      <th>247659</th>\n",
       "      <td>-10352.09</td>\n",
       "      <td>-93168.81</td>\n",
       "      <td>0.0</td>\n",
       "      <td>121</td>\n",
       "      <td>34033.580000</td>\n",
       "      <td>102773.09</td>\n",
       "      <td>0.0</td>\n",
       "      <td>19695.00</td>\n",
       "      <td>11690.82700</td>\n",
       "      <td>0.0</td>\n",
       "      <td>...</td>\n",
       "      <td>-1</td>\n",
       "      <td>0.69</td>\n",
       "      <td>99.0</td>\n",
       "      <td>0.0</td>\n",
       "      <td>0.0</td>\n",
       "      <td>2.592</td>\n",
       "      <td>NaN</td>\n",
       "      <td>0.0</td>\n",
       "      <td>0.0</td>\n",
       "      <td>0.0</td>\n",
       "    </tr>\n",
       "    <tr>\n",
       "      <th>247660</th>\n",
       "      <td>-5406.17</td>\n",
       "      <td>-48655.55</td>\n",
       "      <td>0.0</td>\n",
       "      <td>235</td>\n",
       "      <td>31346.513120</td>\n",
       "      <td>54218.08</td>\n",
       "      <td>0.0</td>\n",
       "      <td>8664.00</td>\n",
       "      <td>19909.31712</td>\n",
       "      <td>0.0</td>\n",
       "      <td>...</td>\n",
       "      <td>-1</td>\n",
       "      <td>0.16</td>\n",
       "      <td>1.0</td>\n",
       "      <td>0.0</td>\n",
       "      <td>0.0</td>\n",
       "      <td>3.668</td>\n",
       "      <td>NaN</td>\n",
       "      <td>0.0</td>\n",
       "      <td>0.0</td>\n",
       "      <td>0.0</td>\n",
       "    </tr>\n",
       "    <tr>\n",
       "      <th>247661</th>\n",
       "      <td>-4474.98</td>\n",
       "      <td>-40274.86</td>\n",
       "      <td>0.0</td>\n",
       "      <td>235</td>\n",
       "      <td>19398.860160</td>\n",
       "      <td>44456.58</td>\n",
       "      <td>0.0</td>\n",
       "      <td>6210.00</td>\n",
       "      <td>11614.16416</td>\n",
       "      <td>0.0</td>\n",
       "      <td>...</td>\n",
       "      <td>-1</td>\n",
       "      <td>0.23</td>\n",
       "      <td>55.0</td>\n",
       "      <td>0.0</td>\n",
       "      <td>0.0</td>\n",
       "      <td>2.104</td>\n",
       "      <td>NaN</td>\n",
       "      <td>0.0</td>\n",
       "      <td>0.0</td>\n",
       "      <td>0.0</td>\n",
       "    </tr>\n",
       "    <tr>\n",
       "      <th>247662</th>\n",
       "      <td>-3554.50</td>\n",
       "      <td>-31990.51</td>\n",
       "      <td>0.0</td>\n",
       "      <td>245</td>\n",
       "      <td>19054.959999</td>\n",
       "      <td>35501.86</td>\n",
       "      <td>0.0</td>\n",
       "      <td>3270.00</td>\n",
       "      <td>13912.02000</td>\n",
       "      <td>0.0</td>\n",
       "      <td>...</td>\n",
       "      <td>-1</td>\n",
       "      <td>0.12</td>\n",
       "      <td>7.0</td>\n",
       "      <td>0.0</td>\n",
       "      <td>0.0</td>\n",
       "      <td>2.576</td>\n",
       "      <td>NaN</td>\n",
       "      <td>0.0</td>\n",
       "      <td>0.0</td>\n",
       "      <td>0.0</td>\n",
       "    </tr>\n",
       "    <tr>\n",
       "      <th>247663</th>\n",
       "      <td>-2500.03</td>\n",
       "      <td>-14166.84</td>\n",
       "      <td>0.0</td>\n",
       "      <td>215</td>\n",
       "      <td>6734.284967</td>\n",
       "      <td>16666.87</td>\n",
       "      <td>0.0</td>\n",
       "      <td>1920.00</td>\n",
       "      <td>3618.79000</td>\n",
       "      <td>0.0</td>\n",
       "      <td>...</td>\n",
       "      <td>-1</td>\n",
       "      <td>0.08</td>\n",
       "      <td>6.0</td>\n",
       "      <td>0.0</td>\n",
       "      <td>0.0</td>\n",
       "      <td>0.844</td>\n",
       "      <td>NaN</td>\n",
       "      <td>NaN</td>\n",
       "      <td>NaN</td>\n",
       "      <td>NaN</td>\n",
       "    </tr>\n",
       "  </tbody>\n",
       "</table>\n",
       "<p>4898 rows × 34 columns</p>\n",
       "</div>"
      ],
      "text/plain": [
       "        Discount  Gross Amount  Net Sales Price  Warehouse     Cost Price  \\\n",
       "26          0.00     -14781.90              0.0        132     752.000000   \n",
       "31          0.00    -256021.52              0.0        168  146714.120000   \n",
       "149         0.00     -81929.84              0.0        113   29529.020000   \n",
       "150         0.00    -132872.12              0.0        113   61543.910000   \n",
       "378    -31490.72     -94472.14              0.0        118   40007.020000   \n",
       "...          ...           ...              ...        ...            ...   \n",
       "247659 -10352.09     -93168.81              0.0        121   34033.580000   \n",
       "247660  -5406.17     -48655.55              0.0        235   31346.513120   \n",
       "247661  -4474.98     -40274.86              0.0        235   19398.860160   \n",
       "247662  -3554.50     -31990.51              0.0        245   19054.959999   \n",
       "247663  -2500.03     -14166.84              0.0        215    6734.284967   \n",
       "\n",
       "        Sales Price  Stone Value  Diamond Value   Gold Value  Palladium Value  \\\n",
       "26           826.10          0.0           0.00      0.00000              0.0   \n",
       "31        254202.65          0.0       36860.00  95341.87000              0.0   \n",
       "149        81365.97          0.0       16765.00  10463.20000              0.0   \n",
       "150       126554.40          0.0       13790.00  40148.90000              0.0   \n",
       "378       151495.00          0.0       35093.31   3397.60000              0.0   \n",
       "...             ...          ...            ...          ...              ...   \n",
       "247659    102773.09          0.0       19695.00  11690.82700              0.0   \n",
       "247660     54218.08          0.0        8664.00  19909.31712              0.0   \n",
       "247661     44456.58          0.0        6210.00  11614.16416              0.0   \n",
       "247662     35501.86          0.0        3270.00  13912.02000              0.0   \n",
       "247663     16666.87          0.0        1920.00   3618.79000              0.0   \n",
       "\n",
       "        ...  Qty  Diamond Weight  Diamond Pieces  Stone Weight  Stone Pieces  \\\n",
       "26      ...   -1            0.00             0.0           0.0           0.0   \n",
       "31      ...   -1            0.97            53.0           0.0           0.0   \n",
       "149     ...   -1            0.59           110.0           0.0           0.0   \n",
       "150     ...   -1            0.70           114.0           0.0           0.0   \n",
       "378     ...   -1            0.49             2.0           0.0           0.0   \n",
       "...     ...  ...             ...             ...           ...           ...   \n",
       "247659  ...   -1            0.69            99.0           0.0           0.0   \n",
       "247660  ...   -1            0.16             1.0           0.0           0.0   \n",
       "247661  ...   -1            0.23            55.0           0.0           0.0   \n",
       "247662  ...   -1            0.12             7.0           0.0           0.0   \n",
       "247663  ...   -1            0.08             6.0           0.0           0.0   \n",
       "\n",
       "        Net Weight  No of GPP Accounts  URD Discount Amount  OGADJUSTEDAMOUNT  \\\n",
       "26          10.000                 NaN                  0.0               0.0   \n",
       "31          21.256                 NaN                  0.0               0.0   \n",
       "149          3.002                 NaN                  0.0               0.0   \n",
       "150         11.700                 NaN                  0.0               0.0   \n",
       "378          1.592                 NaN                  NaN               NaN   \n",
       "...            ...                 ...                  ...               ...   \n",
       "247659       2.592                 NaN                  0.0               0.0   \n",
       "247660       3.668                 NaN                  0.0               0.0   \n",
       "247661       2.104                 NaN                  0.0               0.0   \n",
       "247662       2.576                 NaN                  0.0               0.0   \n",
       "247663       0.844                 NaN                  NaN               NaN   \n",
       "\n",
       "        URDADDLDEDUCITON  \n",
       "26                   0.0  \n",
       "31                   0.0  \n",
       "149                  0.0  \n",
       "150                  0.0  \n",
       "378                  NaN  \n",
       "...                  ...  \n",
       "247659               0.0  \n",
       "247660               0.0  \n",
       "247661               0.0  \n",
       "247662               0.0  \n",
       "247663               NaN  \n",
       "\n",
       "[4898 rows x 34 columns]"
      ]
     },
     "execution_count": 62,
     "metadata": {},
     "output_type": "execute_result"
    }
   ],
   "source": [
    "sales[sales['Type']=='Return'].select_dtypes(include='number')"
   ]
  },
  {
   "cell_type": "code",
   "execution_count": 63,
   "metadata": {},
   "outputs": [
    {
     "data": {
      "text/html": [
       "<div>\n",
       "<style scoped>\n",
       "    .dataframe tbody tr th:only-of-type {\n",
       "        vertical-align: middle;\n",
       "    }\n",
       "\n",
       "    .dataframe tbody tr th {\n",
       "        vertical-align: top;\n",
       "    }\n",
       "\n",
       "    .dataframe thead th {\n",
       "        text-align: right;\n",
       "    }\n",
       "</style>\n",
       "<table border=\"1\" class=\"dataframe\">\n",
       "  <thead>\n",
       "    <tr style=\"text-align: right;\">\n",
       "      <th></th>\n",
       "      <th>Cost Price</th>\n",
       "      <th>Sales Price</th>\n",
       "      <th>Stone Value</th>\n",
       "      <th>Diamond Value</th>\n",
       "      <th>Gold Value</th>\n",
       "      <th>Palladium Value</th>\n",
       "      <th>Diamond Weight</th>\n",
       "      <th>Diamond Pieces</th>\n",
       "      <th>Stone Weight</th>\n",
       "      <th>Stone Pieces</th>\n",
       "      <th>...</th>\n",
       "      <th>Hallmarking Value</th>\n",
       "      <th>Handling Value</th>\n",
       "      <th>Silver Value</th>\n",
       "      <th>Setting Value</th>\n",
       "      <th>Labour Value</th>\n",
       "      <th>Wastage Amount</th>\n",
       "      <th>Second Wastage Amount</th>\n",
       "      <th>Other Charges</th>\n",
       "      <th>IGI Amount</th>\n",
       "      <th>PGI Amount</th>\n",
       "    </tr>\n",
       "  </thead>\n",
       "  <tbody>\n",
       "    <tr>\n",
       "      <th>26</th>\n",
       "      <td>-752.000000</td>\n",
       "      <td>-826.10</td>\n",
       "      <td>-0.0</td>\n",
       "      <td>-0.00</td>\n",
       "      <td>-0.00000</td>\n",
       "      <td>-0.0</td>\n",
       "      <td>-0.00</td>\n",
       "      <td>-0.0</td>\n",
       "      <td>-0.0</td>\n",
       "      <td>-0.0</td>\n",
       "      <td>...</td>\n",
       "      <td>-0.00</td>\n",
       "      <td>-0.0</td>\n",
       "      <td>-745.0</td>\n",
       "      <td>-0.0</td>\n",
       "      <td>-7.00</td>\n",
       "      <td>-0.000</td>\n",
       "      <td>-0.0</td>\n",
       "      <td>-0.0</td>\n",
       "      <td>-0.0</td>\n",
       "      <td>-0.0</td>\n",
       "    </tr>\n",
       "    <tr>\n",
       "      <th>31</th>\n",
       "      <td>-146714.120000</td>\n",
       "      <td>-254202.65</td>\n",
       "      <td>-0.0</td>\n",
       "      <td>-36860.00</td>\n",
       "      <td>-95341.87000</td>\n",
       "      <td>-0.0</td>\n",
       "      <td>-0.97</td>\n",
       "      <td>-53.0</td>\n",
       "      <td>-0.0</td>\n",
       "      <td>-0.0</td>\n",
       "      <td>...</td>\n",
       "      <td>-0.01</td>\n",
       "      <td>-0.0</td>\n",
       "      <td>-0.0</td>\n",
       "      <td>-0.0</td>\n",
       "      <td>-10096.61</td>\n",
       "      <td>-4415.640</td>\n",
       "      <td>-0.0</td>\n",
       "      <td>-0.0</td>\n",
       "      <td>-0.0</td>\n",
       "      <td>-0.0</td>\n",
       "    </tr>\n",
       "    <tr>\n",
       "      <th>149</th>\n",
       "      <td>-29529.020000</td>\n",
       "      <td>-81365.97</td>\n",
       "      <td>-0.0</td>\n",
       "      <td>-16765.00</td>\n",
       "      <td>-10463.20000</td>\n",
       "      <td>-0.0</td>\n",
       "      <td>-0.59</td>\n",
       "      <td>-110.0</td>\n",
       "      <td>-0.0</td>\n",
       "      <td>-0.0</td>\n",
       "      <td>...</td>\n",
       "      <td>-0.01</td>\n",
       "      <td>-0.0</td>\n",
       "      <td>-0.0</td>\n",
       "      <td>-0.0</td>\n",
       "      <td>-1275.86</td>\n",
       "      <td>-624.960</td>\n",
       "      <td>-0.0</td>\n",
       "      <td>-0.0</td>\n",
       "      <td>-0.0</td>\n",
       "      <td>-0.0</td>\n",
       "    </tr>\n",
       "    <tr>\n",
       "      <th>150</th>\n",
       "      <td>-61543.910000</td>\n",
       "      <td>-126554.40</td>\n",
       "      <td>-0.0</td>\n",
       "      <td>-13790.00</td>\n",
       "      <td>-40148.90000</td>\n",
       "      <td>-0.0</td>\n",
       "      <td>-0.70</td>\n",
       "      <td>-114.0</td>\n",
       "      <td>-0.0</td>\n",
       "      <td>-0.0</td>\n",
       "      <td>...</td>\n",
       "      <td>-0.01</td>\n",
       "      <td>-0.0</td>\n",
       "      <td>-0.0</td>\n",
       "      <td>-0.0</td>\n",
       "      <td>-7605.01</td>\n",
       "      <td>-0.000</td>\n",
       "      <td>-0.0</td>\n",
       "      <td>-0.0</td>\n",
       "      <td>-0.0</td>\n",
       "      <td>-0.0</td>\n",
       "    </tr>\n",
       "    <tr>\n",
       "      <th>378</th>\n",
       "      <td>-40007.020000</td>\n",
       "      <td>-151495.00</td>\n",
       "      <td>-0.0</td>\n",
       "      <td>-35093.31</td>\n",
       "      <td>-3397.60000</td>\n",
       "      <td>-0.0</td>\n",
       "      <td>-0.49</td>\n",
       "      <td>-2.0</td>\n",
       "      <td>-0.0</td>\n",
       "      <td>-0.0</td>\n",
       "      <td>...</td>\n",
       "      <td>-35.00</td>\n",
       "      <td>-0.0</td>\n",
       "      <td>-0.0</td>\n",
       "      <td>-0.0</td>\n",
       "      <td>-1516.11</td>\n",
       "      <td>-0.000</td>\n",
       "      <td>-0.0</td>\n",
       "      <td>-0.0</td>\n",
       "      <td>-0.0</td>\n",
       "      <td>-0.0</td>\n",
       "    </tr>\n",
       "    <tr>\n",
       "      <th>...</th>\n",
       "      <td>...</td>\n",
       "      <td>...</td>\n",
       "      <td>...</td>\n",
       "      <td>...</td>\n",
       "      <td>...</td>\n",
       "      <td>...</td>\n",
       "      <td>...</td>\n",
       "      <td>...</td>\n",
       "      <td>...</td>\n",
       "      <td>...</td>\n",
       "      <td>...</td>\n",
       "      <td>...</td>\n",
       "      <td>...</td>\n",
       "      <td>...</td>\n",
       "      <td>...</td>\n",
       "      <td>...</td>\n",
       "      <td>...</td>\n",
       "      <td>...</td>\n",
       "      <td>...</td>\n",
       "      <td>...</td>\n",
       "      <td>...</td>\n",
       "    </tr>\n",
       "    <tr>\n",
       "      <th>247659</th>\n",
       "      <td>-34033.580000</td>\n",
       "      <td>-102773.09</td>\n",
       "      <td>-0.0</td>\n",
       "      <td>-19695.00</td>\n",
       "      <td>-11690.82700</td>\n",
       "      <td>-0.0</td>\n",
       "      <td>-0.69</td>\n",
       "      <td>-99.0</td>\n",
       "      <td>-0.0</td>\n",
       "      <td>-0.0</td>\n",
       "      <td>...</td>\n",
       "      <td>-0.00</td>\n",
       "      <td>-0.0</td>\n",
       "      <td>-0.0</td>\n",
       "      <td>-0.0</td>\n",
       "      <td>-1644.69</td>\n",
       "      <td>-0.000</td>\n",
       "      <td>-0.0</td>\n",
       "      <td>-286.5</td>\n",
       "      <td>-0.0</td>\n",
       "      <td>-0.0</td>\n",
       "    </tr>\n",
       "    <tr>\n",
       "      <th>247660</th>\n",
       "      <td>-31346.513120</td>\n",
       "      <td>-54218.08</td>\n",
       "      <td>-0.0</td>\n",
       "      <td>-8664.00</td>\n",
       "      <td>-19909.31712</td>\n",
       "      <td>-0.0</td>\n",
       "      <td>-0.16</td>\n",
       "      <td>-1.0</td>\n",
       "      <td>-0.0</td>\n",
       "      <td>-0.0</td>\n",
       "      <td>...</td>\n",
       "      <td>-0.00</td>\n",
       "      <td>-0.0</td>\n",
       "      <td>-0.0</td>\n",
       "      <td>-0.0</td>\n",
       "      <td>-1558.90</td>\n",
       "      <td>-919.296</td>\n",
       "      <td>-0.0</td>\n",
       "      <td>-0.0</td>\n",
       "      <td>-295.0</td>\n",
       "      <td>-0.0</td>\n",
       "    </tr>\n",
       "    <tr>\n",
       "      <th>247661</th>\n",
       "      <td>-19398.860160</td>\n",
       "      <td>-44456.58</td>\n",
       "      <td>-0.0</td>\n",
       "      <td>-6210.00</td>\n",
       "      <td>-11614.16416</td>\n",
       "      <td>-0.0</td>\n",
       "      <td>-0.23</td>\n",
       "      <td>-55.0</td>\n",
       "      <td>-0.0</td>\n",
       "      <td>-0.0</td>\n",
       "      <td>...</td>\n",
       "      <td>-0.00</td>\n",
       "      <td>-0.0</td>\n",
       "      <td>-0.0</td>\n",
       "      <td>-0.0</td>\n",
       "      <td>-894.20</td>\n",
       "      <td>-540.496</td>\n",
       "      <td>-0.0</td>\n",
       "      <td>-0.0</td>\n",
       "      <td>-140.0</td>\n",
       "      <td>-0.0</td>\n",
       "    </tr>\n",
       "    <tr>\n",
       "      <th>247662</th>\n",
       "      <td>-19054.959999</td>\n",
       "      <td>-35501.86</td>\n",
       "      <td>-0.0</td>\n",
       "      <td>-3270.00</td>\n",
       "      <td>-13912.02000</td>\n",
       "      <td>-0.0</td>\n",
       "      <td>-0.12</td>\n",
       "      <td>-7.0</td>\n",
       "      <td>-0.0</td>\n",
       "      <td>-0.0</td>\n",
       "      <td>...</td>\n",
       "      <td>-0.00</td>\n",
       "      <td>-0.0</td>\n",
       "      <td>-0.0</td>\n",
       "      <td>-0.0</td>\n",
       "      <td>-1094.80</td>\n",
       "      <td>-643.140</td>\n",
       "      <td>-0.0</td>\n",
       "      <td>-0.0</td>\n",
       "      <td>-135.0</td>\n",
       "      <td>-0.0</td>\n",
       "    </tr>\n",
       "    <tr>\n",
       "      <th>247663</th>\n",
       "      <td>-6734.284967</td>\n",
       "      <td>-16666.87</td>\n",
       "      <td>-0.0</td>\n",
       "      <td>-1920.00</td>\n",
       "      <td>-3618.79000</td>\n",
       "      <td>-0.0</td>\n",
       "      <td>-0.08</td>\n",
       "      <td>-6.0</td>\n",
       "      <td>-0.0</td>\n",
       "      <td>-0.0</td>\n",
       "      <td>...</td>\n",
       "      <td>-0.00</td>\n",
       "      <td>-0.0</td>\n",
       "      <td>-0.0</td>\n",
       "      <td>-0.0</td>\n",
       "      <td>-1000.00</td>\n",
       "      <td>-0.000</td>\n",
       "      <td>-0.0</td>\n",
       "      <td>-180.0</td>\n",
       "      <td>-0.0</td>\n",
       "      <td>-0.0</td>\n",
       "    </tr>\n",
       "  </tbody>\n",
       "</table>\n",
       "<p>4898 rows × 25 columns</p>\n",
       "</div>"
      ],
      "text/plain": [
       "           Cost Price  Sales Price  Stone Value  Diamond Value   Gold Value  \\\n",
       "26        -752.000000      -826.10         -0.0          -0.00     -0.00000   \n",
       "31     -146714.120000   -254202.65         -0.0      -36860.00 -95341.87000   \n",
       "149     -29529.020000    -81365.97         -0.0      -16765.00 -10463.20000   \n",
       "150     -61543.910000   -126554.40         -0.0      -13790.00 -40148.90000   \n",
       "378     -40007.020000   -151495.00         -0.0      -35093.31  -3397.60000   \n",
       "...               ...          ...          ...            ...          ...   \n",
       "247659  -34033.580000   -102773.09         -0.0      -19695.00 -11690.82700   \n",
       "247660  -31346.513120    -54218.08         -0.0       -8664.00 -19909.31712   \n",
       "247661  -19398.860160    -44456.58         -0.0       -6210.00 -11614.16416   \n",
       "247662  -19054.959999    -35501.86         -0.0       -3270.00 -13912.02000   \n",
       "247663   -6734.284967    -16666.87         -0.0       -1920.00  -3618.79000   \n",
       "\n",
       "        Palladium Value  Diamond Weight  Diamond Pieces  Stone Weight  \\\n",
       "26                 -0.0           -0.00            -0.0          -0.0   \n",
       "31                 -0.0           -0.97           -53.0          -0.0   \n",
       "149                -0.0           -0.59          -110.0          -0.0   \n",
       "150                -0.0           -0.70          -114.0          -0.0   \n",
       "378                -0.0           -0.49            -2.0          -0.0   \n",
       "...                 ...             ...             ...           ...   \n",
       "247659             -0.0           -0.69           -99.0          -0.0   \n",
       "247660             -0.0           -0.16            -1.0          -0.0   \n",
       "247661             -0.0           -0.23           -55.0          -0.0   \n",
       "247662             -0.0           -0.12            -7.0          -0.0   \n",
       "247663             -0.0           -0.08            -6.0          -0.0   \n",
       "\n",
       "        Stone Pieces  ...  Hallmarking Value  Handling Value  Silver Value  \\\n",
       "26              -0.0  ...              -0.00            -0.0        -745.0   \n",
       "31              -0.0  ...              -0.01            -0.0          -0.0   \n",
       "149             -0.0  ...              -0.01            -0.0          -0.0   \n",
       "150             -0.0  ...              -0.01            -0.0          -0.0   \n",
       "378             -0.0  ...             -35.00            -0.0          -0.0   \n",
       "...              ...  ...                ...             ...           ...   \n",
       "247659          -0.0  ...              -0.00            -0.0          -0.0   \n",
       "247660          -0.0  ...              -0.00            -0.0          -0.0   \n",
       "247661          -0.0  ...              -0.00            -0.0          -0.0   \n",
       "247662          -0.0  ...              -0.00            -0.0          -0.0   \n",
       "247663          -0.0  ...              -0.00            -0.0          -0.0   \n",
       "\n",
       "        Setting Value  Labour Value  Wastage Amount  Second Wastage Amount  \\\n",
       "26               -0.0         -7.00          -0.000                   -0.0   \n",
       "31               -0.0     -10096.61       -4415.640                   -0.0   \n",
       "149              -0.0      -1275.86        -624.960                   -0.0   \n",
       "150              -0.0      -7605.01          -0.000                   -0.0   \n",
       "378              -0.0      -1516.11          -0.000                   -0.0   \n",
       "...               ...           ...             ...                    ...   \n",
       "247659           -0.0      -1644.69          -0.000                   -0.0   \n",
       "247660           -0.0      -1558.90        -919.296                   -0.0   \n",
       "247661           -0.0       -894.20        -540.496                   -0.0   \n",
       "247662           -0.0      -1094.80        -643.140                   -0.0   \n",
       "247663           -0.0      -1000.00          -0.000                   -0.0   \n",
       "\n",
       "        Other Charges  IGI Amount  PGI Amount  \n",
       "26               -0.0        -0.0        -0.0  \n",
       "31               -0.0        -0.0        -0.0  \n",
       "149              -0.0        -0.0        -0.0  \n",
       "150              -0.0        -0.0        -0.0  \n",
       "378              -0.0        -0.0        -0.0  \n",
       "...               ...         ...         ...  \n",
       "247659         -286.5        -0.0        -0.0  \n",
       "247660           -0.0      -295.0        -0.0  \n",
       "247661           -0.0      -140.0        -0.0  \n",
       "247662           -0.0      -135.0        -0.0  \n",
       "247663         -180.0        -0.0        -0.0  \n",
       "\n",
       "[4898 rows x 25 columns]"
      ]
     },
     "execution_count": 63,
     "metadata": {},
     "output_type": "execute_result"
    }
   ],
   "source": [
    "sales[sales['Type']=='Return'][['Cost Price','Sales Price','Stone Value','Diamond Value','Gold Value','Palladium Value','Diamond Weight'\\\n",
    "                               ,'Diamond Pieces','Stone Weight','Stone Pieces','Net Weight','URD Discount Amount','OGADJUSTEDAMOUNT'\\\n",
    "                                ,'URDADDLDEDUCITON','Platinum Value', 'Hallmarking Value',\\\n",
    "                                'Handling Value', 'Silver Value', 'Setting Value', 'Labour Value',\\\n",
    "                                'Wastage Amount', 'Second Wastage Amount', 'Other Charges',\\\n",
    "                                'IGI Amount', 'PGI Amount']]*-1"
   ]
  },
  {
   "cell_type": "code",
   "execution_count": 64,
   "metadata": {},
   "outputs": [
    {
     "name": "stdout",
     "output_type": "stream",
     "text": [
      "Cost Price               False\n",
      "Sales Price              False\n",
      "Stone Value              False\n",
      "Diamond Value            False\n",
      "Gold Value               False\n",
      "Palladium Value          False\n",
      "Diamond Weight           False\n",
      "Diamond Pieces           False\n",
      "Stone Weight             False\n",
      "Stone Pieces             False\n",
      "Net Weight               False\n",
      "URD Discount Amount      False\n",
      "OGADJUSTEDAMOUNT         False\n",
      "URDADDLDEDUCITON         False\n",
      "Platinum Value           False\n",
      "Hallmarking Value        False\n",
      "Handling Value           False\n",
      "Silver Value             False\n",
      "Setting Value            False\n",
      "Labour Value             False\n",
      "Wastage Amount           False\n",
      "Second Wastage Amount    False\n",
      "PGI Amount               False\n",
      "dtype: bool\n"
     ]
    }
   ],
   "source": [
    "v=(sales[sales['Type']=='Return'][['Cost Price','Sales Price','Stone Value','Diamond Value','Gold Value','Palladium Value','Diamond Weight'\\\n",
    "                               ,'Diamond Pieces','Stone Weight','Stone Pieces','Net Weight','URD Discount Amount','OGADJUSTEDAMOUNT'\\\n",
    "                                ,'URDADDLDEDUCITON','Platinum Value', 'Hallmarking Value',\\\n",
    "                                'Handling Value', 'Silver Value', 'Setting Value', 'Labour Value',\\\n",
    "                                'Wastage Amount', 'Second Wastage Amount', 'PGI Amount']]<0).any()\n",
    "print(v)"
   ]
  },
  {
   "cell_type": "code",
   "execution_count": 65,
   "metadata": {},
   "outputs": [
    {
     "name": "stdout",
     "output_type": "stream",
     "text": [
      "Discount                  True\n",
      "Gross Amount              True\n",
      "Net Sales Price          False\n",
      "Warehouse                False\n",
      "Cost Price               False\n",
      "Sales Price              False\n",
      "Stone Value              False\n",
      "Diamond Value            False\n",
      "Gold Value               False\n",
      "Palladium Value          False\n",
      "Platinum Value           False\n",
      "Hallmarking Value        False\n",
      "Handling Value           False\n",
      "Silver Value             False\n",
      "Setting Value            False\n",
      "Labour Value             False\n",
      "Wastage Amount           False\n",
      "Second Wastage Amount    False\n",
      "Other Charges             True\n",
      "IGI Amount                True\n",
      "PGI Amount               False\n",
      "Gross Weight              True\n",
      "Revised Selling Price     True\n",
      "GST Amount                True\n",
      "Qty                       True\n",
      "Diamond Weight           False\n",
      "Diamond Pieces           False\n",
      "Stone Weight             False\n",
      "Stone Pieces             False\n",
      "Net Weight               False\n",
      "No of GPP Accounts       False\n",
      "URD Discount Amount      False\n",
      "OGADJUSTEDAMOUNT         False\n",
      "URDADDLDEDUCITON         False\n",
      "dtype: bool\n"
     ]
    }
   ],
   "source": [
    "a=(sales[sales['Type']=='Return'].select_dtypes(include='number')<0).any()\n",
    "print(a)"
   ]
  },
  {
   "cell_type": "code",
   "execution_count": 66,
   "metadata": {},
   "outputs": [
    {
     "name": "stdout",
     "output_type": "stream",
     "text": [
      "<class 'pandas.core.frame.DataFrame'>\n",
      "RangeIndex: 248227 entries, 0 to 248226\n",
      "Data columns (total 81 columns):\n",
      " #   Column                   Non-Null Count   Dtype         \n",
      "---  ------                   --------------   -----         \n",
      " 0   Sales Date               248227 non-null  datetime64[ns]\n",
      " 1   Transaction Status       248227 non-null  object        \n",
      " 2   Discount                 248227 non-null  float64       \n",
      " 3   Gross Amount             248227 non-null  float64       \n",
      " 4   Net Sales Price          248227 non-null  float64       \n",
      " 5   Sales Person Code        245458 non-null  object        \n",
      " 6   Sales Person Name        243725 non-null  object        \n",
      " 7   Transaction ID           248227 non-null  object        \n",
      " 8   Design No                248227 non-null  object        \n",
      " 9   Serial Number            210600 non-null  object        \n",
      " 10  Customer ID              248225 non-null  object        \n",
      " 11  DataAreaID               248227 non-null  object        \n",
      " 12  Warehouse                248227 non-null  int64         \n",
      " 13  Store Name               248227 non-null  object        \n",
      " 14  Store Code               248227 non-null  object        \n",
      " 15  Type of Store            248227 non-null  object        \n",
      " 16  Region                   248227 non-null  object        \n",
      " 17  Sales Order ID           248227 non-null  object        \n",
      " 18  Customer Name            248015 non-null  object        \n",
      " 19  Bill No                  248227 non-null  object        \n",
      " 20  Cost Price               210299 non-null  float64       \n",
      " 21  Weight Range             83780 non-null   object        \n",
      " 22  Sales Price              210299 non-null  float64       \n",
      " 23  Price Range              98094 non-null   object        \n",
      " 24  Stone Value              210299 non-null  float64       \n",
      " 25  Diamond Value            210299 non-null  float64       \n",
      " 26  Gold Value               210299 non-null  float64       \n",
      " 27  Palladium Value          210299 non-null  float64       \n",
      " 28  Platinum Value           210299 non-null  float64       \n",
      " 29  Hallmarking Value        210299 non-null  float64       \n",
      " 30  Handling Value           210299 non-null  float64       \n",
      " 31  Silver Value             210299 non-null  float64       \n",
      " 32  Setting Value            210299 non-null  float64       \n",
      " 33  Labour Value             210299 non-null  float64       \n",
      " 34  Wastage Amount           210299 non-null  float64       \n",
      " 35  Second Wastage Amount    210299 non-null  float64       \n",
      " 36  Other Charges            210299 non-null  float64       \n",
      " 37  IGI Amount               210299 non-null  float64       \n",
      " 38  PGI Amount               210299 non-null  float64       \n",
      " 39  TRANSDATE                210299 non-null  object        \n",
      " 40  Product Category         210407 non-null  object        \n",
      " 41  PlainStudded             210153 non-null  object        \n",
      " 42  Type of jewellery        210244 non-null  object        \n",
      " 43  Collection               202748 non-null  object        \n",
      " 44  Design Type              66944 non-null   object        \n",
      " 45  Kt                       209906 non-null  object        \n",
      " 46  Brand                    222837 non-null  object        \n",
      " 47  Sub Brand                210501 non-null  object        \n",
      " 48  Parent Product Category  222176 non-null  object        \n",
      " 49  Product                  210340 non-null  object        \n",
      " 50  Sub Product              210128 non-null  object        \n",
      " 51  Incentive Category       222596 non-null  object        \n",
      " 52  Gross Weight             248227 non-null  float64       \n",
      " 53  Revised Selling Price    248227 non-null  float64       \n",
      " 54  GST Amount               248227 non-null  float64       \n",
      " 55  URDType                  17458 non-null   object        \n",
      " 56  Type                     248226 non-null  object        \n",
      " 57  Business Category        248227 non-null  object        \n",
      " 58  Qty                      248227 non-null  int64         \n",
      " 59  Sale Type                248227 non-null  object        \n",
      " 60  EMI Type                 15797 non-null   object        \n",
      " 61  Scheme Type              45678 non-null   object        \n",
      " 62  Customer Type            248227 non-null  object        \n",
      " 63  Diamond Weight           248227 non-null  float64       \n",
      " 64  Diamond Pieces           248227 non-null  float64       \n",
      " 65  Stone Weight             248227 non-null  float64       \n",
      " 66  Stone Pieces             248227 non-null  float64       \n",
      " 67  Net Weight               248227 non-null  float64       \n",
      " 68  GPP Account No           86159 non-null   object        \n",
      " 69  No of GPP Accounts       86163 non-null   float64       \n",
      " 70  Mobile Number            246019 non-null  object        \n",
      " 71  City                     183107 non-null  object        \n",
      " 72  State                    189242 non-null  object        \n",
      " 73  Emp Desgination          131890 non-null  object        \n",
      " 74  Emp LastDateWorked       228331 non-null  object        \n",
      " 75  Pan Number               2591 non-null    object        \n",
      " 76  TypeforSuspendedTrans    248227 non-null  object        \n",
      " 77  URD Discount Amount      217010 non-null  float64       \n",
      " 78  OGADJUSTEDAMOUNT         217010 non-null  float64       \n",
      " 79  URDADDLDEDUCITON         217010 non-null  float64       \n",
      " 80  new col                  183107 non-null  object        \n",
      "dtypes: datetime64[ns](1), float64(32), int64(2), object(46)\n",
      "memory usage: 153.4+ MB\n"
     ]
    }
   ],
   "source": [
    "sales.info()"
   ]
  },
  {
   "cell_type": "code",
   "execution_count": 67,
   "metadata": {},
   "outputs": [
    {
     "data": {
      "text/html": [
       "<div>\n",
       "<style scoped>\n",
       "    .dataframe tbody tr th:only-of-type {\n",
       "        vertical-align: middle;\n",
       "    }\n",
       "\n",
       "    .dataframe tbody tr th {\n",
       "        vertical-align: top;\n",
       "    }\n",
       "\n",
       "    .dataframe thead th {\n",
       "        text-align: right;\n",
       "    }\n",
       "</style>\n",
       "<table border=\"1\" class=\"dataframe\">\n",
       "  <thead>\n",
       "    <tr style=\"text-align: right;\">\n",
       "      <th></th>\n",
       "      <th>Discount</th>\n",
       "      <th>Gross Amount</th>\n",
       "      <th>Net Sales Price</th>\n",
       "      <th>Cost Price</th>\n",
       "      <th>Sales Price</th>\n",
       "      <th>Stone Value</th>\n",
       "      <th>Diamond Value</th>\n",
       "      <th>Gold Value</th>\n",
       "      <th>Palladium Value</th>\n",
       "      <th>Platinum Value</th>\n",
       "      <th>...</th>\n",
       "      <th>GST Amount</th>\n",
       "      <th>Diamond Weight</th>\n",
       "      <th>Diamond Pieces</th>\n",
       "      <th>Stone Weight</th>\n",
       "      <th>Stone Pieces</th>\n",
       "      <th>Net Weight</th>\n",
       "      <th>No of GPP Accounts</th>\n",
       "      <th>URD Discount Amount</th>\n",
       "      <th>OGADJUSTEDAMOUNT</th>\n",
       "      <th>URDADDLDEDUCITON</th>\n",
       "    </tr>\n",
       "  </thead>\n",
       "  <tbody>\n",
       "    <tr>\n",
       "      <th>0</th>\n",
       "      <td>0.00</td>\n",
       "      <td>19963.36</td>\n",
       "      <td>0.0</td>\n",
       "      <td>8573.220000</td>\n",
       "      <td>19683.22</td>\n",
       "      <td>0.00</td>\n",
       "      <td>2640.0</td>\n",
       "      <td>4933.220</td>\n",
       "      <td>0.0</td>\n",
       "      <td>0.0</td>\n",
       "      <td>...</td>\n",
       "      <td>598.90</td>\n",
       "      <td>0.11</td>\n",
       "      <td>8.0</td>\n",
       "      <td>0.00</td>\n",
       "      <td>0.0</td>\n",
       "      <td>1.418</td>\n",
       "      <td>NaN</td>\n",
       "      <td>0.0</td>\n",
       "      <td>0.0</td>\n",
       "      <td>0.0</td>\n",
       "    </tr>\n",
       "    <tr>\n",
       "      <th>1</th>\n",
       "      <td>0.00</td>\n",
       "      <td>13927.35</td>\n",
       "      <td>0.0</td>\n",
       "      <td>5444.540000</td>\n",
       "      <td>13836.36</td>\n",
       "      <td>0.00</td>\n",
       "      <td>2660.0</td>\n",
       "      <td>1684.530</td>\n",
       "      <td>0.0</td>\n",
       "      <td>0.0</td>\n",
       "      <td>...</td>\n",
       "      <td>417.82</td>\n",
       "      <td>0.07</td>\n",
       "      <td>7.0</td>\n",
       "      <td>0.00</td>\n",
       "      <td>0.0</td>\n",
       "      <td>0.376</td>\n",
       "      <td>NaN</td>\n",
       "      <td>0.0</td>\n",
       "      <td>0.0</td>\n",
       "      <td>0.0</td>\n",
       "    </tr>\n",
       "    <tr>\n",
       "      <th>2</th>\n",
       "      <td>2309.13</td>\n",
       "      <td>20782.16</td>\n",
       "      <td>0.0</td>\n",
       "      <td>9316.660000</td>\n",
       "      <td>25189.20</td>\n",
       "      <td>0.00</td>\n",
       "      <td>4080.0</td>\n",
       "      <td>4439.150</td>\n",
       "      <td>0.0</td>\n",
       "      <td>0.0</td>\n",
       "      <td>...</td>\n",
       "      <td>623.46</td>\n",
       "      <td>0.17</td>\n",
       "      <td>30.0</td>\n",
       "      <td>0.00</td>\n",
       "      <td>0.0</td>\n",
       "      <td>1.276</td>\n",
       "      <td>NaN</td>\n",
       "      <td>0.0</td>\n",
       "      <td>0.0</td>\n",
       "      <td>0.0</td>\n",
       "    </tr>\n",
       "    <tr>\n",
       "      <th>3</th>\n",
       "      <td>2723.76</td>\n",
       "      <td>88068.12</td>\n",
       "      <td>0.0</td>\n",
       "      <td>33754.920000</td>\n",
       "      <td>90175.10</td>\n",
       "      <td>0.00</td>\n",
       "      <td>26460.0</td>\n",
       "      <td>6075.720</td>\n",
       "      <td>0.0</td>\n",
       "      <td>0.0</td>\n",
       "      <td>...</td>\n",
       "      <td>2642.04</td>\n",
       "      <td>0.64</td>\n",
       "      <td>50.0</td>\n",
       "      <td>0.00</td>\n",
       "      <td>0.0</td>\n",
       "      <td>1.882</td>\n",
       "      <td>NaN</td>\n",
       "      <td>0.0</td>\n",
       "      <td>0.0</td>\n",
       "      <td>0.0</td>\n",
       "    </tr>\n",
       "    <tr>\n",
       "      <th>4</th>\n",
       "      <td>0.00</td>\n",
       "      <td>-29464.00</td>\n",
       "      <td>0.0</td>\n",
       "      <td>NaN</td>\n",
       "      <td>NaN</td>\n",
       "      <td>NaN</td>\n",
       "      <td>NaN</td>\n",
       "      <td>NaN</td>\n",
       "      <td>NaN</td>\n",
       "      <td>NaN</td>\n",
       "      <td>...</td>\n",
       "      <td>0.00</td>\n",
       "      <td>0.00</td>\n",
       "      <td>0.0</td>\n",
       "      <td>0.00</td>\n",
       "      <td>0.0</td>\n",
       "      <td>0.000</td>\n",
       "      <td>NaN</td>\n",
       "      <td>0.0</td>\n",
       "      <td>0.0</td>\n",
       "      <td>0.0</td>\n",
       "    </tr>\n",
       "    <tr>\n",
       "      <th>...</th>\n",
       "      <td>...</td>\n",
       "      <td>...</td>\n",
       "      <td>...</td>\n",
       "      <td>...</td>\n",
       "      <td>...</td>\n",
       "      <td>...</td>\n",
       "      <td>...</td>\n",
       "      <td>...</td>\n",
       "      <td>...</td>\n",
       "      <td>...</td>\n",
       "      <td>...</td>\n",
       "      <td>...</td>\n",
       "      <td>...</td>\n",
       "      <td>...</td>\n",
       "      <td>...</td>\n",
       "      <td>...</td>\n",
       "      <td>...</td>\n",
       "      <td>...</td>\n",
       "      <td>...</td>\n",
       "      <td>...</td>\n",
       "      <td>...</td>\n",
       "    </tr>\n",
       "    <tr>\n",
       "      <th>248222</th>\n",
       "      <td>71452.05</td>\n",
       "      <td>285808.22</td>\n",
       "      <td>0.0</td>\n",
       "      <td>173194.170000</td>\n",
       "      <td>355215.23</td>\n",
       "      <td>2613.00</td>\n",
       "      <td>46207.0</td>\n",
       "      <td>105791.685</td>\n",
       "      <td>0.0</td>\n",
       "      <td>0.0</td>\n",
       "      <td>...</td>\n",
       "      <td>8574.24</td>\n",
       "      <td>1.13</td>\n",
       "      <td>244.0</td>\n",
       "      <td>19.05</td>\n",
       "      <td>14.0</td>\n",
       "      <td>23.774</td>\n",
       "      <td>NaN</td>\n",
       "      <td>0.0</td>\n",
       "      <td>0.0</td>\n",
       "      <td>0.0</td>\n",
       "    </tr>\n",
       "    <tr>\n",
       "      <th>248223</th>\n",
       "      <td>71584.61</td>\n",
       "      <td>328437.45</td>\n",
       "      <td>0.0</td>\n",
       "      <td>187933.759991</td>\n",
       "      <td>393891.11</td>\n",
       "      <td>0.00</td>\n",
       "      <td>54860.0</td>\n",
       "      <td>109896.380</td>\n",
       "      <td>0.0</td>\n",
       "      <td>0.0</td>\n",
       "      <td>...</td>\n",
       "      <td>9853.12</td>\n",
       "      <td>2.11</td>\n",
       "      <td>236.0</td>\n",
       "      <td>0.00</td>\n",
       "      <td>0.0</td>\n",
       "      <td>25.568</td>\n",
       "      <td>NaN</td>\n",
       "      <td>0.0</td>\n",
       "      <td>0.0</td>\n",
       "      <td>0.0</td>\n",
       "    </tr>\n",
       "    <tr>\n",
       "      <th>248224</th>\n",
       "      <td>76655.78</td>\n",
       "      <td>231500.58</td>\n",
       "      <td>0.0</td>\n",
       "      <td>133453.159992</td>\n",
       "      <td>303854.06</td>\n",
       "      <td>633.00</td>\n",
       "      <td>43250.0</td>\n",
       "      <td>75783.950</td>\n",
       "      <td>0.0</td>\n",
       "      <td>0.0</td>\n",
       "      <td>...</td>\n",
       "      <td>6945.02</td>\n",
       "      <td>1.73</td>\n",
       "      <td>255.0</td>\n",
       "      <td>2.11</td>\n",
       "      <td>9.0</td>\n",
       "      <td>17.942</td>\n",
       "      <td>1.0</td>\n",
       "      <td>0.0</td>\n",
       "      <td>0.0</td>\n",
       "      <td>0.0</td>\n",
       "    </tr>\n",
       "    <tr>\n",
       "      <th>248225</th>\n",
       "      <td>88994.25</td>\n",
       "      <td>355976.98</td>\n",
       "      <td>0.0</td>\n",
       "      <td>215680.850003</td>\n",
       "      <td>437157.42</td>\n",
       "      <td>0.01</td>\n",
       "      <td>56272.0</td>\n",
       "      <td>141834.400</td>\n",
       "      <td>0.0</td>\n",
       "      <td>0.0</td>\n",
       "      <td>...</td>\n",
       "      <td>10679.30</td>\n",
       "      <td>1.98</td>\n",
       "      <td>346.0</td>\n",
       "      <td>15.75</td>\n",
       "      <td>1.0</td>\n",
       "      <td>25.344</td>\n",
       "      <td>NaN</td>\n",
       "      <td>0.0</td>\n",
       "      <td>0.0</td>\n",
       "      <td>0.0</td>\n",
       "    </tr>\n",
       "    <tr>\n",
       "      <th>248226</th>\n",
       "      <td>104425.15</td>\n",
       "      <td>313275.45</td>\n",
       "      <td>0.0</td>\n",
       "      <td>162273.935776</td>\n",
       "      <td>417433.43</td>\n",
       "      <td>0.00</td>\n",
       "      <td>86043.0</td>\n",
       "      <td>67277.210</td>\n",
       "      <td>0.0</td>\n",
       "      <td>0.0</td>\n",
       "      <td>...</td>\n",
       "      <td>9398.26</td>\n",
       "      <td>2.05</td>\n",
       "      <td>54.0</td>\n",
       "      <td>0.00</td>\n",
       "      <td>0.0</td>\n",
       "      <td>12.100</td>\n",
       "      <td>NaN</td>\n",
       "      <td>0.0</td>\n",
       "      <td>0.0</td>\n",
       "      <td>0.0</td>\n",
       "    </tr>\n",
       "  </tbody>\n",
       "</table>\n",
       "<p>248227 rows × 32 columns</p>\n",
       "</div>"
      ],
      "text/plain": [
       "         Discount  Gross Amount  Net Sales Price     Cost Price  Sales Price  \\\n",
       "0            0.00      19963.36              0.0    8573.220000     19683.22   \n",
       "1            0.00      13927.35              0.0    5444.540000     13836.36   \n",
       "2         2309.13      20782.16              0.0    9316.660000     25189.20   \n",
       "3         2723.76      88068.12              0.0   33754.920000     90175.10   \n",
       "4            0.00     -29464.00              0.0            NaN          NaN   \n",
       "...           ...           ...              ...            ...          ...   \n",
       "248222   71452.05     285808.22              0.0  173194.170000    355215.23   \n",
       "248223   71584.61     328437.45              0.0  187933.759991    393891.11   \n",
       "248224   76655.78     231500.58              0.0  133453.159992    303854.06   \n",
       "248225   88994.25     355976.98              0.0  215680.850003    437157.42   \n",
       "248226  104425.15     313275.45              0.0  162273.935776    417433.43   \n",
       "\n",
       "        Stone Value  Diamond Value  Gold Value  Palladium Value  \\\n",
       "0              0.00         2640.0    4933.220              0.0   \n",
       "1              0.00         2660.0    1684.530              0.0   \n",
       "2              0.00         4080.0    4439.150              0.0   \n",
       "3              0.00        26460.0    6075.720              0.0   \n",
       "4               NaN            NaN         NaN              NaN   \n",
       "...             ...            ...         ...              ...   \n",
       "248222      2613.00        46207.0  105791.685              0.0   \n",
       "248223         0.00        54860.0  109896.380              0.0   \n",
       "248224       633.00        43250.0   75783.950              0.0   \n",
       "248225         0.01        56272.0  141834.400              0.0   \n",
       "248226         0.00        86043.0   67277.210              0.0   \n",
       "\n",
       "        Platinum Value  ...  GST Amount  Diamond Weight  Diamond Pieces  \\\n",
       "0                  0.0  ...      598.90            0.11             8.0   \n",
       "1                  0.0  ...      417.82            0.07             7.0   \n",
       "2                  0.0  ...      623.46            0.17            30.0   \n",
       "3                  0.0  ...     2642.04            0.64            50.0   \n",
       "4                  NaN  ...        0.00            0.00             0.0   \n",
       "...                ...  ...         ...             ...             ...   \n",
       "248222             0.0  ...     8574.24            1.13           244.0   \n",
       "248223             0.0  ...     9853.12            2.11           236.0   \n",
       "248224             0.0  ...     6945.02            1.73           255.0   \n",
       "248225             0.0  ...    10679.30            1.98           346.0   \n",
       "248226             0.0  ...     9398.26            2.05            54.0   \n",
       "\n",
       "        Stone Weight  Stone Pieces  Net Weight  No of GPP Accounts  \\\n",
       "0               0.00           0.0       1.418                 NaN   \n",
       "1               0.00           0.0       0.376                 NaN   \n",
       "2               0.00           0.0       1.276                 NaN   \n",
       "3               0.00           0.0       1.882                 NaN   \n",
       "4               0.00           0.0       0.000                 NaN   \n",
       "...              ...           ...         ...                 ...   \n",
       "248222         19.05          14.0      23.774                 NaN   \n",
       "248223          0.00           0.0      25.568                 NaN   \n",
       "248224          2.11           9.0      17.942                 1.0   \n",
       "248225         15.75           1.0      25.344                 NaN   \n",
       "248226          0.00           0.0      12.100                 NaN   \n",
       "\n",
       "        URD Discount Amount  OGADJUSTEDAMOUNT  URDADDLDEDUCITON  \n",
       "0                       0.0               0.0               0.0  \n",
       "1                       0.0               0.0               0.0  \n",
       "2                       0.0               0.0               0.0  \n",
       "3                       0.0               0.0               0.0  \n",
       "4                       0.0               0.0               0.0  \n",
       "...                     ...               ...               ...  \n",
       "248222                  0.0               0.0               0.0  \n",
       "248223                  0.0               0.0               0.0  \n",
       "248224                  0.0               0.0               0.0  \n",
       "248225                  0.0               0.0               0.0  \n",
       "248226                  0.0               0.0               0.0  \n",
       "\n",
       "[248227 rows x 32 columns]"
      ]
     },
     "execution_count": 67,
     "metadata": {},
     "output_type": "execute_result"
    }
   ],
   "source": [
    "sales.select_dtypes(include='d')"
   ]
  },
  {
   "cell_type": "code",
   "execution_count": 68,
   "metadata": {},
   "outputs": [],
   "source": [
    "sales['Sales Date']=sales['Sales Date'].astype('date64[pyarrow]')"
   ]
  },
  {
   "cell_type": "code",
   "execution_count": 69,
   "metadata": {},
   "outputs": [
    {
     "data": {
      "text/html": [
       "<div>\n",
       "<style scoped>\n",
       "    .dataframe tbody tr th:only-of-type {\n",
       "        vertical-align: middle;\n",
       "    }\n",
       "\n",
       "    .dataframe tbody tr th {\n",
       "        vertical-align: top;\n",
       "    }\n",
       "\n",
       "    .dataframe thead th {\n",
       "        text-align: right;\n",
       "    }\n",
       "</style>\n",
       "<table border=\"1\" class=\"dataframe\">\n",
       "  <thead>\n",
       "    <tr style=\"text-align: right;\">\n",
       "      <th></th>\n",
       "      <th>Gross Amount</th>\n",
       "    </tr>\n",
       "    <tr>\n",
       "      <th>Sales Person Name</th>\n",
       "      <th></th>\n",
       "    </tr>\n",
       "  </thead>\n",
       "  <tbody>\n",
       "    <tr>\n",
       "      <th>Mahendra Reddy</th>\n",
       "      <td>7610221.14</td>\n",
       "    </tr>\n",
       "    <tr>\n",
       "      <th>Mahendra Vyas</th>\n",
       "      <td>1871.40</td>\n",
       "    </tr>\n",
       "    <tr>\n",
       "      <th>Umang Mahendra</th>\n",
       "      <td>0.00</td>\n",
       "    </tr>\n",
       "  </tbody>\n",
       "</table>\n",
       "</div>"
      ],
      "text/plain": [
       "                   Gross Amount\n",
       "Sales Person Name              \n",
       "Mahendra Reddy       7610221.14\n",
       "Mahendra Vyas           1871.40\n",
       "Umang Mahendra             0.00"
      ]
     },
     "execution_count": 69,
     "metadata": {},
     "output_type": "execute_result"
    }
   ],
   "source": [
    "sales[sales['Sales Person Name'].fillna('Na').str.contains('Mahendra')][['Sales Person Name','Gross Amount']].groupby('Sales Person Name').sum()"
   ]
  },
  {
   "cell_type": "code",
   "execution_count": 70,
   "metadata": {},
   "outputs": [
    {
     "data": {
      "text/html": [
       "<div>\n",
       "<style scoped>\n",
       "    .dataframe tbody tr th:only-of-type {\n",
       "        vertical-align: middle;\n",
       "    }\n",
       "\n",
       "    .dataframe tbody tr th {\n",
       "        vertical-align: top;\n",
       "    }\n",
       "\n",
       "    .dataframe thead th {\n",
       "        text-align: right;\n",
       "    }\n",
       "</style>\n",
       "<table border=\"1\" class=\"dataframe\">\n",
       "  <thead>\n",
       "    <tr style=\"text-align: right;\">\n",
       "      <th></th>\n",
       "      <th>Transaction Status</th>\n",
       "      <th>Discount</th>\n",
       "      <th>Gross Amount</th>\n",
       "      <th>Net Sales Price</th>\n",
       "      <th>Sales Person Code</th>\n",
       "      <th>Sales Person Name</th>\n",
       "      <th>Transaction ID</th>\n",
       "      <th>Design No</th>\n",
       "      <th>Serial Number</th>\n",
       "      <th>Customer ID</th>\n",
       "      <th>...</th>\n",
       "      <th>City</th>\n",
       "      <th>State</th>\n",
       "      <th>Emp Desgination</th>\n",
       "      <th>Emp LastDateWorked</th>\n",
       "      <th>Pan Number</th>\n",
       "      <th>TypeforSuspendedTrans</th>\n",
       "      <th>URD Discount Amount</th>\n",
       "      <th>OGADJUSTEDAMOUNT</th>\n",
       "      <th>URDADDLDEDUCITON</th>\n",
       "      <th>new col</th>\n",
       "    </tr>\n",
       "    <tr>\n",
       "      <th>Date</th>\n",
       "      <th></th>\n",
       "      <th></th>\n",
       "      <th></th>\n",
       "      <th></th>\n",
       "      <th></th>\n",
       "      <th></th>\n",
       "      <th></th>\n",
       "      <th></th>\n",
       "      <th></th>\n",
       "      <th></th>\n",
       "      <th></th>\n",
       "      <th></th>\n",
       "      <th></th>\n",
       "      <th></th>\n",
       "      <th></th>\n",
       "      <th></th>\n",
       "      <th></th>\n",
       "      <th></th>\n",
       "      <th></th>\n",
       "      <th></th>\n",
       "      <th></th>\n",
       "    </tr>\n",
       "  </thead>\n",
       "  <tbody>\n",
       "    <tr>\n",
       "      <th>2023-09-21</th>\n",
       "      <td>Posted</td>\n",
       "      <td>0.00</td>\n",
       "      <td>19963.36</td>\n",
       "      <td>0.0</td>\n",
       "      <td>000983</td>\n",
       "      <td>Mahendra Reddy</td>\n",
       "      <td>113-113R1-12</td>\n",
       "      <td>OER23141-D900X0C</td>\n",
       "      <td>001850847</td>\n",
       "      <td>1130505976</td>\n",
       "      <td>...</td>\n",
       "      <td>NaN</td>\n",
       "      <td>MH</td>\n",
       "      <td>NaN</td>\n",
       "      <td>1900-01-01 00:00:00.0000000</td>\n",
       "      <td>NaN</td>\n",
       "      <td>Sales</td>\n",
       "      <td>0.0</td>\n",
       "      <td>0.0</td>\n",
       "      <td>0.0</td>\n",
       "      <td>NaN</td>\n",
       "    </tr>\n",
       "    <tr>\n",
       "      <th>2023-09-21</th>\n",
       "      <td>Posted</td>\n",
       "      <td>0.00</td>\n",
       "      <td>13927.35</td>\n",
       "      <td>0.0</td>\n",
       "      <td>000983</td>\n",
       "      <td>Mahendra Reddy</td>\n",
       "      <td>113-113R1-14</td>\n",
       "      <td>ONP23013-D300R0B</td>\n",
       "      <td>001826223</td>\n",
       "      <td>C_000109319</td>\n",
       "      <td>...</td>\n",
       "      <td>KOLHAPUR</td>\n",
       "      <td>MH</td>\n",
       "      <td>NaN</td>\n",
       "      <td>1900-01-01 00:00:00.0000000</td>\n",
       "      <td>NaN</td>\n",
       "      <td>Sales</td>\n",
       "      <td>0.0</td>\n",
       "      <td>0.0</td>\n",
       "      <td>0.0</td>\n",
       "      <td>KOLHAPUR2</td>\n",
       "    </tr>\n",
       "    <tr>\n",
       "      <th>2023-09-21</th>\n",
       "      <td>Posted</td>\n",
       "      <td>2309.13</td>\n",
       "      <td>20782.16</td>\n",
       "      <td>0.0</td>\n",
       "      <td>000983</td>\n",
       "      <td>Mahendra Reddy</td>\n",
       "      <td>197-197R1-26</td>\n",
       "      <td>OPE20027-D900X0C</td>\n",
       "      <td>001849961</td>\n",
       "      <td>C_000100561</td>\n",
       "      <td>...</td>\n",
       "      <td>Mumbai</td>\n",
       "      <td>MH</td>\n",
       "      <td>NaN</td>\n",
       "      <td>1900-01-01 00:00:00.0000000</td>\n",
       "      <td>NaN</td>\n",
       "      <td>Sales</td>\n",
       "      <td>0.0</td>\n",
       "      <td>0.0</td>\n",
       "      <td>0.0</td>\n",
       "      <td>Mumbai2</td>\n",
       "    </tr>\n",
       "    <tr>\n",
       "      <th>2023-09-21</th>\n",
       "      <td>Posted</td>\n",
       "      <td>2723.76</td>\n",
       "      <td>88068.12</td>\n",
       "      <td>0.0</td>\n",
       "      <td>000983</td>\n",
       "      <td>Mahendra Reddy</td>\n",
       "      <td>118-118R1-18</td>\n",
       "      <td>OPE22050-D300X0C</td>\n",
       "      <td>001724103</td>\n",
       "      <td>C_000049865</td>\n",
       "      <td>...</td>\n",
       "      <td>NaN</td>\n",
       "      <td>NaN</td>\n",
       "      <td>NaN</td>\n",
       "      <td>1900-01-01 00:00:00.0000000</td>\n",
       "      <td>NaN</td>\n",
       "      <td>Sales</td>\n",
       "      <td>0.0</td>\n",
       "      <td>0.0</td>\n",
       "      <td>0.0</td>\n",
       "      <td>NaN</td>\n",
       "    </tr>\n",
       "    <tr>\n",
       "      <th>2023-09-22</th>\n",
       "      <td>Posted</td>\n",
       "      <td>0.00</td>\n",
       "      <td>-29464.00</td>\n",
       "      <td>0.0</td>\n",
       "      <td>000983</td>\n",
       "      <td>Mahendra Reddy</td>\n",
       "      <td>118-118R1-64</td>\n",
       "      <td>Other Gold</td>\n",
       "      <td>NaN</td>\n",
       "      <td>1270510189</td>\n",
       "      <td>...</td>\n",
       "      <td>BEGUMPET</td>\n",
       "      <td>TS</td>\n",
       "      <td>NaN</td>\n",
       "      <td>1900-01-01 00:00:00.0000000</td>\n",
       "      <td>NaN</td>\n",
       "      <td>Sales</td>\n",
       "      <td>0.0</td>\n",
       "      <td>0.0</td>\n",
       "      <td>0.0</td>\n",
       "      <td>BEGUMPET2</td>\n",
       "    </tr>\n",
       "    <tr>\n",
       "      <th>...</th>\n",
       "      <td>...</td>\n",
       "      <td>...</td>\n",
       "      <td>...</td>\n",
       "      <td>...</td>\n",
       "      <td>...</td>\n",
       "      <td>...</td>\n",
       "      <td>...</td>\n",
       "      <td>...</td>\n",
       "      <td>...</td>\n",
       "      <td>...</td>\n",
       "      <td>...</td>\n",
       "      <td>...</td>\n",
       "      <td>...</td>\n",
       "      <td>...</td>\n",
       "      <td>...</td>\n",
       "      <td>...</td>\n",
       "      <td>...</td>\n",
       "      <td>...</td>\n",
       "      <td>...</td>\n",
       "      <td>...</td>\n",
       "      <td>...</td>\n",
       "    </tr>\n",
       "    <tr>\n",
       "      <th>2024-09-29</th>\n",
       "      <td>Posted</td>\n",
       "      <td>71452.05</td>\n",
       "      <td>285808.22</td>\n",
       "      <td>0.0</td>\n",
       "      <td>005410</td>\n",
       "      <td>NaN</td>\n",
       "      <td>118-118R1-17837</td>\n",
       "      <td>OSE22192-D309R0B</td>\n",
       "      <td>001845314</td>\n",
       "      <td>C_000296240</td>\n",
       "      <td>...</td>\n",
       "      <td>Hyderabad</td>\n",
       "      <td>TS</td>\n",
       "      <td>NaN</td>\n",
       "      <td>NaN</td>\n",
       "      <td>NaN</td>\n",
       "      <td>Sales</td>\n",
       "      <td>0.0</td>\n",
       "      <td>0.0</td>\n",
       "      <td>0.0</td>\n",
       "      <td>Hyderabad2</td>\n",
       "    </tr>\n",
       "    <tr>\n",
       "      <th>2024-09-29</th>\n",
       "      <td>Posted</td>\n",
       "      <td>71584.61</td>\n",
       "      <td>328437.45</td>\n",
       "      <td>0.0</td>\n",
       "      <td>004170</td>\n",
       "      <td>Sultan Shah Makandar .</td>\n",
       "      <td>165-165R2-6911</td>\n",
       "      <td>OSN23056-D900X1C</td>\n",
       "      <td>004404822</td>\n",
       "      <td>C_000296264</td>\n",
       "      <td>...</td>\n",
       "      <td>Goa Margaon</td>\n",
       "      <td>GA</td>\n",
       "      <td>NaN</td>\n",
       "      <td>1900-01-01 00:00:00.0000000</td>\n",
       "      <td>NaN</td>\n",
       "      <td>Sales</td>\n",
       "      <td>0.0</td>\n",
       "      <td>0.0</td>\n",
       "      <td>0.0</td>\n",
       "      <td>Goa Margaon2</td>\n",
       "    </tr>\n",
       "    <tr>\n",
       "      <th>2024-09-29</th>\n",
       "      <td>Posted</td>\n",
       "      <td>76655.78</td>\n",
       "      <td>231500.58</td>\n",
       "      <td>0.0</td>\n",
       "      <td>005388</td>\n",
       "      <td>SUBRAJITH DALAI</td>\n",
       "      <td>212-212R1-7641</td>\n",
       "      <td>OSN23050-D911X1C</td>\n",
       "      <td>004331496</td>\n",
       "      <td>C_000221767</td>\n",
       "      <td>...</td>\n",
       "      <td>Bangalore</td>\n",
       "      <td>KA</td>\n",
       "      <td>NaN</td>\n",
       "      <td>1900-01-01 00:00:00.0000000</td>\n",
       "      <td>NaN</td>\n",
       "      <td>Sales</td>\n",
       "      <td>0.0</td>\n",
       "      <td>0.0</td>\n",
       "      <td>0.0</td>\n",
       "      <td>Bangalore2</td>\n",
       "    </tr>\n",
       "    <tr>\n",
       "      <th>2024-09-29</th>\n",
       "      <td>Posted</td>\n",
       "      <td>88994.25</td>\n",
       "      <td>355976.98</td>\n",
       "      <td>0.0</td>\n",
       "      <td>004767</td>\n",
       "      <td>Dipalee Matelkar</td>\n",
       "      <td>229-229R1-10691</td>\n",
       "      <td>OTN23V04-D400XMB</td>\n",
       "      <td>004404700</td>\n",
       "      <td>C_000090859</td>\n",
       "      <td>...</td>\n",
       "      <td>NaN</td>\n",
       "      <td>NaN</td>\n",
       "      <td>Sales Officer</td>\n",
       "      <td>1900-01-01 00:00:00.0000000</td>\n",
       "      <td>NaN</td>\n",
       "      <td>Sales</td>\n",
       "      <td>0.0</td>\n",
       "      <td>0.0</td>\n",
       "      <td>0.0</td>\n",
       "      <td>NaN</td>\n",
       "    </tr>\n",
       "    <tr>\n",
       "      <th>2024-09-29</th>\n",
       "      <td>Posted</td>\n",
       "      <td>104425.15</td>\n",
       "      <td>313275.45</td>\n",
       "      <td>0.0</td>\n",
       "      <td>005888</td>\n",
       "      <td>SANJAY SHARMA</td>\n",
       "      <td>243-243R1-3593</td>\n",
       "      <td>OBF23031-A300WEB</td>\n",
       "      <td>004196577</td>\n",
       "      <td>C_000296286</td>\n",
       "      <td>...</td>\n",
       "      <td>Ahmedabad</td>\n",
       "      <td>GJ</td>\n",
       "      <td>Sales Officer</td>\n",
       "      <td>1900-01-01 00:00:00.0000000</td>\n",
       "      <td>NaN</td>\n",
       "      <td>Sales</td>\n",
       "      <td>0.0</td>\n",
       "      <td>0.0</td>\n",
       "      <td>0.0</td>\n",
       "      <td>Ahmedabad2</td>\n",
       "    </tr>\n",
       "  </tbody>\n",
       "</table>\n",
       "<p>248227 rows × 80 columns</p>\n",
       "</div>"
      ],
      "text/plain": [
       "           Transaction Status   Discount  Gross Amount  Net Sales Price  \\\n",
       "Date                                                                      \n",
       "2023-09-21             Posted       0.00      19963.36              0.0   \n",
       "2023-09-21             Posted       0.00      13927.35              0.0   \n",
       "2023-09-21             Posted    2309.13      20782.16              0.0   \n",
       "2023-09-21             Posted    2723.76      88068.12              0.0   \n",
       "2023-09-22             Posted       0.00     -29464.00              0.0   \n",
       "...                       ...        ...           ...              ...   \n",
       "2024-09-29             Posted   71452.05     285808.22              0.0   \n",
       "2024-09-29             Posted   71584.61     328437.45              0.0   \n",
       "2024-09-29             Posted   76655.78     231500.58              0.0   \n",
       "2024-09-29             Posted   88994.25     355976.98              0.0   \n",
       "2024-09-29             Posted  104425.15     313275.45              0.0   \n",
       "\n",
       "           Sales Person Code       Sales Person Name   Transaction ID  \\\n",
       "Date                                                                    \n",
       "2023-09-21            000983          Mahendra Reddy     113-113R1-12   \n",
       "2023-09-21            000983          Mahendra Reddy     113-113R1-14   \n",
       "2023-09-21            000983          Mahendra Reddy     197-197R1-26   \n",
       "2023-09-21            000983          Mahendra Reddy     118-118R1-18   \n",
       "2023-09-22            000983          Mahendra Reddy     118-118R1-64   \n",
       "...                      ...                     ...              ...   \n",
       "2024-09-29            005410                     NaN  118-118R1-17837   \n",
       "2024-09-29            004170  Sultan Shah Makandar .   165-165R2-6911   \n",
       "2024-09-29            005388         SUBRAJITH DALAI   212-212R1-7641   \n",
       "2024-09-29            004767        Dipalee Matelkar  229-229R1-10691   \n",
       "2024-09-29            005888           SANJAY SHARMA   243-243R1-3593   \n",
       "\n",
       "                   Design No Serial Number  Customer ID  ...         City  \\\n",
       "Date                                                     ...                \n",
       "2023-09-21  OER23141-D900X0C     001850847   1130505976  ...          NaN   \n",
       "2023-09-21  ONP23013-D300R0B     001826223  C_000109319  ...     KOLHAPUR   \n",
       "2023-09-21  OPE20027-D900X0C     001849961  C_000100561  ...       Mumbai   \n",
       "2023-09-21  OPE22050-D300X0C     001724103  C_000049865  ...          NaN   \n",
       "2023-09-22        Other Gold           NaN   1270510189  ...     BEGUMPET   \n",
       "...                      ...           ...          ...  ...          ...   \n",
       "2024-09-29  OSE22192-D309R0B     001845314  C_000296240  ...    Hyderabad   \n",
       "2024-09-29  OSN23056-D900X1C     004404822  C_000296264  ...  Goa Margaon   \n",
       "2024-09-29  OSN23050-D911X1C     004331496  C_000221767  ...    Bangalore   \n",
       "2024-09-29  OTN23V04-D400XMB     004404700  C_000090859  ...          NaN   \n",
       "2024-09-29  OBF23031-A300WEB     004196577  C_000296286  ...    Ahmedabad   \n",
       "\n",
       "            State Emp Desgination           Emp LastDateWorked Pan Number  \\\n",
       "Date                                                                        \n",
       "2023-09-21     MH             NaN  1900-01-01 00:00:00.0000000        NaN   \n",
       "2023-09-21     MH             NaN  1900-01-01 00:00:00.0000000        NaN   \n",
       "2023-09-21     MH             NaN  1900-01-01 00:00:00.0000000        NaN   \n",
       "2023-09-21    NaN             NaN  1900-01-01 00:00:00.0000000        NaN   \n",
       "2023-09-22     TS             NaN  1900-01-01 00:00:00.0000000        NaN   \n",
       "...           ...             ...                          ...        ...   \n",
       "2024-09-29     TS             NaN                          NaN        NaN   \n",
       "2024-09-29     GA             NaN  1900-01-01 00:00:00.0000000        NaN   \n",
       "2024-09-29     KA             NaN  1900-01-01 00:00:00.0000000        NaN   \n",
       "2024-09-29    NaN   Sales Officer  1900-01-01 00:00:00.0000000        NaN   \n",
       "2024-09-29     GJ   Sales Officer  1900-01-01 00:00:00.0000000        NaN   \n",
       "\n",
       "           TypeforSuspendedTrans URD Discount Amount OGADJUSTEDAMOUNT  \\\n",
       "Date                                                                    \n",
       "2023-09-21                 Sales                 0.0              0.0   \n",
       "2023-09-21                 Sales                 0.0              0.0   \n",
       "2023-09-21                 Sales                 0.0              0.0   \n",
       "2023-09-21                 Sales                 0.0              0.0   \n",
       "2023-09-22                 Sales                 0.0              0.0   \n",
       "...                          ...                 ...              ...   \n",
       "2024-09-29                 Sales                 0.0              0.0   \n",
       "2024-09-29                 Sales                 0.0              0.0   \n",
       "2024-09-29                 Sales                 0.0              0.0   \n",
       "2024-09-29                 Sales                 0.0              0.0   \n",
       "2024-09-29                 Sales                 0.0              0.0   \n",
       "\n",
       "           URDADDLDEDUCITON       new col  \n",
       "Date                                       \n",
       "2023-09-21              0.0           NaN  \n",
       "2023-09-21              0.0     KOLHAPUR2  \n",
       "2023-09-21              0.0       Mumbai2  \n",
       "2023-09-21              0.0           NaN  \n",
       "2023-09-22              0.0     BEGUMPET2  \n",
       "...                     ...           ...  \n",
       "2024-09-29              0.0    Hyderabad2  \n",
       "2024-09-29              0.0  Goa Margaon2  \n",
       "2024-09-29              0.0    Bangalore2  \n",
       "2024-09-29              0.0           NaN  \n",
       "2024-09-29              0.0    Ahmedabad2  \n",
       "\n",
       "[248227 rows x 80 columns]"
      ]
     },
     "execution_count": 70,
     "metadata": {},
     "output_type": "execute_result"
    }
   ],
   "source": [
    "s=sales.set_index('Sales Date').copy()\n",
    "s.index.rename('Date',inplace=1)\n",
    "s"
   ]
  },
  {
   "cell_type": "code",
   "execution_count": 71,
   "metadata": {},
   "outputs": [
    {
     "data": {
      "text/html": [
       "<div>\n",
       "<style scoped>\n",
       "    .dataframe tbody tr th:only-of-type {\n",
       "        vertical-align: middle;\n",
       "    }\n",
       "\n",
       "    .dataframe tbody tr th {\n",
       "        vertical-align: top;\n",
       "    }\n",
       "\n",
       "    .dataframe thead th {\n",
       "        text-align: right;\n",
       "    }\n",
       "</style>\n",
       "<table border=\"1\" class=\"dataframe\">\n",
       "  <thead>\n",
       "    <tr style=\"text-align: right;\">\n",
       "      <th></th>\n",
       "      <th>Sales Date</th>\n",
       "      <th>Transaction Status</th>\n",
       "      <th>Discount</th>\n",
       "      <th>Gross Amount</th>\n",
       "      <th>Net Sales Price</th>\n",
       "      <th>Sales Person Code</th>\n",
       "      <th>Sales Person Name</th>\n",
       "      <th>Transaction ID</th>\n",
       "      <th>Design No</th>\n",
       "      <th>Serial Number</th>\n",
       "      <th>...</th>\n",
       "      <th>City</th>\n",
       "      <th>State</th>\n",
       "      <th>Emp Desgination</th>\n",
       "      <th>Emp LastDateWorked</th>\n",
       "      <th>Pan Number</th>\n",
       "      <th>TypeforSuspendedTrans</th>\n",
       "      <th>URD Discount Amount</th>\n",
       "      <th>OGADJUSTEDAMOUNT</th>\n",
       "      <th>URDADDLDEDUCITON</th>\n",
       "      <th>new col</th>\n",
       "    </tr>\n",
       "  </thead>\n",
       "  <tbody>\n",
       "    <tr>\n",
       "      <th>0</th>\n",
       "      <td>2023-09-21</td>\n",
       "      <td>Posted</td>\n",
       "      <td>0.00</td>\n",
       "      <td>19963.36</td>\n",
       "      <td>0.0</td>\n",
       "      <td>000983</td>\n",
       "      <td>Mahendra Reddy</td>\n",
       "      <td>113-113R1-12</td>\n",
       "      <td>OER23141-D900X0C</td>\n",
       "      <td>001850847</td>\n",
       "      <td>...</td>\n",
       "      <td>NaN</td>\n",
       "      <td>MH</td>\n",
       "      <td>NaN</td>\n",
       "      <td>1900-01-01 00:00:00.0000000</td>\n",
       "      <td>NaN</td>\n",
       "      <td>Sales</td>\n",
       "      <td>0.0</td>\n",
       "      <td>0.0</td>\n",
       "      <td>0.0</td>\n",
       "      <td>NaN</td>\n",
       "    </tr>\n",
       "    <tr>\n",
       "      <th>1</th>\n",
       "      <td>2023-09-21</td>\n",
       "      <td>Posted</td>\n",
       "      <td>0.00</td>\n",
       "      <td>13927.35</td>\n",
       "      <td>0.0</td>\n",
       "      <td>000983</td>\n",
       "      <td>Mahendra Reddy</td>\n",
       "      <td>113-113R1-14</td>\n",
       "      <td>ONP23013-D300R0B</td>\n",
       "      <td>001826223</td>\n",
       "      <td>...</td>\n",
       "      <td>KOLHAPUR</td>\n",
       "      <td>MH</td>\n",
       "      <td>NaN</td>\n",
       "      <td>1900-01-01 00:00:00.0000000</td>\n",
       "      <td>NaN</td>\n",
       "      <td>Sales</td>\n",
       "      <td>0.0</td>\n",
       "      <td>0.0</td>\n",
       "      <td>0.0</td>\n",
       "      <td>KOLHAPUR2</td>\n",
       "    </tr>\n",
       "    <tr>\n",
       "      <th>2</th>\n",
       "      <td>2023-09-21</td>\n",
       "      <td>Posted</td>\n",
       "      <td>2309.13</td>\n",
       "      <td>20782.16</td>\n",
       "      <td>0.0</td>\n",
       "      <td>000983</td>\n",
       "      <td>Mahendra Reddy</td>\n",
       "      <td>197-197R1-26</td>\n",
       "      <td>OPE20027-D900X0C</td>\n",
       "      <td>001849961</td>\n",
       "      <td>...</td>\n",
       "      <td>Mumbai</td>\n",
       "      <td>MH</td>\n",
       "      <td>NaN</td>\n",
       "      <td>1900-01-01 00:00:00.0000000</td>\n",
       "      <td>NaN</td>\n",
       "      <td>Sales</td>\n",
       "      <td>0.0</td>\n",
       "      <td>0.0</td>\n",
       "      <td>0.0</td>\n",
       "      <td>Mumbai2</td>\n",
       "    </tr>\n",
       "    <tr>\n",
       "      <th>3</th>\n",
       "      <td>2023-09-21</td>\n",
       "      <td>Posted</td>\n",
       "      <td>2723.76</td>\n",
       "      <td>88068.12</td>\n",
       "      <td>0.0</td>\n",
       "      <td>000983</td>\n",
       "      <td>Mahendra Reddy</td>\n",
       "      <td>118-118R1-18</td>\n",
       "      <td>OPE22050-D300X0C</td>\n",
       "      <td>001724103</td>\n",
       "      <td>...</td>\n",
       "      <td>NaN</td>\n",
       "      <td>NaN</td>\n",
       "      <td>NaN</td>\n",
       "      <td>1900-01-01 00:00:00.0000000</td>\n",
       "      <td>NaN</td>\n",
       "      <td>Sales</td>\n",
       "      <td>0.0</td>\n",
       "      <td>0.0</td>\n",
       "      <td>0.0</td>\n",
       "      <td>NaN</td>\n",
       "    </tr>\n",
       "    <tr>\n",
       "      <th>4</th>\n",
       "      <td>2023-09-22</td>\n",
       "      <td>Posted</td>\n",
       "      <td>0.00</td>\n",
       "      <td>-29464.00</td>\n",
       "      <td>0.0</td>\n",
       "      <td>000983</td>\n",
       "      <td>Mahendra Reddy</td>\n",
       "      <td>118-118R1-64</td>\n",
       "      <td>Other Gold</td>\n",
       "      <td>NaN</td>\n",
       "      <td>...</td>\n",
       "      <td>BEGUMPET</td>\n",
       "      <td>TS</td>\n",
       "      <td>NaN</td>\n",
       "      <td>1900-01-01 00:00:00.0000000</td>\n",
       "      <td>NaN</td>\n",
       "      <td>Sales</td>\n",
       "      <td>0.0</td>\n",
       "      <td>0.0</td>\n",
       "      <td>0.0</td>\n",
       "      <td>BEGUMPET2</td>\n",
       "    </tr>\n",
       "    <tr>\n",
       "      <th>...</th>\n",
       "      <td>...</td>\n",
       "      <td>...</td>\n",
       "      <td>...</td>\n",
       "      <td>...</td>\n",
       "      <td>...</td>\n",
       "      <td>...</td>\n",
       "      <td>...</td>\n",
       "      <td>...</td>\n",
       "      <td>...</td>\n",
       "      <td>...</td>\n",
       "      <td>...</td>\n",
       "      <td>...</td>\n",
       "      <td>...</td>\n",
       "      <td>...</td>\n",
       "      <td>...</td>\n",
       "      <td>...</td>\n",
       "      <td>...</td>\n",
       "      <td>...</td>\n",
       "      <td>...</td>\n",
       "      <td>...</td>\n",
       "      <td>...</td>\n",
       "    </tr>\n",
       "    <tr>\n",
       "      <th>248222</th>\n",
       "      <td>2024-09-29</td>\n",
       "      <td>Posted</td>\n",
       "      <td>71452.05</td>\n",
       "      <td>285808.22</td>\n",
       "      <td>0.0</td>\n",
       "      <td>005410</td>\n",
       "      <td>NaN</td>\n",
       "      <td>118-118R1-17837</td>\n",
       "      <td>OSE22192-D309R0B</td>\n",
       "      <td>001845314</td>\n",
       "      <td>...</td>\n",
       "      <td>Hyderabad</td>\n",
       "      <td>TS</td>\n",
       "      <td>NaN</td>\n",
       "      <td>NaN</td>\n",
       "      <td>NaN</td>\n",
       "      <td>Sales</td>\n",
       "      <td>0.0</td>\n",
       "      <td>0.0</td>\n",
       "      <td>0.0</td>\n",
       "      <td>Hyderabad2</td>\n",
       "    </tr>\n",
       "    <tr>\n",
       "      <th>248223</th>\n",
       "      <td>2024-09-29</td>\n",
       "      <td>Posted</td>\n",
       "      <td>71584.61</td>\n",
       "      <td>328437.45</td>\n",
       "      <td>0.0</td>\n",
       "      <td>004170</td>\n",
       "      <td>Sultan Shah Makandar .</td>\n",
       "      <td>165-165R2-6911</td>\n",
       "      <td>OSN23056-D900X1C</td>\n",
       "      <td>004404822</td>\n",
       "      <td>...</td>\n",
       "      <td>Goa Margaon</td>\n",
       "      <td>GA</td>\n",
       "      <td>NaN</td>\n",
       "      <td>1900-01-01 00:00:00.0000000</td>\n",
       "      <td>NaN</td>\n",
       "      <td>Sales</td>\n",
       "      <td>0.0</td>\n",
       "      <td>0.0</td>\n",
       "      <td>0.0</td>\n",
       "      <td>Goa Margaon2</td>\n",
       "    </tr>\n",
       "    <tr>\n",
       "      <th>248224</th>\n",
       "      <td>2024-09-29</td>\n",
       "      <td>Posted</td>\n",
       "      <td>76655.78</td>\n",
       "      <td>231500.58</td>\n",
       "      <td>0.0</td>\n",
       "      <td>005388</td>\n",
       "      <td>SUBRAJITH DALAI</td>\n",
       "      <td>212-212R1-7641</td>\n",
       "      <td>OSN23050-D911X1C</td>\n",
       "      <td>004331496</td>\n",
       "      <td>...</td>\n",
       "      <td>Bangalore</td>\n",
       "      <td>KA</td>\n",
       "      <td>NaN</td>\n",
       "      <td>1900-01-01 00:00:00.0000000</td>\n",
       "      <td>NaN</td>\n",
       "      <td>Sales</td>\n",
       "      <td>0.0</td>\n",
       "      <td>0.0</td>\n",
       "      <td>0.0</td>\n",
       "      <td>Bangalore2</td>\n",
       "    </tr>\n",
       "    <tr>\n",
       "      <th>248225</th>\n",
       "      <td>2024-09-29</td>\n",
       "      <td>Posted</td>\n",
       "      <td>88994.25</td>\n",
       "      <td>355976.98</td>\n",
       "      <td>0.0</td>\n",
       "      <td>004767</td>\n",
       "      <td>Dipalee Matelkar</td>\n",
       "      <td>229-229R1-10691</td>\n",
       "      <td>OTN23V04-D400XMB</td>\n",
       "      <td>004404700</td>\n",
       "      <td>...</td>\n",
       "      <td>NaN</td>\n",
       "      <td>NaN</td>\n",
       "      <td>Sales Officer</td>\n",
       "      <td>1900-01-01 00:00:00.0000000</td>\n",
       "      <td>NaN</td>\n",
       "      <td>Sales</td>\n",
       "      <td>0.0</td>\n",
       "      <td>0.0</td>\n",
       "      <td>0.0</td>\n",
       "      <td>NaN</td>\n",
       "    </tr>\n",
       "    <tr>\n",
       "      <th>248226</th>\n",
       "      <td>2024-09-29</td>\n",
       "      <td>Posted</td>\n",
       "      <td>104425.15</td>\n",
       "      <td>313275.45</td>\n",
       "      <td>0.0</td>\n",
       "      <td>005888</td>\n",
       "      <td>SANJAY SHARMA</td>\n",
       "      <td>243-243R1-3593</td>\n",
       "      <td>OBF23031-A300WEB</td>\n",
       "      <td>004196577</td>\n",
       "      <td>...</td>\n",
       "      <td>Ahmedabad</td>\n",
       "      <td>GJ</td>\n",
       "      <td>Sales Officer</td>\n",
       "      <td>1900-01-01 00:00:00.0000000</td>\n",
       "      <td>NaN</td>\n",
       "      <td>Sales</td>\n",
       "      <td>0.0</td>\n",
       "      <td>0.0</td>\n",
       "      <td>0.0</td>\n",
       "      <td>Ahmedabad2</td>\n",
       "    </tr>\n",
       "  </tbody>\n",
       "</table>\n",
       "<p>248227 rows × 81 columns</p>\n",
       "</div>"
      ],
      "text/plain": [
       "        Sales Date Transaction Status   Discount  Gross Amount  \\\n",
       "0       2023-09-21             Posted       0.00      19963.36   \n",
       "1       2023-09-21             Posted       0.00      13927.35   \n",
       "2       2023-09-21             Posted    2309.13      20782.16   \n",
       "3       2023-09-21             Posted    2723.76      88068.12   \n",
       "4       2023-09-22             Posted       0.00     -29464.00   \n",
       "...            ...                ...        ...           ...   \n",
       "248222  2024-09-29             Posted   71452.05     285808.22   \n",
       "248223  2024-09-29             Posted   71584.61     328437.45   \n",
       "248224  2024-09-29             Posted   76655.78     231500.58   \n",
       "248225  2024-09-29             Posted   88994.25     355976.98   \n",
       "248226  2024-09-29             Posted  104425.15     313275.45   \n",
       "\n",
       "        Net Sales Price Sales Person Code       Sales Person Name  \\\n",
       "0                   0.0            000983          Mahendra Reddy   \n",
       "1                   0.0            000983          Mahendra Reddy   \n",
       "2                   0.0            000983          Mahendra Reddy   \n",
       "3                   0.0            000983          Mahendra Reddy   \n",
       "4                   0.0            000983          Mahendra Reddy   \n",
       "...                 ...               ...                     ...   \n",
       "248222              0.0            005410                     NaN   \n",
       "248223              0.0            004170  Sultan Shah Makandar .   \n",
       "248224              0.0            005388         SUBRAJITH DALAI   \n",
       "248225              0.0            004767        Dipalee Matelkar   \n",
       "248226              0.0            005888           SANJAY SHARMA   \n",
       "\n",
       "         Transaction ID         Design No Serial Number  ...         City  \\\n",
       "0          113-113R1-12  OER23141-D900X0C     001850847  ...          NaN   \n",
       "1          113-113R1-14  ONP23013-D300R0B     001826223  ...     KOLHAPUR   \n",
       "2          197-197R1-26  OPE20027-D900X0C     001849961  ...       Mumbai   \n",
       "3          118-118R1-18  OPE22050-D300X0C     001724103  ...          NaN   \n",
       "4          118-118R1-64        Other Gold           NaN  ...     BEGUMPET   \n",
       "...                 ...               ...           ...  ...          ...   \n",
       "248222  118-118R1-17837  OSE22192-D309R0B     001845314  ...    Hyderabad   \n",
       "248223   165-165R2-6911  OSN23056-D900X1C     004404822  ...  Goa Margaon   \n",
       "248224   212-212R1-7641  OSN23050-D911X1C     004331496  ...    Bangalore   \n",
       "248225  229-229R1-10691  OTN23V04-D400XMB     004404700  ...          NaN   \n",
       "248226   243-243R1-3593  OBF23031-A300WEB     004196577  ...    Ahmedabad   \n",
       "\n",
       "       State  Emp Desgination           Emp LastDateWorked Pan Number  \\\n",
       "0         MH              NaN  1900-01-01 00:00:00.0000000        NaN   \n",
       "1         MH              NaN  1900-01-01 00:00:00.0000000        NaN   \n",
       "2         MH              NaN  1900-01-01 00:00:00.0000000        NaN   \n",
       "3        NaN              NaN  1900-01-01 00:00:00.0000000        NaN   \n",
       "4         TS              NaN  1900-01-01 00:00:00.0000000        NaN   \n",
       "...      ...              ...                          ...        ...   \n",
       "248222    TS              NaN                          NaN        NaN   \n",
       "248223    GA              NaN  1900-01-01 00:00:00.0000000        NaN   \n",
       "248224    KA              NaN  1900-01-01 00:00:00.0000000        NaN   \n",
       "248225   NaN    Sales Officer  1900-01-01 00:00:00.0000000        NaN   \n",
       "248226    GJ    Sales Officer  1900-01-01 00:00:00.0000000        NaN   \n",
       "\n",
       "       TypeforSuspendedTrans URD Discount Amount OGADJUSTEDAMOUNT  \\\n",
       "0                      Sales                 0.0              0.0   \n",
       "1                      Sales                 0.0              0.0   \n",
       "2                      Sales                 0.0              0.0   \n",
       "3                      Sales                 0.0              0.0   \n",
       "4                      Sales                 0.0              0.0   \n",
       "...                      ...                 ...              ...   \n",
       "248222                 Sales                 0.0              0.0   \n",
       "248223                 Sales                 0.0              0.0   \n",
       "248224                 Sales                 0.0              0.0   \n",
       "248225                 Sales                 0.0              0.0   \n",
       "248226                 Sales                 0.0              0.0   \n",
       "\n",
       "       URDADDLDEDUCITON       new col  \n",
       "0                   0.0           NaN  \n",
       "1                   0.0     KOLHAPUR2  \n",
       "2                   0.0       Mumbai2  \n",
       "3                   0.0           NaN  \n",
       "4                   0.0     BEGUMPET2  \n",
       "...                 ...           ...  \n",
       "248222              0.0    Hyderabad2  \n",
       "248223              0.0  Goa Margaon2  \n",
       "248224              0.0    Bangalore2  \n",
       "248225              0.0           NaN  \n",
       "248226              0.0    Ahmedabad2  \n",
       "\n",
       "[248227 rows x 81 columns]"
      ]
     },
     "execution_count": 71,
     "metadata": {},
     "output_type": "execute_result"
    }
   ],
   "source": [
    "s.rename_axis('Sales Date',inplace=True)\n",
    "s.reset_index(inplace=True)\n",
    "s.rename_axis(None,inplace=True)\n",
    "s"
   ]
  },
  {
   "cell_type": "code",
   "execution_count": 72,
   "metadata": {},
   "outputs": [
    {
     "data": {
      "text/html": [
       "<div>\n",
       "<style scoped>\n",
       "    .dataframe tbody tr th:only-of-type {\n",
       "        vertical-align: middle;\n",
       "    }\n",
       "\n",
       "    .dataframe tbody tr th {\n",
       "        vertical-align: top;\n",
       "    }\n",
       "\n",
       "    .dataframe thead th {\n",
       "        text-align: right;\n",
       "    }\n",
       "</style>\n",
       "<table border=\"1\" class=\"dataframe\">\n",
       "  <thead>\n",
       "    <tr style=\"text-align: right;\">\n",
       "      <th></th>\n",
       "      <th>Sales Date</th>\n",
       "      <th>Transaction Status</th>\n",
       "      <th>Discount</th>\n",
       "      <th>Gross Amount</th>\n",
       "      <th>Net Sales Price</th>\n",
       "      <th>Sales Person Code</th>\n",
       "      <th>Sales Person Name</th>\n",
       "      <th>Transaction ID</th>\n",
       "      <th>Design No</th>\n",
       "      <th>Serial Number</th>\n",
       "      <th>...</th>\n",
       "      <th>City</th>\n",
       "      <th>State</th>\n",
       "      <th>Emp Desgination</th>\n",
       "      <th>Emp LastDateWorked</th>\n",
       "      <th>Pan Number</th>\n",
       "      <th>TypeforSuspendedTrans</th>\n",
       "      <th>URD Discount Amount</th>\n",
       "      <th>OGADJUSTEDAMOUNT</th>\n",
       "      <th>URDADDLDEDUCITON</th>\n",
       "      <th>new col</th>\n",
       "    </tr>\n",
       "  </thead>\n",
       "  <tbody>\n",
       "    <tr>\n",
       "      <th>2800</th>\n",
       "      <td>2023-10-19</td>\n",
       "      <td>Posted</td>\n",
       "      <td>0.0</td>\n",
       "      <td>0.02</td>\n",
       "      <td>0.0</td>\n",
       "      <td>000031</td>\n",
       "      <td>Delhi SX .</td>\n",
       "      <td>112-112R1-1356</td>\n",
       "      <td>MP</td>\n",
       "      <td>NaN</td>\n",
       "      <td>...</td>\n",
       "      <td>New Delhi</td>\n",
       "      <td>DL</td>\n",
       "      <td>NaN</td>\n",
       "      <td>1900-01-01 00:00:00.0000000</td>\n",
       "      <td>NaN</td>\n",
       "      <td>Sales</td>\n",
       "      <td>NaN</td>\n",
       "      <td>NaN</td>\n",
       "      <td>NaN</td>\n",
       "      <td>New Delhi2</td>\n",
       "    </tr>\n",
       "    <tr>\n",
       "      <th>2805</th>\n",
       "      <td>2023-10-19</td>\n",
       "      <td>Posted</td>\n",
       "      <td>0.0</td>\n",
       "      <td>0.02</td>\n",
       "      <td>0.0</td>\n",
       "      <td>002317</td>\n",
       "      <td>Chitrapratima .</td>\n",
       "      <td>168-168R1-1284</td>\n",
       "      <td>MP</td>\n",
       "      <td>NaN</td>\n",
       "      <td>...</td>\n",
       "      <td>NaN</td>\n",
       "      <td>NaN</td>\n",
       "      <td>NaN</td>\n",
       "      <td>1900-01-01 00:00:00.0000000</td>\n",
       "      <td>NaN</td>\n",
       "      <td>Sales</td>\n",
       "      <td>NaN</td>\n",
       "      <td>NaN</td>\n",
       "      <td>NaN</td>\n",
       "      <td>NaN</td>\n",
       "    </tr>\n",
       "    <tr>\n",
       "      <th>2808</th>\n",
       "      <td>2023-10-19</td>\n",
       "      <td>Posted</td>\n",
       "      <td>0.0</td>\n",
       "      <td>0.02</td>\n",
       "      <td>0.0</td>\n",
       "      <td>002576</td>\n",
       "      <td>Neetu Sharma</td>\n",
       "      <td>162-162R1-328</td>\n",
       "      <td>MP</td>\n",
       "      <td>NaN</td>\n",
       "      <td>...</td>\n",
       "      <td>Gwalior</td>\n",
       "      <td>MP</td>\n",
       "      <td>Sales Officer</td>\n",
       "      <td>1900-01-01 00:00:00.0000000</td>\n",
       "      <td>NaN</td>\n",
       "      <td>Sales</td>\n",
       "      <td>NaN</td>\n",
       "      <td>NaN</td>\n",
       "      <td>NaN</td>\n",
       "      <td>Gwalior2</td>\n",
       "    </tr>\n",
       "    <tr>\n",
       "      <th>2811</th>\n",
       "      <td>2023-10-19</td>\n",
       "      <td>Posted</td>\n",
       "      <td>0.0</td>\n",
       "      <td>0.02</td>\n",
       "      <td>0.0</td>\n",
       "      <td>003235</td>\n",
       "      <td>Aishwarya Shivbaran Gupta .</td>\n",
       "      <td>169-169R1-187</td>\n",
       "      <td>MP</td>\n",
       "      <td>NaN</td>\n",
       "      <td>...</td>\n",
       "      <td>PUNE</td>\n",
       "      <td>MH</td>\n",
       "      <td>NaN</td>\n",
       "      <td>1900-01-01 00:00:00.0000000</td>\n",
       "      <td>NaN</td>\n",
       "      <td>Sales</td>\n",
       "      <td>NaN</td>\n",
       "      <td>NaN</td>\n",
       "      <td>NaN</td>\n",
       "      <td>PUNE2</td>\n",
       "    </tr>\n",
       "    <tr>\n",
       "      <th>2814</th>\n",
       "      <td>2023-10-19</td>\n",
       "      <td>Posted</td>\n",
       "      <td>0.0</td>\n",
       "      <td>0.02</td>\n",
       "      <td>0.0</td>\n",
       "      <td>003450</td>\n",
       "      <td>Shiv Kumar Chari</td>\n",
       "      <td>187-187R1-169</td>\n",
       "      <td>MP</td>\n",
       "      <td>NaN</td>\n",
       "      <td>...</td>\n",
       "      <td>Hyderabad</td>\n",
       "      <td>TS</td>\n",
       "      <td>Sales Officer</td>\n",
       "      <td>1900-01-01 00:00:00.0000000</td>\n",
       "      <td>NaN</td>\n",
       "      <td>Sales</td>\n",
       "      <td>NaN</td>\n",
       "      <td>NaN</td>\n",
       "      <td>NaN</td>\n",
       "      <td>Hyderabad2</td>\n",
       "    </tr>\n",
       "    <tr>\n",
       "      <th>...</th>\n",
       "      <td>...</td>\n",
       "      <td>...</td>\n",
       "      <td>...</td>\n",
       "      <td>...</td>\n",
       "      <td>...</td>\n",
       "      <td>...</td>\n",
       "      <td>...</td>\n",
       "      <td>...</td>\n",
       "      <td>...</td>\n",
       "      <td>...</td>\n",
       "      <td>...</td>\n",
       "      <td>...</td>\n",
       "      <td>...</td>\n",
       "      <td>...</td>\n",
       "      <td>...</td>\n",
       "      <td>...</td>\n",
       "      <td>...</td>\n",
       "      <td>...</td>\n",
       "      <td>...</td>\n",
       "      <td>...</td>\n",
       "      <td>...</td>\n",
       "    </tr>\n",
       "    <tr>\n",
       "      <th>247887</th>\n",
       "      <td>2024-09-29</td>\n",
       "      <td>Posted</td>\n",
       "      <td>0.0</td>\n",
       "      <td>0.02</td>\n",
       "      <td>0.0</td>\n",
       "      <td>005388</td>\n",
       "      <td>SUBRAJITH DALAI</td>\n",
       "      <td>212-212R1-7649</td>\n",
       "      <td>MP</td>\n",
       "      <td>NaN</td>\n",
       "      <td>...</td>\n",
       "      <td>Bangalore</td>\n",
       "      <td>KA</td>\n",
       "      <td>NaN</td>\n",
       "      <td>1900-01-01 00:00:00.0000000</td>\n",
       "      <td>NaN</td>\n",
       "      <td>Sales</td>\n",
       "      <td>NaN</td>\n",
       "      <td>NaN</td>\n",
       "      <td>NaN</td>\n",
       "      <td>Bangalore2</td>\n",
       "    </tr>\n",
       "    <tr>\n",
       "      <th>247890</th>\n",
       "      <td>2024-09-29</td>\n",
       "      <td>Posted</td>\n",
       "      <td>0.0</td>\n",
       "      <td>0.02</td>\n",
       "      <td>0.0</td>\n",
       "      <td>005444</td>\n",
       "      <td>Esha Sharma</td>\n",
       "      <td>132-132R1-14700</td>\n",
       "      <td>MP</td>\n",
       "      <td>NaN</td>\n",
       "      <td>...</td>\n",
       "      <td>Noida</td>\n",
       "      <td>UP</td>\n",
       "      <td>NaN</td>\n",
       "      <td>1900-01-01 00:00:00.0000000</td>\n",
       "      <td>NaN</td>\n",
       "      <td>Sales</td>\n",
       "      <td>NaN</td>\n",
       "      <td>NaN</td>\n",
       "      <td>NaN</td>\n",
       "      <td>Noida2</td>\n",
       "    </tr>\n",
       "    <tr>\n",
       "      <th>247893</th>\n",
       "      <td>2024-09-29</td>\n",
       "      <td>Posted</td>\n",
       "      <td>0.0</td>\n",
       "      <td>0.02</td>\n",
       "      <td>0.0</td>\n",
       "      <td>005828</td>\n",
       "      <td>Chethan</td>\n",
       "      <td>218-218R1-8415</td>\n",
       "      <td>MP</td>\n",
       "      <td>NaN</td>\n",
       "      <td>...</td>\n",
       "      <td>Bangalore</td>\n",
       "      <td>KA</td>\n",
       "      <td>NaN</td>\n",
       "      <td>1900-01-01 00:00:00.0000000</td>\n",
       "      <td>NaN</td>\n",
       "      <td>Sales</td>\n",
       "      <td>NaN</td>\n",
       "      <td>NaN</td>\n",
       "      <td>NaN</td>\n",
       "      <td>Bangalore2</td>\n",
       "    </tr>\n",
       "    <tr>\n",
       "      <th>247896</th>\n",
       "      <td>2024-09-29</td>\n",
       "      <td>Posted</td>\n",
       "      <td>0.0</td>\n",
       "      <td>0.02</td>\n",
       "      <td>0.0</td>\n",
       "      <td>005963</td>\n",
       "      <td>NIDHI SHARMA</td>\n",
       "      <td>188-188R1-10073</td>\n",
       "      <td>MP</td>\n",
       "      <td>NaN</td>\n",
       "      <td>...</td>\n",
       "      <td>Noida</td>\n",
       "      <td>UP</td>\n",
       "      <td>NaN</td>\n",
       "      <td>1900-01-01 00:00:00.0000000</td>\n",
       "      <td>NaN</td>\n",
       "      <td>Sales</td>\n",
       "      <td>NaN</td>\n",
       "      <td>NaN</td>\n",
       "      <td>NaN</td>\n",
       "      <td>Noida2</td>\n",
       "    </tr>\n",
       "    <tr>\n",
       "      <th>247898</th>\n",
       "      <td>2024-09-29</td>\n",
       "      <td>Posted</td>\n",
       "      <td>0.0</td>\n",
       "      <td>0.02</td>\n",
       "      <td>0.0</td>\n",
       "      <td>006107</td>\n",
       "      <td>Harcharan</td>\n",
       "      <td>182-182R1-9485</td>\n",
       "      <td>MP</td>\n",
       "      <td>NaN</td>\n",
       "      <td>...</td>\n",
       "      <td>CHANDIGARH</td>\n",
       "      <td>PB</td>\n",
       "      <td>NaN</td>\n",
       "      <td>1900-01-01 00:00:00.0000000</td>\n",
       "      <td>NaN</td>\n",
       "      <td>Sales</td>\n",
       "      <td>NaN</td>\n",
       "      <td>NaN</td>\n",
       "      <td>NaN</td>\n",
       "      <td>CHANDIGARH2</td>\n",
       "    </tr>\n",
       "  </tbody>\n",
       "</table>\n",
       "<p>7851 rows × 81 columns</p>\n",
       "</div>"
      ],
      "text/plain": [
       "        Sales Date Transaction Status  Discount  Gross Amount  \\\n",
       "2800    2023-10-19             Posted       0.0          0.02   \n",
       "2805    2023-10-19             Posted       0.0          0.02   \n",
       "2808    2023-10-19             Posted       0.0          0.02   \n",
       "2811    2023-10-19             Posted       0.0          0.02   \n",
       "2814    2023-10-19             Posted       0.0          0.02   \n",
       "...            ...                ...       ...           ...   \n",
       "247887  2024-09-29             Posted       0.0          0.02   \n",
       "247890  2024-09-29             Posted       0.0          0.02   \n",
       "247893  2024-09-29             Posted       0.0          0.02   \n",
       "247896  2024-09-29             Posted       0.0          0.02   \n",
       "247898  2024-09-29             Posted       0.0          0.02   \n",
       "\n",
       "        Net Sales Price Sales Person Code            Sales Person Name  \\\n",
       "2800                0.0            000031                   Delhi SX .   \n",
       "2805                0.0            002317              Chitrapratima .   \n",
       "2808                0.0            002576                 Neetu Sharma   \n",
       "2811                0.0            003235  Aishwarya Shivbaran Gupta .   \n",
       "2814                0.0            003450             Shiv Kumar Chari   \n",
       "...                 ...               ...                          ...   \n",
       "247887              0.0            005388              SUBRAJITH DALAI   \n",
       "247890              0.0            005444                  Esha Sharma   \n",
       "247893              0.0            005828                      Chethan   \n",
       "247896              0.0            005963                 NIDHI SHARMA   \n",
       "247898              0.0            006107                    Harcharan   \n",
       "\n",
       "         Transaction ID Design No Serial Number  ...        City State  \\\n",
       "2800     112-112R1-1356        MP           NaN  ...   New Delhi    DL   \n",
       "2805     168-168R1-1284        MP           NaN  ...         NaN   NaN   \n",
       "2808      162-162R1-328        MP           NaN  ...     Gwalior    MP   \n",
       "2811      169-169R1-187        MP           NaN  ...        PUNE    MH   \n",
       "2814      187-187R1-169        MP           NaN  ...   Hyderabad    TS   \n",
       "...                 ...       ...           ...  ...         ...   ...   \n",
       "247887   212-212R1-7649        MP           NaN  ...   Bangalore    KA   \n",
       "247890  132-132R1-14700        MP           NaN  ...       Noida    UP   \n",
       "247893   218-218R1-8415        MP           NaN  ...   Bangalore    KA   \n",
       "247896  188-188R1-10073        MP           NaN  ...       Noida    UP   \n",
       "247898   182-182R1-9485        MP           NaN  ...  CHANDIGARH    PB   \n",
       "\n",
       "        Emp Desgination           Emp LastDateWorked Pan Number  \\\n",
       "2800                NaN  1900-01-01 00:00:00.0000000        NaN   \n",
       "2805                NaN  1900-01-01 00:00:00.0000000        NaN   \n",
       "2808      Sales Officer  1900-01-01 00:00:00.0000000        NaN   \n",
       "2811                NaN  1900-01-01 00:00:00.0000000        NaN   \n",
       "2814      Sales Officer  1900-01-01 00:00:00.0000000        NaN   \n",
       "...                 ...                          ...        ...   \n",
       "247887              NaN  1900-01-01 00:00:00.0000000        NaN   \n",
       "247890              NaN  1900-01-01 00:00:00.0000000        NaN   \n",
       "247893              NaN  1900-01-01 00:00:00.0000000        NaN   \n",
       "247896              NaN  1900-01-01 00:00:00.0000000        NaN   \n",
       "247898              NaN  1900-01-01 00:00:00.0000000        NaN   \n",
       "\n",
       "       TypeforSuspendedTrans URD Discount Amount OGADJUSTEDAMOUNT  \\\n",
       "2800                   Sales                 NaN              NaN   \n",
       "2805                   Sales                 NaN              NaN   \n",
       "2808                   Sales                 NaN              NaN   \n",
       "2811                   Sales                 NaN              NaN   \n",
       "2814                   Sales                 NaN              NaN   \n",
       "...                      ...                 ...              ...   \n",
       "247887                 Sales                 NaN              NaN   \n",
       "247890                 Sales                 NaN              NaN   \n",
       "247893                 Sales                 NaN              NaN   \n",
       "247896                 Sales                 NaN              NaN   \n",
       "247898                 Sales                 NaN              NaN   \n",
       "\n",
       "       URDADDLDEDUCITON      new col  \n",
       "2800                NaN   New Delhi2  \n",
       "2805                NaN          NaN  \n",
       "2808                NaN     Gwalior2  \n",
       "2811                NaN        PUNE2  \n",
       "2814                NaN   Hyderabad2  \n",
       "...                 ...          ...  \n",
       "247887              NaN   Bangalore2  \n",
       "247890              NaN       Noida2  \n",
       "247893              NaN   Bangalore2  \n",
       "247896              NaN       Noida2  \n",
       "247898              NaN  CHANDIGARH2  \n",
       "\n",
       "[7851 rows x 81 columns]"
      ]
     },
     "execution_count": 72,
     "metadata": {},
     "output_type": "execute_result"
    }
   ],
   "source": [
    "s[s.duplicated()]"
   ]
  },
  {
   "cell_type": "code",
   "execution_count": 73,
   "metadata": {},
   "outputs": [
    {
     "data": {
      "text/html": [
       "<div>\n",
       "<style scoped>\n",
       "    .dataframe tbody tr th:only-of-type {\n",
       "        vertical-align: middle;\n",
       "    }\n",
       "\n",
       "    .dataframe tbody tr th {\n",
       "        vertical-align: top;\n",
       "    }\n",
       "\n",
       "    .dataframe thead th {\n",
       "        text-align: right;\n",
       "    }\n",
       "</style>\n",
       "<table border=\"1\" class=\"dataframe\">\n",
       "  <thead>\n",
       "    <tr style=\"text-align: right;\">\n",
       "      <th></th>\n",
       "      <th>Sales Date</th>\n",
       "      <th>Transaction Status</th>\n",
       "      <th>Discount</th>\n",
       "      <th>Gross Amount</th>\n",
       "      <th>Net Sales Price</th>\n",
       "      <th>Sales Person Code</th>\n",
       "      <th>Sales Person Name</th>\n",
       "      <th>Transaction ID</th>\n",
       "      <th>Design No</th>\n",
       "      <th>Serial Number</th>\n",
       "      <th>...</th>\n",
       "      <th>City</th>\n",
       "      <th>State</th>\n",
       "      <th>Emp Desgination</th>\n",
       "      <th>Emp LastDateWorked</th>\n",
       "      <th>Pan Number</th>\n",
       "      <th>TypeforSuspendedTrans</th>\n",
       "      <th>URD Discount Amount</th>\n",
       "      <th>OGADJUSTEDAMOUNT</th>\n",
       "      <th>URDADDLDEDUCITON</th>\n",
       "      <th>new col</th>\n",
       "    </tr>\n",
       "  </thead>\n",
       "  <tbody>\n",
       "    <tr>\n",
       "      <th>2800</th>\n",
       "      <td>2023-10-19</td>\n",
       "      <td>Posted</td>\n",
       "      <td>0.00</td>\n",
       "      <td>0.02</td>\n",
       "      <td>0.0</td>\n",
       "      <td>000031</td>\n",
       "      <td>Delhi SX .</td>\n",
       "      <td>112-112R1-1356</td>\n",
       "      <td>MP</td>\n",
       "      <td>NaN</td>\n",
       "      <td>...</td>\n",
       "      <td>New Delhi</td>\n",
       "      <td>DL</td>\n",
       "      <td>NaN</td>\n",
       "      <td>1900-01-01 00:00:00.0000000</td>\n",
       "      <td>NaN</td>\n",
       "      <td>Sales</td>\n",
       "      <td>NaN</td>\n",
       "      <td>NaN</td>\n",
       "      <td>NaN</td>\n",
       "      <td>New Delhi2</td>\n",
       "    </tr>\n",
       "    <tr>\n",
       "      <th>28001</th>\n",
       "      <td>2023-11-10</td>\n",
       "      <td>Posted</td>\n",
       "      <td>819.55</td>\n",
       "      <td>0.00</td>\n",
       "      <td>0.0</td>\n",
       "      <td>002968</td>\n",
       "      <td>Adhik</td>\n",
       "      <td>103-103R1-1220</td>\n",
       "      <td>OCO22001-D000Y0E</td>\n",
       "      <td>002025549</td>\n",
       "      <td>...</td>\n",
       "      <td>Mumbai</td>\n",
       "      <td>MH</td>\n",
       "      <td>Sales Officer</td>\n",
       "      <td>1900-01-01 00:00:00.0000000</td>\n",
       "      <td>NaN</td>\n",
       "      <td>Sales</td>\n",
       "      <td>0.0</td>\n",
       "      <td>0.0</td>\n",
       "      <td>0.0</td>\n",
       "      <td>Mumbai2</td>\n",
       "    </tr>\n",
       "  </tbody>\n",
       "</table>\n",
       "<p>2 rows × 81 columns</p>\n",
       "</div>"
      ],
      "text/plain": [
       "       Sales Date Transaction Status  Discount  Gross Amount  Net Sales Price  \\\n",
       "2800   2023-10-19             Posted      0.00          0.02              0.0   \n",
       "28001  2023-11-10             Posted    819.55          0.00              0.0   \n",
       "\n",
       "      Sales Person Code Sales Person Name  Transaction ID         Design No  \\\n",
       "2800             000031        Delhi SX .  112-112R1-1356                MP   \n",
       "28001            002968             Adhik  103-103R1-1220  OCO22001-D000Y0E   \n",
       "\n",
       "      Serial Number  ...       City State  Emp Desgination  \\\n",
       "2800            NaN  ...  New Delhi    DL              NaN   \n",
       "28001     002025549  ...     Mumbai    MH    Sales Officer   \n",
       "\n",
       "                Emp LastDateWorked Pan Number TypeforSuspendedTrans  \\\n",
       "2800   1900-01-01 00:00:00.0000000        NaN                 Sales   \n",
       "28001  1900-01-01 00:00:00.0000000        NaN                 Sales   \n",
       "\n",
       "      URD Discount Amount OGADJUSTEDAMOUNT URDADDLDEDUCITON     new col  \n",
       "2800                  NaN              NaN              NaN  New Delhi2  \n",
       "28001                 0.0              0.0              0.0     Mumbai2  \n",
       "\n",
       "[2 rows x 81 columns]"
      ]
     },
     "execution_count": 73,
     "metadata": {},
     "output_type": "execute_result"
    }
   ],
   "source": [
    "s.filter([2800,28001],axis=0)"
   ]
  },
  {
   "cell_type": "code",
   "execution_count": 74,
   "metadata": {},
   "outputs": [
    {
     "name": "stdout",
     "output_type": "stream",
     "text": [
      "Visaal hai bkl\n",
      "Peter hai bkl\n",
      "Harry hai bkl\n"
     ]
    }
   ],
   "source": [
    "test={\n",
    "    'col1':'Visaal',\n",
    "    'col2':'Peter',\n",
    "    'col3':'Harry'\n",
    "}\n",
    "for x in test.values():\n",
    "    print(x+' hai bkl')"
   ]
  },
  {
   "cell_type": "code",
   "execution_count": 75,
   "metadata": {},
   "outputs": [
    {
     "name": "stdout",
     "output_type": "stream",
     "text": [
      "visaal\n",
      "peter\n",
      "harry\n"
     ]
    }
   ],
   "source": [
    "test2=['visaal','peter','harry']\n",
    "for x in test2:\n",
    "    print(x)"
   ]
  },
  {
   "cell_type": "code",
   "execution_count": 76,
   "metadata": {},
   "outputs": [
    {
     "data": {
      "text/html": [
       "<div>\n",
       "<style scoped>\n",
       "    .dataframe tbody tr th:only-of-type {\n",
       "        vertical-align: middle;\n",
       "    }\n",
       "\n",
       "    .dataframe tbody tr th {\n",
       "        vertical-align: top;\n",
       "    }\n",
       "\n",
       "    .dataframe thead th {\n",
       "        text-align: right;\n",
       "    }\n",
       "</style>\n",
       "<table border=\"1\" class=\"dataframe\">\n",
       "  <thead>\n",
       "    <tr style=\"text-align: right;\">\n",
       "      <th></th>\n",
       "      <th>Sales Date</th>\n",
       "      <th>Transaction Status</th>\n",
       "      <th>Discount</th>\n",
       "      <th>Gross Amount</th>\n",
       "      <th>Net Sales Price</th>\n",
       "      <th>Sales Person Code</th>\n",
       "      <th>Sales Person Name</th>\n",
       "      <th>Transaction ID</th>\n",
       "      <th>Design No</th>\n",
       "      <th>Serial Number</th>\n",
       "      <th>...</th>\n",
       "      <th>City</th>\n",
       "      <th>State</th>\n",
       "      <th>Emp Desgination</th>\n",
       "      <th>Emp LastDateWorked</th>\n",
       "      <th>Pan Number</th>\n",
       "      <th>TypeforSuspendedTrans</th>\n",
       "      <th>URD Discount Amount</th>\n",
       "      <th>OGADJUSTEDAMOUNT</th>\n",
       "      <th>URDADDLDEDUCITON</th>\n",
       "      <th>new col</th>\n",
       "    </tr>\n",
       "  </thead>\n",
       "  <tbody>\n",
       "    <tr>\n",
       "      <th>248226</th>\n",
       "      <td>2024-09-29</td>\n",
       "      <td>Posted</td>\n",
       "      <td>104425.15</td>\n",
       "      <td>313275.45</td>\n",
       "      <td>0.0</td>\n",
       "      <td>005888</td>\n",
       "      <td>SANJAY SHARMA</td>\n",
       "      <td>243-243R1-3593</td>\n",
       "      <td>OBF23031-A300WEB</td>\n",
       "      <td>004196577</td>\n",
       "      <td>...</td>\n",
       "      <td>Ahmedabad</td>\n",
       "      <td>GJ</td>\n",
       "      <td>Sales Officer</td>\n",
       "      <td>1900-01-01 00:00:00.0000000</td>\n",
       "      <td>NaN</td>\n",
       "      <td>Sales</td>\n",
       "      <td>0.0</td>\n",
       "      <td>0.0</td>\n",
       "      <td>0.0</td>\n",
       "      <td>Ahmedabad2</td>\n",
       "    </tr>\n",
       "    <tr>\n",
       "      <th>248225</th>\n",
       "      <td>2024-09-29</td>\n",
       "      <td>Posted</td>\n",
       "      <td>88994.25</td>\n",
       "      <td>355976.98</td>\n",
       "      <td>0.0</td>\n",
       "      <td>004767</td>\n",
       "      <td>Dipalee Matelkar</td>\n",
       "      <td>229-229R1-10691</td>\n",
       "      <td>OTN23V04-D400XMB</td>\n",
       "      <td>004404700</td>\n",
       "      <td>...</td>\n",
       "      <td>NaN</td>\n",
       "      <td>NaN</td>\n",
       "      <td>Sales Officer</td>\n",
       "      <td>1900-01-01 00:00:00.0000000</td>\n",
       "      <td>NaN</td>\n",
       "      <td>Sales</td>\n",
       "      <td>0.0</td>\n",
       "      <td>0.0</td>\n",
       "      <td>0.0</td>\n",
       "      <td>NaN</td>\n",
       "    </tr>\n",
       "    <tr>\n",
       "      <th>248224</th>\n",
       "      <td>2024-09-29</td>\n",
       "      <td>Posted</td>\n",
       "      <td>76655.78</td>\n",
       "      <td>231500.58</td>\n",
       "      <td>0.0</td>\n",
       "      <td>005388</td>\n",
       "      <td>SUBRAJITH DALAI</td>\n",
       "      <td>212-212R1-7641</td>\n",
       "      <td>OSN23050-D911X1C</td>\n",
       "      <td>004331496</td>\n",
       "      <td>...</td>\n",
       "      <td>Bangalore</td>\n",
       "      <td>KA</td>\n",
       "      <td>NaN</td>\n",
       "      <td>1900-01-01 00:00:00.0000000</td>\n",
       "      <td>NaN</td>\n",
       "      <td>Sales</td>\n",
       "      <td>0.0</td>\n",
       "      <td>0.0</td>\n",
       "      <td>0.0</td>\n",
       "      <td>Bangalore2</td>\n",
       "    </tr>\n",
       "    <tr>\n",
       "      <th>248223</th>\n",
       "      <td>2024-09-29</td>\n",
       "      <td>Posted</td>\n",
       "      <td>71584.61</td>\n",
       "      <td>328437.45</td>\n",
       "      <td>0.0</td>\n",
       "      <td>004170</td>\n",
       "      <td>Sultan Shah Makandar .</td>\n",
       "      <td>165-165R2-6911</td>\n",
       "      <td>OSN23056-D900X1C</td>\n",
       "      <td>004404822</td>\n",
       "      <td>...</td>\n",
       "      <td>Goa Margaon</td>\n",
       "      <td>GA</td>\n",
       "      <td>NaN</td>\n",
       "      <td>1900-01-01 00:00:00.0000000</td>\n",
       "      <td>NaN</td>\n",
       "      <td>Sales</td>\n",
       "      <td>0.0</td>\n",
       "      <td>0.0</td>\n",
       "      <td>0.0</td>\n",
       "      <td>Goa Margaon2</td>\n",
       "    </tr>\n",
       "    <tr>\n",
       "      <th>248222</th>\n",
       "      <td>2024-09-29</td>\n",
       "      <td>Posted</td>\n",
       "      <td>71452.05</td>\n",
       "      <td>285808.22</td>\n",
       "      <td>0.0</td>\n",
       "      <td>005410</td>\n",
       "      <td>NaN</td>\n",
       "      <td>118-118R1-17837</td>\n",
       "      <td>OSE22192-D309R0B</td>\n",
       "      <td>001845314</td>\n",
       "      <td>...</td>\n",
       "      <td>Hyderabad</td>\n",
       "      <td>TS</td>\n",
       "      <td>NaN</td>\n",
       "      <td>NaN</td>\n",
       "      <td>NaN</td>\n",
       "      <td>Sales</td>\n",
       "      <td>0.0</td>\n",
       "      <td>0.0</td>\n",
       "      <td>0.0</td>\n",
       "      <td>Hyderabad2</td>\n",
       "    </tr>\n",
       "    <tr>\n",
       "      <th>...</th>\n",
       "      <td>...</td>\n",
       "      <td>...</td>\n",
       "      <td>...</td>\n",
       "      <td>...</td>\n",
       "      <td>...</td>\n",
       "      <td>...</td>\n",
       "      <td>...</td>\n",
       "      <td>...</td>\n",
       "      <td>...</td>\n",
       "      <td>...</td>\n",
       "      <td>...</td>\n",
       "      <td>...</td>\n",
       "      <td>...</td>\n",
       "      <td>...</td>\n",
       "      <td>...</td>\n",
       "      <td>...</td>\n",
       "      <td>...</td>\n",
       "      <td>...</td>\n",
       "      <td>...</td>\n",
       "      <td>...</td>\n",
       "      <td>...</td>\n",
       "    </tr>\n",
       "    <tr>\n",
       "      <th>4</th>\n",
       "      <td>2023-09-22</td>\n",
       "      <td>Posted</td>\n",
       "      <td>0.00</td>\n",
       "      <td>-29464.00</td>\n",
       "      <td>0.0</td>\n",
       "      <td>000983</td>\n",
       "      <td>Mahendra Reddy</td>\n",
       "      <td>118-118R1-64</td>\n",
       "      <td>Other Gold</td>\n",
       "      <td>NaN</td>\n",
       "      <td>...</td>\n",
       "      <td>BEGUMPET</td>\n",
       "      <td>TS</td>\n",
       "      <td>NaN</td>\n",
       "      <td>1900-01-01 00:00:00.0000000</td>\n",
       "      <td>NaN</td>\n",
       "      <td>Sales</td>\n",
       "      <td>0.0</td>\n",
       "      <td>0.0</td>\n",
       "      <td>0.0</td>\n",
       "      <td>BEGUMPET2</td>\n",
       "    </tr>\n",
       "    <tr>\n",
       "      <th>3</th>\n",
       "      <td>2023-09-21</td>\n",
       "      <td>Posted</td>\n",
       "      <td>2723.76</td>\n",
       "      <td>88068.12</td>\n",
       "      <td>0.0</td>\n",
       "      <td>000983</td>\n",
       "      <td>Mahendra Reddy</td>\n",
       "      <td>118-118R1-18</td>\n",
       "      <td>OPE22050-D300X0C</td>\n",
       "      <td>001724103</td>\n",
       "      <td>...</td>\n",
       "      <td>NaN</td>\n",
       "      <td>NaN</td>\n",
       "      <td>NaN</td>\n",
       "      <td>1900-01-01 00:00:00.0000000</td>\n",
       "      <td>NaN</td>\n",
       "      <td>Sales</td>\n",
       "      <td>0.0</td>\n",
       "      <td>0.0</td>\n",
       "      <td>0.0</td>\n",
       "      <td>NaN</td>\n",
       "    </tr>\n",
       "    <tr>\n",
       "      <th>2</th>\n",
       "      <td>2023-09-21</td>\n",
       "      <td>Posted</td>\n",
       "      <td>2309.13</td>\n",
       "      <td>20782.16</td>\n",
       "      <td>0.0</td>\n",
       "      <td>000983</td>\n",
       "      <td>Mahendra Reddy</td>\n",
       "      <td>197-197R1-26</td>\n",
       "      <td>OPE20027-D900X0C</td>\n",
       "      <td>001849961</td>\n",
       "      <td>...</td>\n",
       "      <td>Mumbai</td>\n",
       "      <td>MH</td>\n",
       "      <td>NaN</td>\n",
       "      <td>1900-01-01 00:00:00.0000000</td>\n",
       "      <td>NaN</td>\n",
       "      <td>Sales</td>\n",
       "      <td>0.0</td>\n",
       "      <td>0.0</td>\n",
       "      <td>0.0</td>\n",
       "      <td>Mumbai2</td>\n",
       "    </tr>\n",
       "    <tr>\n",
       "      <th>1</th>\n",
       "      <td>2023-09-21</td>\n",
       "      <td>Posted</td>\n",
       "      <td>0.00</td>\n",
       "      <td>13927.35</td>\n",
       "      <td>0.0</td>\n",
       "      <td>000983</td>\n",
       "      <td>Mahendra Reddy</td>\n",
       "      <td>113-113R1-14</td>\n",
       "      <td>ONP23013-D300R0B</td>\n",
       "      <td>001826223</td>\n",
       "      <td>...</td>\n",
       "      <td>KOLHAPUR</td>\n",
       "      <td>MH</td>\n",
       "      <td>NaN</td>\n",
       "      <td>1900-01-01 00:00:00.0000000</td>\n",
       "      <td>NaN</td>\n",
       "      <td>Sales</td>\n",
       "      <td>0.0</td>\n",
       "      <td>0.0</td>\n",
       "      <td>0.0</td>\n",
       "      <td>KOLHAPUR2</td>\n",
       "    </tr>\n",
       "    <tr>\n",
       "      <th>0</th>\n",
       "      <td>2023-09-21</td>\n",
       "      <td>Posted</td>\n",
       "      <td>0.00</td>\n",
       "      <td>19963.36</td>\n",
       "      <td>0.0</td>\n",
       "      <td>000983</td>\n",
       "      <td>Mahendra Reddy</td>\n",
       "      <td>113-113R1-12</td>\n",
       "      <td>OER23141-D900X0C</td>\n",
       "      <td>001850847</td>\n",
       "      <td>...</td>\n",
       "      <td>NaN</td>\n",
       "      <td>MH</td>\n",
       "      <td>NaN</td>\n",
       "      <td>1900-01-01 00:00:00.0000000</td>\n",
       "      <td>NaN</td>\n",
       "      <td>Sales</td>\n",
       "      <td>0.0</td>\n",
       "      <td>0.0</td>\n",
       "      <td>0.0</td>\n",
       "      <td>NaN</td>\n",
       "    </tr>\n",
       "  </tbody>\n",
       "</table>\n",
       "<p>248227 rows × 81 columns</p>\n",
       "</div>"
      ],
      "text/plain": [
       "        Sales Date Transaction Status   Discount  Gross Amount  \\\n",
       "248226  2024-09-29             Posted  104425.15     313275.45   \n",
       "248225  2024-09-29             Posted   88994.25     355976.98   \n",
       "248224  2024-09-29             Posted   76655.78     231500.58   \n",
       "248223  2024-09-29             Posted   71584.61     328437.45   \n",
       "248222  2024-09-29             Posted   71452.05     285808.22   \n",
       "...            ...                ...        ...           ...   \n",
       "4       2023-09-22             Posted       0.00     -29464.00   \n",
       "3       2023-09-21             Posted    2723.76      88068.12   \n",
       "2       2023-09-21             Posted    2309.13      20782.16   \n",
       "1       2023-09-21             Posted       0.00      13927.35   \n",
       "0       2023-09-21             Posted       0.00      19963.36   \n",
       "\n",
       "        Net Sales Price Sales Person Code       Sales Person Name  \\\n",
       "248226              0.0            005888           SANJAY SHARMA   \n",
       "248225              0.0            004767        Dipalee Matelkar   \n",
       "248224              0.0            005388         SUBRAJITH DALAI   \n",
       "248223              0.0            004170  Sultan Shah Makandar .   \n",
       "248222              0.0            005410                     NaN   \n",
       "...                 ...               ...                     ...   \n",
       "4                   0.0            000983          Mahendra Reddy   \n",
       "3                   0.0            000983          Mahendra Reddy   \n",
       "2                   0.0            000983          Mahendra Reddy   \n",
       "1                   0.0            000983          Mahendra Reddy   \n",
       "0                   0.0            000983          Mahendra Reddy   \n",
       "\n",
       "         Transaction ID         Design No Serial Number  ...         City  \\\n",
       "248226   243-243R1-3593  OBF23031-A300WEB     004196577  ...    Ahmedabad   \n",
       "248225  229-229R1-10691  OTN23V04-D400XMB     004404700  ...          NaN   \n",
       "248224   212-212R1-7641  OSN23050-D911X1C     004331496  ...    Bangalore   \n",
       "248223   165-165R2-6911  OSN23056-D900X1C     004404822  ...  Goa Margaon   \n",
       "248222  118-118R1-17837  OSE22192-D309R0B     001845314  ...    Hyderabad   \n",
       "...                 ...               ...           ...  ...          ...   \n",
       "4          118-118R1-64        Other Gold           NaN  ...     BEGUMPET   \n",
       "3          118-118R1-18  OPE22050-D300X0C     001724103  ...          NaN   \n",
       "2          197-197R1-26  OPE20027-D900X0C     001849961  ...       Mumbai   \n",
       "1          113-113R1-14  ONP23013-D300R0B     001826223  ...     KOLHAPUR   \n",
       "0          113-113R1-12  OER23141-D900X0C     001850847  ...          NaN   \n",
       "\n",
       "       State  Emp Desgination           Emp LastDateWorked Pan Number  \\\n",
       "248226    GJ    Sales Officer  1900-01-01 00:00:00.0000000        NaN   \n",
       "248225   NaN    Sales Officer  1900-01-01 00:00:00.0000000        NaN   \n",
       "248224    KA              NaN  1900-01-01 00:00:00.0000000        NaN   \n",
       "248223    GA              NaN  1900-01-01 00:00:00.0000000        NaN   \n",
       "248222    TS              NaN                          NaN        NaN   \n",
       "...      ...              ...                          ...        ...   \n",
       "4         TS              NaN  1900-01-01 00:00:00.0000000        NaN   \n",
       "3        NaN              NaN  1900-01-01 00:00:00.0000000        NaN   \n",
       "2         MH              NaN  1900-01-01 00:00:00.0000000        NaN   \n",
       "1         MH              NaN  1900-01-01 00:00:00.0000000        NaN   \n",
       "0         MH              NaN  1900-01-01 00:00:00.0000000        NaN   \n",
       "\n",
       "       TypeforSuspendedTrans URD Discount Amount OGADJUSTEDAMOUNT  \\\n",
       "248226                 Sales                 0.0              0.0   \n",
       "248225                 Sales                 0.0              0.0   \n",
       "248224                 Sales                 0.0              0.0   \n",
       "248223                 Sales                 0.0              0.0   \n",
       "248222                 Sales                 0.0              0.0   \n",
       "...                      ...                 ...              ...   \n",
       "4                      Sales                 0.0              0.0   \n",
       "3                      Sales                 0.0              0.0   \n",
       "2                      Sales                 0.0              0.0   \n",
       "1                      Sales                 0.0              0.0   \n",
       "0                      Sales                 0.0              0.0   \n",
       "\n",
       "       URDADDLDEDUCITON       new col  \n",
       "248226              0.0    Ahmedabad2  \n",
       "248225              0.0           NaN  \n",
       "248224              0.0    Bangalore2  \n",
       "248223              0.0  Goa Margaon2  \n",
       "248222              0.0    Hyderabad2  \n",
       "...                 ...           ...  \n",
       "4                   0.0     BEGUMPET2  \n",
       "3                   0.0           NaN  \n",
       "2                   0.0       Mumbai2  \n",
       "1                   0.0     KOLHAPUR2  \n",
       "0                   0.0           NaN  \n",
       "\n",
       "[248227 rows x 81 columns]"
      ]
     },
     "execution_count": 76,
     "metadata": {},
     "output_type": "execute_result"
    }
   ],
   "source": [
    "s.sort_index(axis=0,ascending=False)"
   ]
  },
  {
   "cell_type": "code",
   "execution_count": 77,
   "metadata": {},
   "outputs": [
    {
     "name": "stderr",
     "output_type": "stream",
     "text": [
      "ERROR:root:Exception while sending command.\n",
      "Traceback (most recent call last):\n",
      "  File \"C:\\Users\\Dell\\AppData\\Local\\Packages\\PythonSoftwareFoundation.Python.3.9_qbz5n2kfra8p0\\LocalCache\\local-packages\\Python39\\site-packages\\py4j\\clientserver.py\", line 511, in send_command\n",
      "    answer = smart_decode(self.stream.readline()[:-1])\n",
      "RuntimeError: reentrant call inside <_io.BufferedReader name=3344>\n",
      "\n",
      "During handling of the above exception, another exception occurred:\n",
      "\n",
      "Traceback (most recent call last):\n",
      "  File \"C:\\Users\\Dell\\AppData\\Local\\Packages\\PythonSoftwareFoundation.Python.3.9_qbz5n2kfra8p0\\LocalCache\\local-packages\\Python39\\site-packages\\py4j\\java_gateway.py\", line 1038, in send_command\n",
      "    response = connection.send_command(command)\n",
      "  File \"C:\\Users\\Dell\\AppData\\Local\\Packages\\PythonSoftwareFoundation.Python.3.9_qbz5n2kfra8p0\\LocalCache\\local-packages\\Python39\\site-packages\\py4j\\clientserver.py\", line 539, in send_command\n",
      "    raise Py4JNetworkError(\n",
      "py4j.protocol.Py4JNetworkError: Error while sending or receiving\n",
      "ERROR:root:Exception while sending command.\n",
      "Traceback (most recent call last):\n",
      "  File \"C:\\Users\\Dell\\AppData\\Local\\Packages\\PythonSoftwareFoundation.Python.3.9_qbz5n2kfra8p0\\LocalCache\\local-packages\\Python39\\site-packages\\py4j\\clientserver.py\", line 511, in send_command\n",
      "    answer = smart_decode(self.stream.readline()[:-1])\n",
      "  File \"C:\\Program Files\\WindowsApps\\PythonSoftwareFoundation.Python.3.9_3.9.3568.0_x64__qbz5n2kfra8p0\\lib\\socket.py\", line 704, in readinto\n",
      "    return self._sock.recv_into(b)\n",
      "  File \"C:\\Users\\Dell\\AppData\\Local\\Packages\\PythonSoftwareFoundation.Python.3.9_qbz5n2kfra8p0\\LocalCache\\local-packages\\Python39\\site-packages\\pyspark\\context.py\", line 381, in signal_handler\n",
      "    self.cancelAllJobs()\n",
      "  File \"C:\\Users\\Dell\\AppData\\Local\\Packages\\PythonSoftwareFoundation.Python.3.9_qbz5n2kfra8p0\\LocalCache\\local-packages\\Python39\\site-packages\\pyspark\\context.py\", line 2446, in cancelAllJobs\n",
      "    self._jsc.sc().cancelAllJobs()\n",
      "  File \"C:\\Users\\Dell\\AppData\\Local\\Packages\\PythonSoftwareFoundation.Python.3.9_qbz5n2kfra8p0\\LocalCache\\local-packages\\Python39\\site-packages\\py4j\\java_gateway.py\", line 1322, in __call__\n",
      "    return_value = get_return_value(\n",
      "  File \"C:\\Users\\Dell\\AppData\\Local\\Packages\\PythonSoftwareFoundation.Python.3.9_qbz5n2kfra8p0\\LocalCache\\local-packages\\Python39\\site-packages\\py4j\\protocol.py\", line 334, in get_return_value\n",
      "    raise Py4JError(\n",
      "py4j.protocol.Py4JError: An error occurred while calling o13.sc\n",
      "\n",
      "During handling of the above exception, another exception occurred:\n",
      "\n",
      "Traceback (most recent call last):\n",
      "  File \"C:\\Users\\Dell\\AppData\\Local\\Packages\\PythonSoftwareFoundation.Python.3.9_qbz5n2kfra8p0\\LocalCache\\local-packages\\Python39\\site-packages\\py4j\\java_gateway.py\", line 1038, in send_command\n",
      "    response = connection.send_command(command)\n",
      "  File \"C:\\Users\\Dell\\AppData\\Local\\Packages\\PythonSoftwareFoundation.Python.3.9_qbz5n2kfra8p0\\LocalCache\\local-packages\\Python39\\site-packages\\py4j\\clientserver.py\", line 539, in send_command\n",
      "    raise Py4JNetworkError(\n",
      "py4j.protocol.Py4JNetworkError: Error while sending or receiving\n"
     ]
    },
    {
     "ename": "Py4JError",
     "evalue": "An error occurred while calling None.org.apache.spark.sql.SparkSession",
     "output_type": "error",
     "traceback": [
      "\u001b[1;31m---------------------------------------------------------------------------\u001b[0m",
      "\u001b[1;31mPy4JError\u001b[0m                                 Traceback (most recent call last)",
      "Cell \u001b[1;32mIn[77], line 2\u001b[0m\n\u001b[0;32m      1\u001b[0m \u001b[38;5;28;01mfrom\u001b[39;00m \u001b[38;5;21;01mpyspark\u001b[39;00m\u001b[38;5;21;01m.\u001b[39;00m\u001b[38;5;21;01msql\u001b[39;00m \u001b[38;5;28;01mimport\u001b[39;00m SparkSession\n\u001b[1;32m----> 2\u001b[0m spark\u001b[38;5;241m=\u001b[39m\u001b[43mSparkSession\u001b[49m\u001b[38;5;241;43m.\u001b[39;49m\u001b[43mbuilder\u001b[49m\u001b[38;5;241;43m.\u001b[39;49m\u001b[43mappName\u001b[49m\u001b[43m(\u001b[49m\u001b[38;5;124;43m'\u001b[39;49m\u001b[38;5;124;43mtest_space\u001b[39;49m\u001b[38;5;124;43m'\u001b[39;49m\u001b[43m)\u001b[49m\u001b[38;5;241;43m.\u001b[39;49m\u001b[43mgetOrCreate\u001b[49m\u001b[43m(\u001b[49m\u001b[43m)\u001b[49m\n\u001b[0;32m      4\u001b[0m pydf\u001b[38;5;241m=\u001b[39mspark\u001b[38;5;241m.\u001b[39mcreateDataFrame(s)\n\u001b[0;32m      5\u001b[0m pydf\u001b[38;5;241m.\u001b[39mshow(truncate\u001b[38;5;241m=\u001b[39m\u001b[38;5;28;01mFalse\u001b[39;00m)\n",
      "File \u001b[1;32m~\\AppData\\Local\\Packages\\PythonSoftwareFoundation.Python.3.9_qbz5n2kfra8p0\\LocalCache\\local-packages\\Python39\\site-packages\\pyspark\\sql\\session.py:500\u001b[0m, in \u001b[0;36mSparkSession.Builder.getOrCreate\u001b[1;34m(self)\u001b[0m\n\u001b[0;32m    497\u001b[0m     sc \u001b[38;5;241m=\u001b[39m SparkContext\u001b[38;5;241m.\u001b[39mgetOrCreate(sparkConf)\n\u001b[0;32m    498\u001b[0m     \u001b[38;5;66;03m# Do not update `SparkConf` for existing `SparkContext`, as it's shared\u001b[39;00m\n\u001b[0;32m    499\u001b[0m     \u001b[38;5;66;03m# by all sessions.\u001b[39;00m\n\u001b[1;32m--> 500\u001b[0m     session \u001b[38;5;241m=\u001b[39m \u001b[43mSparkSession\u001b[49m\u001b[43m(\u001b[49m\u001b[43msc\u001b[49m\u001b[43m,\u001b[49m\u001b[43m \u001b[49m\u001b[43moptions\u001b[49m\u001b[38;5;241;43m=\u001b[39;49m\u001b[38;5;28;43mself\u001b[39;49m\u001b[38;5;241;43m.\u001b[39;49m\u001b[43m_options\u001b[49m\u001b[43m)\u001b[49m\n\u001b[0;32m    501\u001b[0m \u001b[38;5;28;01melse\u001b[39;00m:\n\u001b[0;32m    502\u001b[0m     \u001b[38;5;28mgetattr\u001b[39m(\n\u001b[0;32m    503\u001b[0m         \u001b[38;5;28mgetattr\u001b[39m(session\u001b[38;5;241m.\u001b[39m_jvm, \u001b[38;5;124m\"\u001b[39m\u001b[38;5;124mSparkSession$\u001b[39m\u001b[38;5;124m\"\u001b[39m), \u001b[38;5;124m\"\u001b[39m\u001b[38;5;124mMODULE$\u001b[39m\u001b[38;5;124m\"\u001b[39m\n\u001b[0;32m    504\u001b[0m     )\u001b[38;5;241m.\u001b[39mapplyModifiableSettings(session\u001b[38;5;241m.\u001b[39m_jsparkSession, \u001b[38;5;28mself\u001b[39m\u001b[38;5;241m.\u001b[39m_options)\n",
      "File \u001b[1;32m~\\AppData\\Local\\Packages\\PythonSoftwareFoundation.Python.3.9_qbz5n2kfra8p0\\LocalCache\\local-packages\\Python39\\site-packages\\pyspark\\sql\\session.py:589\u001b[0m, in \u001b[0;36mSparkSession.__init__\u001b[1;34m(self, sparkContext, jsparkSession, options)\u001b[0m\n\u001b[0;32m    585\u001b[0m         \u001b[38;5;28mgetattr\u001b[39m(\u001b[38;5;28mgetattr\u001b[39m(\u001b[38;5;28mself\u001b[39m\u001b[38;5;241m.\u001b[39m_jvm, \u001b[38;5;124m\"\u001b[39m\u001b[38;5;124mSparkSession$\u001b[39m\u001b[38;5;124m\"\u001b[39m), \u001b[38;5;124m\"\u001b[39m\u001b[38;5;124mMODULE$\u001b[39m\u001b[38;5;124m\"\u001b[39m)\u001b[38;5;241m.\u001b[39mapplyModifiableSettings(\n\u001b[0;32m    586\u001b[0m             jsparkSession, options\n\u001b[0;32m    587\u001b[0m         )\n\u001b[0;32m    588\u001b[0m     \u001b[38;5;28;01melse\u001b[39;00m:\n\u001b[1;32m--> 589\u001b[0m         jsparkSession \u001b[38;5;241m=\u001b[39m \u001b[38;5;28;43mself\u001b[39;49m\u001b[38;5;241;43m.\u001b[39;49m\u001b[43m_jvm\u001b[49m\u001b[38;5;241;43m.\u001b[39;49m\u001b[43mSparkSession\u001b[49m\u001b[43m(\u001b[49m\u001b[38;5;28;43mself\u001b[39;49m\u001b[38;5;241;43m.\u001b[39;49m\u001b[43m_jsc\u001b[49m\u001b[38;5;241;43m.\u001b[39;49m\u001b[43msc\u001b[49m\u001b[43m(\u001b[49m\u001b[43m)\u001b[49m\u001b[43m,\u001b[49m\u001b[43m \u001b[49m\u001b[43moptions\u001b[49m\u001b[43m)\u001b[49m\n\u001b[0;32m    590\u001b[0m \u001b[38;5;28;01melse\u001b[39;00m:\n\u001b[0;32m    591\u001b[0m     \u001b[38;5;28mgetattr\u001b[39m(\u001b[38;5;28mgetattr\u001b[39m(\u001b[38;5;28mself\u001b[39m\u001b[38;5;241m.\u001b[39m_jvm, \u001b[38;5;124m\"\u001b[39m\u001b[38;5;124mSparkSession$\u001b[39m\u001b[38;5;124m\"\u001b[39m), \u001b[38;5;124m\"\u001b[39m\u001b[38;5;124mMODULE$\u001b[39m\u001b[38;5;124m\"\u001b[39m)\u001b[38;5;241m.\u001b[39mapplyModifiableSettings(\n\u001b[0;32m    592\u001b[0m         jsparkSession, options\n\u001b[0;32m    593\u001b[0m     )\n",
      "File \u001b[1;32m~\\AppData\\Local\\Packages\\PythonSoftwareFoundation.Python.3.9_qbz5n2kfra8p0\\LocalCache\\local-packages\\Python39\\site-packages\\py4j\\java_gateway.py:1587\u001b[0m, in \u001b[0;36mJavaClass.__call__\u001b[1;34m(self, *args)\u001b[0m\n\u001b[0;32m   1581\u001b[0m command \u001b[38;5;241m=\u001b[39m proto\u001b[38;5;241m.\u001b[39mCONSTRUCTOR_COMMAND_NAME \u001b[38;5;241m+\u001b[39m\\\n\u001b[0;32m   1582\u001b[0m     \u001b[38;5;28mself\u001b[39m\u001b[38;5;241m.\u001b[39m_command_header \u001b[38;5;241m+\u001b[39m\\\n\u001b[0;32m   1583\u001b[0m     args_command \u001b[38;5;241m+\u001b[39m\\\n\u001b[0;32m   1584\u001b[0m     proto\u001b[38;5;241m.\u001b[39mEND_COMMAND_PART\n\u001b[0;32m   1586\u001b[0m answer \u001b[38;5;241m=\u001b[39m \u001b[38;5;28mself\u001b[39m\u001b[38;5;241m.\u001b[39m_gateway_client\u001b[38;5;241m.\u001b[39msend_command(command)\n\u001b[1;32m-> 1587\u001b[0m return_value \u001b[38;5;241m=\u001b[39m \u001b[43mget_return_value\u001b[49m\u001b[43m(\u001b[49m\n\u001b[0;32m   1588\u001b[0m \u001b[43m    \u001b[49m\u001b[43manswer\u001b[49m\u001b[43m,\u001b[49m\u001b[43m \u001b[49m\u001b[38;5;28;43mself\u001b[39;49m\u001b[38;5;241;43m.\u001b[39;49m\u001b[43m_gateway_client\u001b[49m\u001b[43m,\u001b[49m\u001b[43m \u001b[49m\u001b[38;5;28;43;01mNone\u001b[39;49;00m\u001b[43m,\u001b[49m\u001b[43m \u001b[49m\u001b[38;5;28;43mself\u001b[39;49m\u001b[38;5;241;43m.\u001b[39;49m\u001b[43m_fqn\u001b[49m\u001b[43m)\u001b[49m\n\u001b[0;32m   1590\u001b[0m \u001b[38;5;28;01mfor\u001b[39;00m temp_arg \u001b[38;5;129;01min\u001b[39;00m temp_args:\n\u001b[0;32m   1591\u001b[0m     \u001b[38;5;28;01mif\u001b[39;00m \u001b[38;5;28mhasattr\u001b[39m(temp_arg, \u001b[38;5;124m\"\u001b[39m\u001b[38;5;124m_detach\u001b[39m\u001b[38;5;124m\"\u001b[39m):\n",
      "File \u001b[1;32m~\\AppData\\Local\\Packages\\PythonSoftwareFoundation.Python.3.9_qbz5n2kfra8p0\\LocalCache\\local-packages\\Python39\\site-packages\\py4j\\protocol.py:334\u001b[0m, in \u001b[0;36mget_return_value\u001b[1;34m(answer, gateway_client, target_id, name)\u001b[0m\n\u001b[0;32m    330\u001b[0m             \u001b[38;5;28;01mraise\u001b[39;00m Py4JError(\n\u001b[0;32m    331\u001b[0m                 \u001b[38;5;124m\"\u001b[39m\u001b[38;5;124mAn error occurred while calling \u001b[39m\u001b[38;5;132;01m{0}\u001b[39;00m\u001b[38;5;132;01m{1}\u001b[39;00m\u001b[38;5;132;01m{2}\u001b[39;00m\u001b[38;5;124m. Trace:\u001b[39m\u001b[38;5;130;01m\\n\u001b[39;00m\u001b[38;5;132;01m{3}\u001b[39;00m\u001b[38;5;130;01m\\n\u001b[39;00m\u001b[38;5;124m\"\u001b[39m\u001b[38;5;241m.\u001b[39m\n\u001b[0;32m    332\u001b[0m                 \u001b[38;5;28mformat\u001b[39m(target_id, \u001b[38;5;124m\"\u001b[39m\u001b[38;5;124m.\u001b[39m\u001b[38;5;124m\"\u001b[39m, name, value))\n\u001b[0;32m    333\u001b[0m     \u001b[38;5;28;01melse\u001b[39;00m:\n\u001b[1;32m--> 334\u001b[0m         \u001b[38;5;28;01mraise\u001b[39;00m Py4JError(\n\u001b[0;32m    335\u001b[0m             \u001b[38;5;124m\"\u001b[39m\u001b[38;5;124mAn error occurred while calling \u001b[39m\u001b[38;5;132;01m{0}\u001b[39;00m\u001b[38;5;132;01m{1}\u001b[39;00m\u001b[38;5;132;01m{2}\u001b[39;00m\u001b[38;5;124m\"\u001b[39m\u001b[38;5;241m.\u001b[39m\n\u001b[0;32m    336\u001b[0m             \u001b[38;5;28mformat\u001b[39m(target_id, \u001b[38;5;124m\"\u001b[39m\u001b[38;5;124m.\u001b[39m\u001b[38;5;124m\"\u001b[39m, name))\n\u001b[0;32m    337\u001b[0m \u001b[38;5;28;01melse\u001b[39;00m:\n\u001b[0;32m    338\u001b[0m     \u001b[38;5;28mtype\u001b[39m \u001b[38;5;241m=\u001b[39m answer[\u001b[38;5;241m1\u001b[39m]\n",
      "\u001b[1;31mPy4JError\u001b[0m: An error occurred while calling None.org.apache.spark.sql.SparkSession"
     ]
    }
   ],
   "source": [
    "from pyspark.sql import SparkSession\n",
    "spark=SparkSession.builder.appName('test_space').getOrCreate()\n",
    "\n",
    "pydf=spark.createDataFrame(s)\n",
    "pydf.show(truncate=False)\n",
    "pydf.printSchema()"
   ]
  },
  {
   "cell_type": "code",
   "execution_count": null,
   "metadata": {},
   "outputs": [],
   "source": [
    "from pyspark.sql.functions import *\n",
    "pydf_w_nulls=pydf.select(nanvl(col('Sub Brand'),lit(None)).alias('Sub Brand'))\n",
    "\n",
    "pydf_filled=pydf_w_nulls.na.fill({'Sub Brand':'uksb'}).distinct()\n",
    "pydf_filled.show()"
   ]
  },
  {
   "cell_type": "code",
   "execution_count": null,
   "metadata": {},
   "outputs": [],
   "source": [
    "pydf.select(col('Parent Product Category')).distinct().show()"
   ]
  },
  {
   "cell_type": "code",
   "execution_count": null,
   "metadata": {},
   "outputs": [],
   "source": [
    "from pyspark.sql.functions import *\n",
    "pydf.filter(col('Parent Product Category').isNull())# Filter for null values in 'Parent Product Category'\n",
    "null_rows = pydf.filter(col(\"`Parent Product Category`\")=='NaN')\n",
    "\n",
    "# Show the rows with null values\n",
    "null_rows.show(truncate=False)"
   ]
  },
  {
   "cell_type": "code",
   "execution_count": null,
   "metadata": {},
   "outputs": [],
   "source": [
    "x=s[(s['City']=='Delhi')|(s['City']=='Thane')][['Discount','City','Gross Amount']].groupby('City')\\\n",
    "    .agg(Total_Disc=('Discount','sum'),\\\n",
    "         Avg_gross=('Gross Amount','mean'))\n",
    "x\n",
    "# x.plot(kind='bar')"
   ]
  },
  {
   "cell_type": "code",
   "execution_count": null,
   "metadata": {},
   "outputs": [],
   "source": [
    "u=s[['Discount','City']].groupby('City').sum()\n",
    "u"
   ]
  },
  {
   "cell_type": "code",
   "execution_count": null,
   "metadata": {},
   "outputs": [],
   "source": [
    "# Filter the DataFrame for City == 'Delhi'\n",
    "filtered_df = pydf.filter((col('City') == 'Delhi')|( col('City')=='Thane'))\n",
    "\n",
    "# Select and alias the City column\n",
    "result_df = filtered_df.select(col('City').alias('City'), 'Customer ID', 'Discount','Gross Amount')\n",
    "\n",
    "grouped_df=result_df.groupBy('City').agg(sum('Discount').alias('TotalDisc'),\n",
    "                                         avg('Gross Amount').alias('TotalGA'))\n",
    "# Show the result\n",
    "grouped_df.show()"
   ]
  },
  {
   "cell_type": "code",
   "execution_count": null,
   "metadata": {},
   "outputs": [],
   "source": [
    "s"
   ]
  },
  {
   "cell_type": "code",
   "execution_count": 293,
   "metadata": {},
   "outputs": [],
   "source": [
    "statement=pd.read_excel(r'D:\\GdriveBackup\\0.Projects\\Mock Projects\\DE\\Python\\statement0310-1010.xlsx',header=0)"
   ]
  },
  {
   "cell_type": "code",
   "execution_count": 296,
   "metadata": {},
   "outputs": [
    {
     "data": {
      "text/plain": [
       "array([[Timestamp('2024-10-03 00:00:00'), '-',\n",
       "        'UPI/P2A/427781454511/AARJAV DE/Bank of B/UPI', '-', 166, 363.73,\n",
       "        328],\n",
       "       [Timestamp('2024-10-03 00:00:00'), '-',\n",
       "        'UPI/P2M/427725422922/IRCTC UTS/Yes Bank Ltd', 95, '-', 268.73,\n",
       "        328],\n",
       "       [Timestamp('2024-10-03 00:00:00'), '-',\n",
       "        'UPI/P2M/464391113371/Google India Service/ICICI Bank', 19, '-',\n",
       "        249.73, 328],\n",
       "       [Timestamp('2024-10-03 00:00:00'), '-',\n",
       "        'UPI/P2M/464352679093/PAYTM APP/HDFC Bank', 40, '-', 209.73, 328],\n",
       "       [Timestamp('2024-10-03 00:00:00'), '-',\n",
       "        'MAHAPATRA UNIVE/SALARY SEPTEMBER 2024', '-', 27521, 27730.73,\n",
       "        328],\n",
       "       [Timestamp('2024-10-03 00:00:00'), '-',\n",
       "        'UPI/P2A/427787853978/ANKUR SUDHAKAR SHETT/SBI', 1100, '-',\n",
       "        26630.73, 328],\n",
       "       [Timestamp('2024-10-03 00:00:00'), '-',\n",
       "        'UPI/P2A/464344648596/SUSHIL YOGENDRA CHAUH/SBI', 1000, '-',\n",
       "        25630.73, 328],\n",
       "       [Timestamp('2024-10-03 00:00:00'), '-',\n",
       "        'UPI/P2A/427710746689/JESSICA ROHAN SEQUEIR/SBI', 2197, '-',\n",
       "        23433.73, 328],\n",
       "       [Timestamp('2024-10-03 00:00:00'), '-',\n",
       "        'UPI/P2A/427710746689/924010013045014/031024/SBI', '-', 2197,\n",
       "        25630.73, 328],\n",
       "       [Timestamp('2024-10-03 00:00:00'), '-',\n",
       "        'UPI/P2A/464341854938/EDWINA PENN/Kotak Bank', 2197, '-',\n",
       "        23433.73, 328],\n",
       "       [Timestamp('2024-10-03 00:00:00'), '-',\n",
       "        'UPI/P2A/427760457696/AARJAV DEEPAK KOTTARI/BOB', 13400, '-',\n",
       "        10033.73, 328],\n",
       "       [Timestamp('2024-10-03 00:00:00'), '-',\n",
       "        'UPI/P2M/464384450870/Google India Digital/Axis Bank', 19, '-',\n",
       "        10014.73, 328],\n",
       "       [Timestamp('2024-10-03 00:00:00'), '-',\n",
       "        'UPI/P2M/427778259435/DELICIA FOODS/HDFC Bank', 104, '-',\n",
       "        9910.73, 328],\n",
       "       [Timestamp('2024-10-03 00:00:00'), '-',\n",
       "        'UPI/P2M/464359156237/DELICIA FOODS/HDFC Bank', 40, '-', 9870.73,\n",
       "        328],\n",
       "       [Timestamp('2024-10-03 00:00:00'), '-',\n",
       "        'UPI/P2M/464303564452/CHUNNILAL NAGDA LLP/Yes Bank', 180, '-',\n",
       "        9690.73, 328],\n",
       "       [Timestamp('2024-10-03 00:00:00'), '-',\n",
       "        'UPI/P2M/464303863161/Google India Digital/Axis Bank', 49, '-',\n",
       "        9641.73, 328],\n",
       "       [Timestamp('2024-10-04 00:00:00'), '-',\n",
       "        'UPI/P2M/427821472446/IRCTC UTS/Yes Bank Ltd', 95, '-', 9546.73,\n",
       "        328],\n",
       "       [Timestamp('2024-10-04 00:00:00'), '-',\n",
       "        'UPI/P2M/427869691656/Google India Digital/Axis Bank', 19, '-',\n",
       "        9527.73, 328],\n",
       "       [Timestamp('2024-10-04 00:00:00'), '-',\n",
       "        'UPI/P2M/464403467497/PAYTM APP/HDFC Bank', 40, '-', 9487.73,\n",
       "        328],\n",
       "       [Timestamp('2024-10-04 00:00:00'), '-',\n",
       "        'UPI/P2M/427846627931/IRCTC UTS/Yes Bank Ltd', 95, '-', 9392.73,\n",
       "        328],\n",
       "       [Timestamp('2024-10-04 00:00:00'), '-',\n",
       "        'UPI/P2M/464446094710/MANMANDIR SWEET AND F/Yes Bank', 10, '-',\n",
       "        9382.73, 328],\n",
       "       [Timestamp('2024-10-04 00:00:00'), '-',\n",
       "        'UPI/P2M/427823368143/SAIF ABDUL QAYUM/Yes Bank Ltd', 300, '-',\n",
       "        9082.73, 328],\n",
       "       [Timestamp('2024-10-04 00:00:00'), '-',\n",
       "        'UPI/P2A/427838136523/Miss SAKSHI CHANGADEO/BoM', 400, '-',\n",
       "        8682.73, 328],\n",
       "       [Timestamp('2024-10-05 00:00:00'), '-',\n",
       "        'UPI/P2M/464551173855/ZOMATO/HDFC Bank Ltd', 224.43, '-', 8458.3,\n",
       "        328],\n",
       "       [Timestamp('2024-10-05 00:00:00'), '-',\n",
       "        'UPI/P2M/427911571626/Amazon India/Amazon RBL', 232.8, '-',\n",
       "        8225.5, 328],\n",
       "       [Timestamp('2024-10-05 00:00:00'), '-',\n",
       "        'UPI/P2M/464565996794/Google India Digital/Axis Bank', 320.9,\n",
       "        '-', 7904.6, 328],\n",
       "       [Timestamp('2024-10-06 00:00:00'), '-',\n",
       "        'UPI/P2M/428017907483/ZOMATO/HDFC Bank Ltd', 199.18, '-',\n",
       "        7705.42, 328],\n",
       "       [Timestamp('2024-10-06 00:00:00'), '-',\n",
       "        'UPI/P2M/464637514605/Google India Digital/Axis Bank', 49, '-',\n",
       "        7656.42, 328],\n",
       "       [Timestamp('2024-10-06 00:00:00'), '-',\n",
       "        'UPI/P2A/464637439625/VINAAR DEEPAK KOTTARI/SIB', 170, '-',\n",
       "        7486.42, 328],\n",
       "       [Timestamp('2024-10-06 00:00:00'), '-',\n",
       "        'UPI/P2M/464693357224/ZOMATO/HDFC Bank Ltd', 181.23, '-',\n",
       "        7305.19, 328],\n",
       "       [Timestamp('2024-10-06 00:00:00'), '-',\n",
       "        'UPI/P2M/464682883348/ZOMATO/HDFC Bank Ltd', 203.64, '-',\n",
       "        7101.55, 328],\n",
       "       [Timestamp('2024-10-07 00:00:00'), '-',\n",
       "        'UPI/P2A/464734906482/SUYASH SHETT/Axis Bank Ltd', 1200, '-',\n",
       "        5901.55, 328],\n",
       "       [Timestamp('2024-10-07 00:00:00'), '-',\n",
       "        'UPI/P2M/428185632302/Google India Service/ICICI Bank', 49, '-',\n",
       "        5852.55, 328],\n",
       "       [Timestamp('2024-10-07 00:00:00'), '-',\n",
       "        'UPI/P2M/464782245159/ZOMATO/HDFC Bank Ltd', 301.92, '-',\n",
       "        5550.63, 328],\n",
       "       [Timestamp('2024-10-08 00:00:00'), '-',\n",
       "        'UPI/P2M/428220544961/IRCTC UTS/Yes Bank Ltd', 50, '-', 5500.63,\n",
       "        328],\n",
       "       [Timestamp('2024-10-08 00:00:00'), '-',\n",
       "        'UPI/P2M/464821488020/Mumbai Metro QR Ticke/Yes Bank', 40, '-',\n",
       "        5460.63, 328],\n",
       "       [Timestamp('2024-10-08 00:00:00'), '-',\n",
       "        'UPI/P2A/428245283335/SURENDRA BABULAL KUMA/Axis Bank', 120, '-',\n",
       "        5340.63, 328],\n",
       "       [Timestamp('2024-10-08 00:00:00'), '-',\n",
       "        'UPI/P2M/464890100792/DELICIA FOODS/HDFC Bank Ltd', 30, '-',\n",
       "        5310.63, 328],\n",
       "       [Timestamp('2024-10-09 00:00:00'), '-',\n",
       "        'UPI/P2M/428304415667/JioCinema/Yes Bank/Subscription', 29, '-',\n",
       "        5281.63, 328],\n",
       "       [Timestamp('2024-10-09 00:00:00'), '-',\n",
       "        'UPI/P2M/464962954147/PAYTM APP/HDFC Bank Ltd', 40, '-', 5241.63,\n",
       "        328],\n",
       "       [Timestamp('2024-10-09 00:00:00'), '-',\n",
       "        'UPI/P2A/464953438341/SURENDRA BABULAL KUMA/Axis Bank', 20, '-',\n",
       "        5221.63, 328],\n",
       "       [Timestamp('2024-10-09 00:00:00'), '-',\n",
       "        'UPI/P2M/428353467225/JUMBO KING/Yes Bank Ltd', 99, '-', 5122.63,\n",
       "        328]], dtype=object)"
      ]
     },
     "execution_count": 296,
     "metadata": {},
     "output_type": "execute_result"
    }
   ],
   "source": [
    "statement"
   ]
  },
  {
   "cell_type": "code",
   "execution_count": null,
   "metadata": {},
   "outputs": [],
   "source": [
    "statement[statement['VendorName'].fillna('ukpat').str.contains('ZOMATO')][['VendorName','Debit']]\\\n",
    ".groupby('VendorName').sum()"
   ]
  },
  {
   "cell_type": "code",
   "execution_count": null,
   "metadata": {},
   "outputs": [],
   "source": [
    "statement['Tran Date']=statement['Tran Date'].astype('datetime64[ms]')"
   ]
  },
  {
   "cell_type": "code",
   "execution_count": null,
   "metadata": {},
   "outputs": [],
   "source": [
    "dtf=pd.to_datetime(['2024-10-06','2024-10-07'])"
   ]
  },
  {
   "cell_type": "code",
   "execution_count": null,
   "metadata": {},
   "outputs": [],
   "source": [
    "statement[statement['Tran Date'].isin(dtf)].sort_values('VendorName')[['VendorName','Debit']]"
   ]
  },
  {
   "cell_type": "code",
   "execution_count": null,
   "metadata": {},
   "outputs": [],
   "source": [
    "statement['Credit']=statement['Credit'].replace('-',0)"
   ]
  },
  {
   "cell_type": "code",
   "execution_count": null,
   "metadata": {},
   "outputs": [],
   "source": [
    "statement['Credit']=statement['Credit'].astype('float64')"
   ]
  },
  {
   "cell_type": "code",
   "execution_count": null,
   "metadata": {},
   "outputs": [],
   "source": [
    "print(statement['Debit'].agg({'total':'sum','avg':'mean'}))"
   ]
  },
  {
   "cell_type": "code",
   "execution_count": null,
   "metadata": {},
   "outputs": [],
   "source": [
    "statement['Debit'].sum()"
   ]
  },
  {
   "cell_type": "code",
   "execution_count": null,
   "metadata": {},
   "outputs": [],
   "source": [
    "stm=spark.createDataFrame(statement)\n",
    "stm.show()"
   ]
  },
  {
   "cell_type": "code",
   "execution_count": null,
   "metadata": {},
   "outputs": [],
   "source": [
    "uy=stm.filter(to_date(col('Tran Date')).isin('2024-10-06','2024-10-07'))\n",
    "uy.orderBy('VendorName').select('VendorName',col('Debit').alias('loude lage')).show()"
   ]
  },
  {
   "cell_type": "code",
   "execution_count": null,
   "metadata": {},
   "outputs": [],
   "source": [
    "qw=stm.filter(col('Particulars').contains('ZOMATO'))\n",
    "qw.show()"
   ]
  },
  {
   "cell_type": "code",
   "execution_count": null,
   "metadata": {},
   "outputs": [],
   "source": [
    "# stm=stm.withColumn('VendorNamewPys',split(col('Particulars'),'/').getItem(3))\n",
    "stm.limit(4).orderBy(col('Balance').desc()).show(truncate=False)"
   ]
  },
  {
   "cell_type": "code",
   "execution_count": null,
   "metadata": {},
   "outputs": [],
   "source": [
    "# statement['Particulars'].str.split('/').str[4]\n",
    "oro=stm.select(col('Tran Date').cast('date').alias('cast_to_date'))\\\n",
    "    .distinct().orderBy(col('cast_to_date').desc())\n",
    "oro.show()\n",
    "sel_dates=['2024-10-08','2024-10-05']\n",
    "\n",
    "oro.filter(col('cast_to_date').isin(sel_dates)).show()"
   ]
  },
  {
   "cell_type": "code",
   "execution_count": null,
   "metadata": {},
   "outputs": [],
   "source": [
    "oro.select(col('cast_to_date').isNotNull()).show()"
   ]
  },
  {
   "cell_type": "code",
   "execution_count": null,
   "metadata": {},
   "outputs": [],
   "source": [
    "statement.sort_values(['Tran Date','VendorName'],ascending=[True,False]).fillna({'VendorName':\\\n",
    "                                                                                 'NaVendor'})"
   ]
  },
  {
   "cell_type": "code",
   "execution_count": null,
   "metadata": {},
   "outputs": [],
   "source": [
    "stm.orderBy('Tran Date',col('VendorName').desc()).show()"
   ]
  },
  {
   "cell_type": "code",
   "execution_count": null,
   "metadata": {},
   "outputs": [],
   "source": [
    "stm=stm.withColumnRenamed('Init. Br','Initial Balance')\n",
    "stm.show()"
   ]
  },
  {
   "cell_type": "code",
   "execution_count": null,
   "metadata": {},
   "outputs": [],
   "source": [
    "stm.select(\n",
    "    col('VendorName').alias('VendorNamewpd'),  # Alias the 'VendorName' column\n",
    "    *[col(c) for c in stm.columns if c != 'VendorName']  # Select all other columns as they are\n",
    ").show(truncate=False)"
   ]
  },
  {
   "cell_type": "code",
   "execution_count": 22,
   "metadata": {},
   "outputs": [
    {
     "data": {
      "text/html": [
       "<div>\n",
       "<style scoped>\n",
       "    .dataframe tbody tr th:only-of-type {\n",
       "        vertical-align: middle;\n",
       "    }\n",
       "\n",
       "    .dataframe tbody tr th {\n",
       "        vertical-align: top;\n",
       "    }\n",
       "\n",
       "    .dataframe thead th {\n",
       "        text-align: right;\n",
       "    }\n",
       "</style>\n",
       "<table border=\"1\" class=\"dataframe\">\n",
       "  <thead>\n",
       "    <tr style=\"text-align: right;\">\n",
       "      <th></th>\n",
       "      <th>MatchNumber</th>\n",
       "      <th>TeamA_x</th>\n",
       "      <th>ScoreA_x</th>\n",
       "      <th>TeamA_y</th>\n",
       "      <th>ScoreA_y</th>\n",
       "    </tr>\n",
       "  </thead>\n",
       "  <tbody>\n",
       "    <tr>\n",
       "      <th>0</th>\n",
       "      <td>3</td>\n",
       "      <td>Delhi Capitals</td>\n",
       "      <td>200</td>\n",
       "      <td>Rajasthan Royals</td>\n",
       "      <td>160</td>\n",
       "    </tr>\n",
       "    <tr>\n",
       "      <th>1</th>\n",
       "      <td>4</td>\n",
       "      <td>Royal Challengers</td>\n",
       "      <td>170</td>\n",
       "      <td>Punjab Kings</td>\n",
       "      <td>140</td>\n",
       "    </tr>\n",
       "    <tr>\n",
       "      <th>2</th>\n",
       "      <td>5</td>\n",
       "      <td>Sunrisers Hyderabad</td>\n",
       "      <td>190</td>\n",
       "      <td>Kolkata Knight Riders</td>\n",
       "      <td>190</td>\n",
       "    </tr>\n",
       "  </tbody>\n",
       "</table>\n",
       "</div>"
      ],
      "text/plain": [
       "   MatchNumber              TeamA_x  ScoreA_x                TeamA_y  ScoreA_y\n",
       "0            3       Delhi Capitals       200       Rajasthan Royals       160\n",
       "1            4    Royal Challengers       170           Punjab Kings       140\n",
       "2            5  Sunrisers Hyderabad       190  Kolkata Knight Riders       190"
      ]
     },
     "execution_count": 22,
     "metadata": {},
     "output_type": "execute_result"
    }
   ],
   "source": [
    "import pandas as pd\n",
    "\n",
    "# Sample DataFrame 1\n",
    "data1 = {\n",
    "    'MatchNumber': [1, 2, 3, 4, 5],\n",
    "    'TeamA': ['Mumbai Indians', 'Chennai Super Kings', 'Delhi Capitals', 'Royal Challengers', 'Sunrisers Hyderabad'],\n",
    "    'ScoreA': [180, 150, 200, 170, 190]\n",
    "}\n",
    "\n",
    "df1 = pd.DataFrame(data1)\n",
    "\n",
    "# Sample DataFrame 2\n",
    "data2 = {\n",
    "    'MatchNumber': [3, 4, 5, 6, 7],\n",
    "    'TeamA': ['Rajasthan Royals', 'Punjab Kings', 'Kolkata Knight Riders', 'Lucknow Super Giants', 'Mumbai Indians'],\n",
    "    'ScoreA': [160, 140, 190, 175, 210]\n",
    "}\n",
    "\n",
    "df2 = pd.DataFrame(data2)\n",
    "\n",
    "# Merging the two DataFrames on MatchNumber\n",
    "merged_df = pd.merge(df1, df2, left_on='MatchNumber',right_on='MatchNumber', how='inner')\n",
    "\n",
    "# Displaying the merged DataFrame\n",
    "merged_df"
   ]
  },
  {
   "cell_type": "code",
   "execution_count": 15,
   "metadata": {},
   "outputs": [],
   "source": [
    "merged_df1=merged_df.copy"
   ]
  },
  {
   "cell_type": "code",
   "execution_count": 41,
   "metadata": {},
   "outputs": [
    {
     "data": {
      "text/plain": [
       "pandas.core.series.Series"
      ]
     },
     "execution_count": 41,
     "metadata": {},
     "output_type": "execute_result"
    }
   ],
   "source": [
    "new=pd.concat([df1['TeamA'],df2['TeamA']],ignore_index=True)\n",
    "chk=new.duplicated()"
   ]
  },
  {
   "cell_type": "code",
   "execution_count": 56,
   "metadata": {},
   "outputs": [
    {
     "data": {
      "text/html": [
       "<div>\n",
       "<style scoped>\n",
       "    .dataframe tbody tr th:only-of-type {\n",
       "        vertical-align: middle;\n",
       "    }\n",
       "\n",
       "    .dataframe tbody tr th {\n",
       "        vertical-align: top;\n",
       "    }\n",
       "\n",
       "    .dataframe thead th {\n",
       "        text-align: right;\n",
       "    }\n",
       "</style>\n",
       "<table border=\"1\" class=\"dataframe\">\n",
       "  <thead>\n",
       "    <tr style=\"text-align: right;\">\n",
       "      <th></th>\n",
       "      <th>Tran Date</th>\n",
       "      <th>Chq No</th>\n",
       "      <th>Particulars</th>\n",
       "      <th>Debit</th>\n",
       "      <th>Credit</th>\n",
       "      <th>Balance</th>\n",
       "      <th>Init. Br</th>\n",
       "    </tr>\n",
       "  </thead>\n",
       "  <tbody>\n",
       "    <tr>\n",
       "      <th>0</th>\n",
       "      <td>2024-10-03</td>\n",
       "      <td>-</td>\n",
       "      <td>UPI/P2A/427781454511/AARJAV DE/Bank of B/UPI</td>\n",
       "      <td>-</td>\n",
       "      <td>166</td>\n",
       "      <td>363.73</td>\n",
       "      <td>328</td>\n",
       "    </tr>\n",
       "    <tr>\n",
       "      <th>1</th>\n",
       "      <td>2024-10-03</td>\n",
       "      <td>-</td>\n",
       "      <td>UPI/P2M/427725422922/IRCTC UTS/Yes Bank Ltd</td>\n",
       "      <td>95</td>\n",
       "      <td>-</td>\n",
       "      <td>268.73</td>\n",
       "      <td>328</td>\n",
       "    </tr>\n",
       "    <tr>\n",
       "      <th>2</th>\n",
       "      <td>2024-10-03</td>\n",
       "      <td>-</td>\n",
       "      <td>UPI/P2M/464391113371/Google India Service/ICIC...</td>\n",
       "      <td>19</td>\n",
       "      <td>-</td>\n",
       "      <td>249.73</td>\n",
       "      <td>328</td>\n",
       "    </tr>\n",
       "  </tbody>\n",
       "</table>\n",
       "</div>"
      ],
      "text/plain": [
       "   Tran Date Chq No                                        Particulars Debit  \\\n",
       "0 2024-10-03      -       UPI/P2A/427781454511/AARJAV DE/Bank of B/UPI     -   \n",
       "1 2024-10-03      -        UPI/P2M/427725422922/IRCTC UTS/Yes Bank Ltd    95   \n",
       "2 2024-10-03      -  UPI/P2M/464391113371/Google India Service/ICIC...    19   \n",
       "\n",
       "  Credit  Balance  Init. Br  \n",
       "0    166   363.73       328  \n",
       "1      -   268.73       328  \n",
       "2      -   249.73       328  "
      ]
     },
     "execution_count": 56,
     "metadata": {},
     "output_type": "execute_result"
    }
   ],
   "source": [
    "st1=statement.head(3)\n",
    "st2=statement.tail(3)\n",
    "st1"
   ]
  },
  {
   "cell_type": "code",
   "execution_count": 57,
   "metadata": {},
   "outputs": [
    {
     "name": "stderr",
     "output_type": "stream",
     "text": [
      "C:\\Users\\Dell\\AppData\\Local\\Temp\\ipykernel_25820\\3072271483.py:5: FutureWarning: Downcasting behavior in `replace` is deprecated and will be removed in a future version. To retain the old behavior, explicitly call `result.infer_objects(copy=False)`. To opt-in to the future behavior, set `pd.set_option('future.no_silent_downcasting', True)`\n",
      "  st3['Credit'] = st3['Credit'].replace('-', 0).astype(float)  # or int based on your requirement\n",
      "C:\\Users\\Dell\\AppData\\Local\\Temp\\ipykernel_25820\\3072271483.py:6: FutureWarning: Downcasting behavior in `replace` is deprecated and will be removed in a future version. To retain the old behavior, explicitly call `result.infer_objects(copy=False)`. To opt-in to the future behavior, set `pd.set_option('future.no_silent_downcasting', True)`\n",
      "  st3['Debit'] = st3['Debit'].replace('-', 0).astype(float)   # or int based on your requirement\n"
     ]
    },
    {
     "data": {
      "text/html": [
       "<div>\n",
       "<style scoped>\n",
       "    .dataframe tbody tr th:only-of-type {\n",
       "        vertical-align: middle;\n",
       "    }\n",
       "\n",
       "    .dataframe tbody tr th {\n",
       "        vertical-align: top;\n",
       "    }\n",
       "\n",
       "    .dataframe thead th {\n",
       "        text-align: right;\n",
       "    }\n",
       "</style>\n",
       "<table border=\"1\" class=\"dataframe\">\n",
       "  <thead>\n",
       "    <tr style=\"text-align: right;\">\n",
       "      <th></th>\n",
       "      <th>Tran Date</th>\n",
       "      <th>Debit</th>\n",
       "      <th>Credit</th>\n",
       "    </tr>\n",
       "  </thead>\n",
       "  <tbody>\n",
       "    <tr>\n",
       "      <th>0</th>\n",
       "      <td>2024-10-03</td>\n",
       "      <td>114.0</td>\n",
       "      <td>166.0</td>\n",
       "    </tr>\n",
       "    <tr>\n",
       "      <th>1</th>\n",
       "      <td>2024-10-09</td>\n",
       "      <td>159.0</td>\n",
       "      <td>0.0</td>\n",
       "    </tr>\n",
       "  </tbody>\n",
       "</table>\n",
       "</div>"
      ],
      "text/plain": [
       "   Tran Date  Debit  Credit\n",
       "0 2024-10-03  114.0   166.0\n",
       "1 2024-10-09  159.0     0.0"
      ]
     },
     "execution_count": 57,
     "metadata": {},
     "output_type": "execute_result"
    }
   ],
   "source": [
    "st3=pd.concat([st1,st2],ignore_index=True)[['Tran Date','Debit','Credit','Balance']]\n",
    "# st3.groupby('Tran Date').sum().reset_index()\\\n",
    "# Replace and infer object types to avoid warnings\n",
    "# Replace and convert the type explicitly\n",
    "st3['Credit'] = st3['Credit'].replace('-', 0).astype(float)  # or int based on your requirement\n",
    "st3['Debit'] = st3['Debit'].replace('-', 0).astype(float)   # or int based on your requirement\n",
    "\n",
    "st3.groupby('Tran Date').sum().filter(items=['Debit','Credit']).reset_index()"
   ]
  },
  {
   "cell_type": "code",
   "execution_count": 129,
   "metadata": {},
   "outputs": [
    {
     "data": {
      "text/plain": [
       "'Credit'"
      ]
     },
     "execution_count": 129,
     "metadata": {},
     "output_type": "execute_result"
    }
   ],
   "source": [
    "st3['Credit'].name"
   ]
  },
  {
   "cell_type": "code",
   "execution_count": 132,
   "metadata": {},
   "outputs": [
    {
     "name": "stdout",
     "output_type": "stream",
     "text": [
      "Mean Squared Error: 510204.0816326575\n",
      "R^2 Score: nan\n"
     ]
    },
    {
     "name": "stderr",
     "output_type": "stream",
     "text": [
      "C:\\Users\\Dell\\AppData\\Local\\Packages\\PythonSoftwareFoundation.Python.3.9_qbz5n2kfra8p0\\LocalCache\\local-packages\\Python39\\site-packages\\sklearn\\metrics\\_regression.py:1211: UndefinedMetricWarning: R^2 score is not well-defined with less than two samples.\n",
      "  warnings.warn(msg, UndefinedMetricWarning)\n",
      "C:\\Users\\Dell\\AppData\\Local\\Packages\\PythonSoftwareFoundation.Python.3.9_qbz5n2kfra8p0\\LocalCache\\local-packages\\Python39\\site-packages\\sklearn\\base.py:493: UserWarning: X does not have valid feature names, but LinearRegression was fitted with feature names\n",
      "  warnings.warn(\n"
     ]
    },
    {
     "data": {
      "image/png": "[encoded data removed]",
      "text/plain": [
       "<Figure size 640x480 with 1 Axes>"
      ]
     },
     "metadata": {},
     "output_type": "display_data"
    }
   ],
   "source": [
    "import numpy as np\n",
    "import pandas as pd\n",
    "import matplotlib.pyplot as plt\n",
    "from sklearn.model_selection import train_test_split\n",
    "from sklearn.linear_model import LinearRegression\n",
    "from sklearn.metrics import mean_squared_error, r2_score\n",
    "\n",
    "# Sample data\n",
    "data = {\n",
    "    'YearsExperience': [1, 2, 3, 4, 5],\n",
    "    'Salary': [40000, 45000, 50000, 60000, 65000]\n",
    "}\n",
    "df = pd.DataFrame(data)\n",
    "\n",
    "# Defining the independent variable (X) and dependent variable (y)\n",
    "X = df[['YearsExperience']]\n",
    "y = df['Salary']\n",
    "\n",
    "# Splitting the dataset into training and testing sets\n",
    "X_train, X_test, y_train, y_test = train_test_split(X, y, test_size=0.2, random_state=42)\n",
    "\n",
    "# Creating and fitting the model\n",
    "model = LinearRegression()\n",
    "model.fit(X_train, y_train)\n",
    "\n",
    "# Making predictions\n",
    "y_pred = model.predict(X_test)\n",
    "\n",
    "# Evaluating the model\n",
    "mse = mean_squared_error(y_test, y_pred)\n",
    "r2 = r2_score(y_test, y_pred)\n",
    "\n",
    "print(\"Mean Squared Error:\", mse)\n",
    "print(\"R^2 Score:\", r2)\n",
    "\n",
    "# Plotting the results\n",
    "plt.scatter(X, y, color='blue')  # original data\n",
    "\n",
    "# Create a range of values for YearsExperience to plot the regression line\n",
    "years_range = np.linspace(X['YearsExperience'].min(), X['YearsExperience'].max(), 100).reshape(-1, 1)\n",
    "salary_pred = model.predict(years_range)\n",
    "\n",
    "# Plot the regression line\n",
    "plt.plot(years_range, salary_pred, color='red', label='Regression Line')  # regression line\n",
    "plt.xlabel('Years of Experience')\n",
    "plt.ylabel('Salary')\n",
    "plt.title('Years of Experience vs Salary')\n",
    "plt.legend()\n",
    "plt.show()\n"
   ]
  },
  {
   "cell_type": "code",
   "execution_count": 112,
   "metadata": {},
   "outputs": [
    {
     "name": "stdout",
     "output_type": "stream",
     "text": [
      "Mean Squared Error: 1224.744871391589\n",
      "R^2 Score: 0.9825581395348837\n"
     ]
    },
    {
     "name": "stderr",
     "output_type": "stream",
     "text": [
      "C:\\Users\\Dell\\AppData\\Local\\Packages\\PythonSoftwareFoundation.Python.3.9_qbz5n2kfra8p0\\LocalCache\\local-packages\\Python39\\site-packages\\sklearn\\base.py:493: UserWarning: X does not have valid feature names, but LinearRegression was fitted with feature names\n",
      "  warnings.warn(\n"
     ]
    },
    {
     "data": {
      "image/png": "[encoded data removed]",
      "text/plain": [
       "<Figure size 640x480 with 1 Axes>"
      ]
     },
     "metadata": {},
     "output_type": "display_data"
    }
   ],
   "source": [
    "import numpy as np\n",
    "import pandas as pd\n",
    "import matplotlib.pyplot as plt\n",
    "from sklearn.linear_model import LinearRegression\n",
    "from sklearn.metrics import root_mean_squared_error, r2_score\n",
    "\n",
    "# Sample data\n",
    "data = {\n",
    "    'YearsExperience': [1, 2, 3, 4, 5],\n",
    "    'Salary': [40000, 45000, 50000, 60000, 65000]\n",
    "}\n",
    "df = pd.DataFrame(data)\n",
    "\n",
    "# Defining the independent variable (X) and dependent variable (y)\n",
    "X = df[['YearsExperience']]\n",
    "y = df['Salary']\n",
    "\n",
    "# Creating and fitting the model\n",
    "model = LinearRegression()\n",
    "model.fit(X, y)\n",
    "\n",
    "# Making predictions\n",
    "y_pred = model.predict(X)\n",
    "\n",
    "# Evaluating the model\n",
    "mse = root_mean_squared_error(y, y_pred)\n",
    "r2 = r2_score(y, y_pred)\n",
    "\n",
    "print(\"Mean Squared Error:\", mse)\n",
    "print(\"R^2 Score:\", r2)\n",
    "\n",
    "# Plotting the results\n",
    "plt.scatter(X, y, color='blue')  # original data\n",
    "\n",
    "# Create a range of values for YearsExperience to plot the regression line\n",
    "years_range = np.linspace(X['YearsExperience'].min(), X['YearsExperience'].max(), 100).reshape(-1, 1)\n",
    "salary_pred = model.predict(years_range)\n",
    "\n",
    "# Plot the regression line\n",
    "plt.plot(years_range, salary_pred, color='red', label='Regression Line')\n",
    "plt.xlabel('Years of Experience')\n",
    "plt.ylabel('Salary')\n",
    "plt.title('Years of Experience vs Salary')\n",
    "plt.legend()\n",
    "plt.show()\n"
   ]
  },
  {
   "cell_type": "code",
   "execution_count": 4,
   "metadata": {},
   "outputs": [],
   "source": [
    "import numpy as np\n",
    "import pandas as pd\n",
    "import matplotlib.pyplot as plt\n",
    "import seaborn as sns"
   ]
  },
  {
   "cell_type": "code",
   "execution_count": 176,
   "metadata": {},
   "outputs": [
    {
     "data": {
      "text/html": [
       "<div>\n",
       "<style scoped>\n",
       "    .dataframe tbody tr th:only-of-type {\n",
       "        vertical-align: middle;\n",
       "    }\n",
       "\n",
       "    .dataframe tbody tr th {\n",
       "        vertical-align: top;\n",
       "    }\n",
       "\n",
       "    .dataframe thead th {\n",
       "        text-align: right;\n",
       "    }\n",
       "</style>\n",
       "<table border=\"1\" class=\"dataframe\">\n",
       "  <thead>\n",
       "    <tr style=\"text-align: right;\">\n",
       "      <th></th>\n",
       "      <th>dataAreaId</th>\n",
       "      <th>Sales Date</th>\n",
       "      <th>Store</th>\n",
       "      <th>Transaction Id</th>\n",
       "      <th>lineNum</th>\n",
       "      <th>Total Discount</th>\n",
       "      <th>Bill No</th>\n",
       "      <th>Serial Number</th>\n",
       "      <th>price</th>\n",
       "      <th>Gross Amount</th>\n",
       "      <th>...</th>\n",
       "      <th>Qty</th>\n",
       "      <th>Coupon Discount</th>\n",
       "      <th>Periodic Discount</th>\n",
       "      <th>Empowerment Discount</th>\n",
       "      <th>Coupons</th>\n",
       "      <th>transTime</th>\n",
       "      <th>SALETYPE</th>\n",
       "      <th>URDTYPE</th>\n",
       "      <th>Sale Type New</th>\n",
       "      <th>Sale Time</th>\n",
       "    </tr>\n",
       "  </thead>\n",
       "  <tbody>\n",
       "    <tr>\n",
       "      <th>0</th>\n",
       "      <td>ofjl</td>\n",
       "      <td>2024-10-18 12:00:00.0000000 +00:00</td>\n",
       "      <td>217</td>\n",
       "      <td>217-217R1-15781</td>\n",
       "      <td>3.0</td>\n",
       "      <td>97596.26</td>\n",
       "      <td>217R124IN0000759</td>\n",
       "      <td>004169313</td>\n",
       "      <td>391896.92</td>\n",
       "      <td>-294300.66</td>\n",
       "      <td>...</td>\n",
       "      <td>1</td>\n",
       "      <td>NaN</td>\n",
       "      <td>NaN</td>\n",
       "      <td>NaN</td>\n",
       "      <td>NaN</td>\n",
       "      <td>52243</td>\n",
       "      <td>NaN</td>\n",
       "      <td>NaN</td>\n",
       "      <td>Sale</td>\n",
       "      <td>14:30:43</td>\n",
       "    </tr>\n",
       "    <tr>\n",
       "      <th>1</th>\n",
       "      <td>ofjl</td>\n",
       "      <td>2024-10-18 12:00:00.0000000 +00:00</td>\n",
       "      <td>217</td>\n",
       "      <td>217-217R1-15782</td>\n",
       "      <td>3.0</td>\n",
       "      <td>94055.26</td>\n",
       "      <td>367</td>\n",
       "      <td>004169313</td>\n",
       "      <td>391896.92</td>\n",
       "      <td>-297841.66</td>\n",
       "      <td>...</td>\n",
       "      <td>1</td>\n",
       "      <td>NaN</td>\n",
       "      <td>NaN</td>\n",
       "      <td>NaN</td>\n",
       "      <td>NaN</td>\n",
       "      <td>48407</td>\n",
       "      <td>NaN</td>\n",
       "      <td>NaN</td>\n",
       "      <td>Sale</td>\n",
       "      <td>13:26:47</td>\n",
       "    </tr>\n",
       "    <tr>\n",
       "      <th>2</th>\n",
       "      <td>ofjl</td>\n",
       "      <td>2024-10-18 12:00:00.0000000 +00:00</td>\n",
       "      <td>188</td>\n",
       "      <td>188-188R1-10667</td>\n",
       "      <td>1.0</td>\n",
       "      <td>10493.94</td>\n",
       "      <td>188R124IN0000804</td>\n",
       "      <td>004257930</td>\n",
       "      <td>69959.62</td>\n",
       "      <td>-59465.68</td>\n",
       "      <td>...</td>\n",
       "      <td>1</td>\n",
       "      <td>NaN</td>\n",
       "      <td>NaN</td>\n",
       "      <td>NaN</td>\n",
       "      <td>NaN</td>\n",
       "      <td>48931</td>\n",
       "      <td>NaN</td>\n",
       "      <td>NaN</td>\n",
       "      <td>Sale</td>\n",
       "      <td>13:35:31</td>\n",
       "    </tr>\n",
       "    <tr>\n",
       "      <th>3</th>\n",
       "      <td>ofjl</td>\n",
       "      <td>2024-10-18 12:00:00.0000000 +00:00</td>\n",
       "      <td>113</td>\n",
       "      <td>113-113R1-15230</td>\n",
       "      <td>1.0</td>\n",
       "      <td>4320.33</td>\n",
       "      <td>113R124IN0001265</td>\n",
       "      <td>004439633</td>\n",
       "      <td>43203.34</td>\n",
       "      <td>-38883.01</td>\n",
       "      <td>...</td>\n",
       "      <td>1</td>\n",
       "      <td>NaN</td>\n",
       "      <td>NaN</td>\n",
       "      <td>NaN</td>\n",
       "      <td>NaN</td>\n",
       "      <td>55794</td>\n",
       "      <td>NaN</td>\n",
       "      <td>NaN</td>\n",
       "      <td>Sale</td>\n",
       "      <td>15:29:54</td>\n",
       "    </tr>\n",
       "    <tr>\n",
       "      <th>4</th>\n",
       "      <td>ofjl</td>\n",
       "      <td>2024-10-18 12:00:00.0000000 +00:00</td>\n",
       "      <td>188</td>\n",
       "      <td>188-188R1-10673</td>\n",
       "      <td>3.0</td>\n",
       "      <td>0.00</td>\n",
       "      <td>188R124IN0000805</td>\n",
       "      <td>004457514</td>\n",
       "      <td>44658.69</td>\n",
       "      <td>-44658.69</td>\n",
       "      <td>...</td>\n",
       "      <td>1</td>\n",
       "      <td>NaN</td>\n",
       "      <td>NaN</td>\n",
       "      <td>NaN</td>\n",
       "      <td>NaN</td>\n",
       "      <td>52233</td>\n",
       "      <td>NaN</td>\n",
       "      <td>NaN</td>\n",
       "      <td>Sale</td>\n",
       "      <td>14:30:33</td>\n",
       "    </tr>\n",
       "  </tbody>\n",
       "</table>\n",
       "<p>5 rows × 68 columns</p>\n",
       "</div>"
      ],
      "text/plain": [
       "  dataAreaId                          Sales Date Store   Transaction Id  \\\n",
       "0       ofjl  2024-10-18 12:00:00.0000000 +00:00   217  217-217R1-15781   \n",
       "1       ofjl  2024-10-18 12:00:00.0000000 +00:00   217  217-217R1-15782   \n",
       "2       ofjl  2024-10-18 12:00:00.0000000 +00:00   188  188-188R1-10667   \n",
       "3       ofjl  2024-10-18 12:00:00.0000000 +00:00   113  113-113R1-15230   \n",
       "4       ofjl  2024-10-18 12:00:00.0000000 +00:00   188  188-188R1-10673   \n",
       "\n",
       "   lineNum  Total Discount           Bill No Serial Number      price  \\\n",
       "0      3.0        97596.26  217R124IN0000759     004169313  391896.92   \n",
       "1      3.0        94055.26               367     004169313  391896.92   \n",
       "2      1.0        10493.94  188R124IN0000804     004257930   69959.62   \n",
       "3      1.0         4320.33  113R124IN0001265     004439633   43203.34   \n",
       "4      3.0            0.00  188R124IN0000805     004457514   44658.69   \n",
       "\n",
       "   Gross Amount  ...  Qty  Coupon Discount  Periodic Discount  \\\n",
       "0    -294300.66  ...    1              NaN                NaN   \n",
       "1    -297841.66  ...    1              NaN                NaN   \n",
       "2     -59465.68  ...    1              NaN                NaN   \n",
       "3     -38883.01  ...    1              NaN                NaN   \n",
       "4     -44658.69  ...    1              NaN                NaN   \n",
       "\n",
       "  Empowerment Discount Coupons transTime SALETYPE  URDTYPE Sale Type New  \\\n",
       "0                  NaN     NaN     52243      NaN      NaN          Sale   \n",
       "1                  NaN     NaN     48407      NaN      NaN          Sale   \n",
       "2                  NaN     NaN     48931      NaN      NaN          Sale   \n",
       "3                  NaN     NaN     55794      NaN      NaN          Sale   \n",
       "4                  NaN     NaN     52233      NaN      NaN          Sale   \n",
       "\n",
       "  Sale Time  \n",
       "0  14:30:43  \n",
       "1  13:26:47  \n",
       "2  13:35:31  \n",
       "3  15:29:54  \n",
       "4  14:30:33  \n",
       "\n",
       "[5 rows x 68 columns]"
      ]
     },
     "execution_count": 176,
     "metadata": {},
     "output_type": "execute_result"
    }
   ],
   "source": [
    "df1=pd.read_csv(r'D:\\GdriveBackup\\0.Projects\\Mock Projects\\DE\\Python\\Sales1810.csv',low_memory=False)\n",
    "df1.head()"
   ]
  },
  {
   "cell_type": "code",
   "execution_count": 177,
   "metadata": {},
   "outputs": [],
   "source": [
    "df=df1.copy()"
   ]
  },
  {
   "cell_type": "code",
   "execution_count": 180,
   "metadata": {},
   "outputs": [],
   "source": [
    "df['Gross Amount'] = df.loc[:, 'Gross Amount'] * -1"
   ]
  },
  {
   "cell_type": "code",
   "execution_count": 184,
   "metadata": {},
   "outputs": [
    {
     "data": {
      "text/html": [
       "<div>\n",
       "<style scoped>\n",
       "    .dataframe tbody tr th:only-of-type {\n",
       "        vertical-align: middle;\n",
       "    }\n",
       "\n",
       "    .dataframe tbody tr th {\n",
       "        vertical-align: top;\n",
       "    }\n",
       "\n",
       "    .dataframe thead th {\n",
       "        text-align: right;\n",
       "    }\n",
       "</style>\n",
       "<table border=\"1\" class=\"dataframe\">\n",
       "  <thead>\n",
       "    <tr style=\"text-align: right;\">\n",
       "      <th></th>\n",
       "      <th>dataAreaId</th>\n",
       "      <th>Sales Date</th>\n",
       "      <th>Store</th>\n",
       "      <th>Transaction Id</th>\n",
       "      <th>lineNum</th>\n",
       "      <th>Total Discount</th>\n",
       "      <th>Bill No</th>\n",
       "      <th>Serial Number</th>\n",
       "      <th>price</th>\n",
       "      <th>Gross Amount</th>\n",
       "      <th>...</th>\n",
       "      <th>Periodic Discount</th>\n",
       "      <th>Empowerment Discount</th>\n",
       "      <th>Coupons</th>\n",
       "      <th>transTime</th>\n",
       "      <th>SALETYPE</th>\n",
       "      <th>URDTYPE</th>\n",
       "      <th>Sale Type New</th>\n",
       "      <th>Sale Time</th>\n",
       "      <th>Sale Time (Seconds)</th>\n",
       "      <th>Time Bins</th>\n",
       "    </tr>\n",
       "  </thead>\n",
       "  <tbody>\n",
       "    <tr>\n",
       "      <th>0</th>\n",
       "      <td>ofjl</td>\n",
       "      <td>2024-10-18 12:00:00.0000000 +00:00</td>\n",
       "      <td>217</td>\n",
       "      <td>217-217R1-15781</td>\n",
       "      <td>3.0</td>\n",
       "      <td>97596.26</td>\n",
       "      <td>217R124IN0000759</td>\n",
       "      <td>004169313</td>\n",
       "      <td>391896.92</td>\n",
       "      <td>294300.66</td>\n",
       "      <td>...</td>\n",
       "      <td>NaN</td>\n",
       "      <td>NaN</td>\n",
       "      <td>NaN</td>\n",
       "      <td>52243</td>\n",
       "      <td>NaN</td>\n",
       "      <td>NaN</td>\n",
       "      <td>Sale</td>\n",
       "      <td>14:30:43</td>\n",
       "      <td>52243</td>\n",
       "      <td>14:00 - 15:00</td>\n",
       "    </tr>\n",
       "    <tr>\n",
       "      <th>1</th>\n",
       "      <td>ofjl</td>\n",
       "      <td>2024-10-18 12:00:00.0000000 +00:00</td>\n",
       "      <td>217</td>\n",
       "      <td>217-217R1-15782</td>\n",
       "      <td>3.0</td>\n",
       "      <td>94055.26</td>\n",
       "      <td>367</td>\n",
       "      <td>004169313</td>\n",
       "      <td>391896.92</td>\n",
       "      <td>297841.66</td>\n",
       "      <td>...</td>\n",
       "      <td>NaN</td>\n",
       "      <td>NaN</td>\n",
       "      <td>NaN</td>\n",
       "      <td>48407</td>\n",
       "      <td>NaN</td>\n",
       "      <td>NaN</td>\n",
       "      <td>Sale</td>\n",
       "      <td>13:26:47</td>\n",
       "      <td>48407</td>\n",
       "      <td>13:00 - 14:00</td>\n",
       "    </tr>\n",
       "    <tr>\n",
       "      <th>2</th>\n",
       "      <td>ofjl</td>\n",
       "      <td>2024-10-18 12:00:00.0000000 +00:00</td>\n",
       "      <td>188</td>\n",
       "      <td>188-188R1-10667</td>\n",
       "      <td>1.0</td>\n",
       "      <td>10493.94</td>\n",
       "      <td>188R124IN0000804</td>\n",
       "      <td>004257930</td>\n",
       "      <td>69959.62</td>\n",
       "      <td>59465.68</td>\n",
       "      <td>...</td>\n",
       "      <td>NaN</td>\n",
       "      <td>NaN</td>\n",
       "      <td>NaN</td>\n",
       "      <td>48931</td>\n",
       "      <td>NaN</td>\n",
       "      <td>NaN</td>\n",
       "      <td>Sale</td>\n",
       "      <td>13:35:31</td>\n",
       "      <td>48931</td>\n",
       "      <td>13:00 - 14:00</td>\n",
       "    </tr>\n",
       "    <tr>\n",
       "      <th>3</th>\n",
       "      <td>ofjl</td>\n",
       "      <td>2024-10-18 12:00:00.0000000 +00:00</td>\n",
       "      <td>113</td>\n",
       "      <td>113-113R1-15230</td>\n",
       "      <td>1.0</td>\n",
       "      <td>4320.33</td>\n",
       "      <td>113R124IN0001265</td>\n",
       "      <td>004439633</td>\n",
       "      <td>43203.34</td>\n",
       "      <td>38883.01</td>\n",
       "      <td>...</td>\n",
       "      <td>NaN</td>\n",
       "      <td>NaN</td>\n",
       "      <td>NaN</td>\n",
       "      <td>55794</td>\n",
       "      <td>NaN</td>\n",
       "      <td>NaN</td>\n",
       "      <td>Sale</td>\n",
       "      <td>15:29:54</td>\n",
       "      <td>55794</td>\n",
       "      <td>15:00 - 16:00</td>\n",
       "    </tr>\n",
       "    <tr>\n",
       "      <th>4</th>\n",
       "      <td>ofjl</td>\n",
       "      <td>2024-10-18 12:00:00.0000000 +00:00</td>\n",
       "      <td>188</td>\n",
       "      <td>188-188R1-10673</td>\n",
       "      <td>3.0</td>\n",
       "      <td>0.00</td>\n",
       "      <td>188R124IN0000805</td>\n",
       "      <td>004457514</td>\n",
       "      <td>44658.69</td>\n",
       "      <td>44658.69</td>\n",
       "      <td>...</td>\n",
       "      <td>NaN</td>\n",
       "      <td>NaN</td>\n",
       "      <td>NaN</td>\n",
       "      <td>52233</td>\n",
       "      <td>NaN</td>\n",
       "      <td>NaN</td>\n",
       "      <td>Sale</td>\n",
       "      <td>14:30:33</td>\n",
       "      <td>52233</td>\n",
       "      <td>14:00 - 15:00</td>\n",
       "    </tr>\n",
       "    <tr>\n",
       "      <th>...</th>\n",
       "      <td>...</td>\n",
       "      <td>...</td>\n",
       "      <td>...</td>\n",
       "      <td>...</td>\n",
       "      <td>...</td>\n",
       "      <td>...</td>\n",
       "      <td>...</td>\n",
       "      <td>...</td>\n",
       "      <td>...</td>\n",
       "      <td>...</td>\n",
       "      <td>...</td>\n",
       "      <td>...</td>\n",
       "      <td>...</td>\n",
       "      <td>...</td>\n",
       "      <td>...</td>\n",
       "      <td>...</td>\n",
       "      <td>...</td>\n",
       "      <td>...</td>\n",
       "      <td>...</td>\n",
       "      <td>...</td>\n",
       "      <td>...</td>\n",
       "    </tr>\n",
       "    <tr>\n",
       "      <th>369</th>\n",
       "      <td>ofjl</td>\n",
       "      <td>2024-10-18 12:00:00.0000000 +00:00</td>\n",
       "      <td>103</td>\n",
       "      <td>103-103R4-1344</td>\n",
       "      <td>2.0</td>\n",
       "      <td>9140.31</td>\n",
       "      <td>103R424IN0000098</td>\n",
       "      <td>001791590</td>\n",
       "      <td>59993.08</td>\n",
       "      <td>50852.77</td>\n",
       "      <td>...</td>\n",
       "      <td>NaN</td>\n",
       "      <td>NaN</td>\n",
       "      <td>NaN</td>\n",
       "      <td>62861</td>\n",
       "      <td>NaN</td>\n",
       "      <td>NaN</td>\n",
       "      <td>Sale</td>\n",
       "      <td>17:27:41</td>\n",
       "      <td>62861</td>\n",
       "      <td>17:00 - 18:00</td>\n",
       "    </tr>\n",
       "    <tr>\n",
       "      <th>370</th>\n",
       "      <td>ofjl</td>\n",
       "      <td>2024-10-18 12:00:00.0000000 +00:00</td>\n",
       "      <td>153</td>\n",
       "      <td>153-153R1-10662</td>\n",
       "      <td>2.0</td>\n",
       "      <td>33128.32</td>\n",
       "      <td>153R124IN0000488</td>\n",
       "      <td>004452425</td>\n",
       "      <td>645000.00</td>\n",
       "      <td>611871.68</td>\n",
       "      <td>...</td>\n",
       "      <td>NaN</td>\n",
       "      <td>NaN</td>\n",
       "      <td>NaN</td>\n",
       "      <td>63390</td>\n",
       "      <td>NaN</td>\n",
       "      <td>NaN</td>\n",
       "      <td>Sale</td>\n",
       "      <td>17:36:30</td>\n",
       "      <td>63390</td>\n",
       "      <td>17:00 - 18:00</td>\n",
       "    </tr>\n",
       "    <tr>\n",
       "      <th>371</th>\n",
       "      <td>ofjl</td>\n",
       "      <td>2024-10-18 12:00:00.0000000 +00:00</td>\n",
       "      <td>144</td>\n",
       "      <td>144-144R1-13870</td>\n",
       "      <td>1.0</td>\n",
       "      <td>23740.93</td>\n",
       "      <td>144R124IN0001584</td>\n",
       "      <td>004258650</td>\n",
       "      <td>237409.30</td>\n",
       "      <td>213668.37</td>\n",
       "      <td>...</td>\n",
       "      <td>NaN</td>\n",
       "      <td>NaN</td>\n",
       "      <td>NaN</td>\n",
       "      <td>57852</td>\n",
       "      <td>NaN</td>\n",
       "      <td>NaN</td>\n",
       "      <td>Sale</td>\n",
       "      <td>16:04:12</td>\n",
       "      <td>57852</td>\n",
       "      <td>16:00 - 17:00</td>\n",
       "    </tr>\n",
       "    <tr>\n",
       "      <th>372</th>\n",
       "      <td>ofjl</td>\n",
       "      <td>2024-10-18 12:00:00.0000000 +00:00</td>\n",
       "      <td>103</td>\n",
       "      <td>103-103R4-1350</td>\n",
       "      <td>1.0</td>\n",
       "      <td>9038.52</td>\n",
       "      <td>103R424IN0000099</td>\n",
       "      <td>004176974</td>\n",
       "      <td>90385.20</td>\n",
       "      <td>81346.68</td>\n",
       "      <td>...</td>\n",
       "      <td>NaN</td>\n",
       "      <td>NaN</td>\n",
       "      <td>NaN</td>\n",
       "      <td>65522</td>\n",
       "      <td>NaN</td>\n",
       "      <td>NaN</td>\n",
       "      <td>Sale</td>\n",
       "      <td>18:12:02</td>\n",
       "      <td>65522</td>\n",
       "      <td>18:00 - 19:00</td>\n",
       "    </tr>\n",
       "    <tr>\n",
       "      <th>373</th>\n",
       "      <td>ofjl</td>\n",
       "      <td>2024-10-18 12:00:00.0000000 +00:00</td>\n",
       "      <td>103</td>\n",
       "      <td>103-103R1-11293</td>\n",
       "      <td>1.0</td>\n",
       "      <td>9159.60</td>\n",
       "      <td>103R124IN0001244</td>\n",
       "      <td>004468328</td>\n",
       "      <td>91596.01</td>\n",
       "      <td>82436.41</td>\n",
       "      <td>...</td>\n",
       "      <td>NaN</td>\n",
       "      <td>NaN</td>\n",
       "      <td>NaN</td>\n",
       "      <td>62692</td>\n",
       "      <td>NaN</td>\n",
       "      <td>NaN</td>\n",
       "      <td>Sale</td>\n",
       "      <td>17:24:52</td>\n",
       "      <td>62692</td>\n",
       "      <td>17:00 - 18:00</td>\n",
       "    </tr>\n",
       "  </tbody>\n",
       "</table>\n",
       "<p>374 rows × 70 columns</p>\n",
       "</div>"
      ],
      "text/plain": [
       "    dataAreaId                          Sales Date Store   Transaction Id  \\\n",
       "0         ofjl  2024-10-18 12:00:00.0000000 +00:00   217  217-217R1-15781   \n",
       "1         ofjl  2024-10-18 12:00:00.0000000 +00:00   217  217-217R1-15782   \n",
       "2         ofjl  2024-10-18 12:00:00.0000000 +00:00   188  188-188R1-10667   \n",
       "3         ofjl  2024-10-18 12:00:00.0000000 +00:00   113  113-113R1-15230   \n",
       "4         ofjl  2024-10-18 12:00:00.0000000 +00:00   188  188-188R1-10673   \n",
       "..         ...                                 ...   ...              ...   \n",
       "369       ofjl  2024-10-18 12:00:00.0000000 +00:00   103   103-103R4-1344   \n",
       "370       ofjl  2024-10-18 12:00:00.0000000 +00:00   153  153-153R1-10662   \n",
       "371       ofjl  2024-10-18 12:00:00.0000000 +00:00   144  144-144R1-13870   \n",
       "372       ofjl  2024-10-18 12:00:00.0000000 +00:00   103   103-103R4-1350   \n",
       "373       ofjl  2024-10-18 12:00:00.0000000 +00:00   103  103-103R1-11293   \n",
       "\n",
       "     lineNum  Total Discount           Bill No Serial Number      price  \\\n",
       "0        3.0        97596.26  217R124IN0000759     004169313  391896.92   \n",
       "1        3.0        94055.26               367     004169313  391896.92   \n",
       "2        1.0        10493.94  188R124IN0000804     004257930   69959.62   \n",
       "3        1.0         4320.33  113R124IN0001265     004439633   43203.34   \n",
       "4        3.0            0.00  188R124IN0000805     004457514   44658.69   \n",
       "..       ...             ...               ...           ...        ...   \n",
       "369      2.0         9140.31  103R424IN0000098     001791590   59993.08   \n",
       "370      2.0        33128.32  153R124IN0000488     004452425  645000.00   \n",
       "371      1.0        23740.93  144R124IN0001584     004258650  237409.30   \n",
       "372      1.0         9038.52  103R424IN0000099     004176974   90385.20   \n",
       "373      1.0         9159.60  103R124IN0001244     004468328   91596.01   \n",
       "\n",
       "     Gross Amount  ...  Periodic Discount  Empowerment Discount  Coupons  \\\n",
       "0       294300.66  ...                NaN                   NaN      NaN   \n",
       "1       297841.66  ...                NaN                   NaN      NaN   \n",
       "2        59465.68  ...                NaN                   NaN      NaN   \n",
       "3        38883.01  ...                NaN                   NaN      NaN   \n",
       "4        44658.69  ...                NaN                   NaN      NaN   \n",
       "..            ...  ...                ...                   ...      ...   \n",
       "369      50852.77  ...                NaN                   NaN      NaN   \n",
       "370     611871.68  ...                NaN                   NaN      NaN   \n",
       "371     213668.37  ...                NaN                   NaN      NaN   \n",
       "372      81346.68  ...                NaN                   NaN      NaN   \n",
       "373      82436.41  ...                NaN                   NaN      NaN   \n",
       "\n",
       "    transTime SALETYPE URDTYPE Sale Type New  Sale Time Sale Time (Seconds)  \\\n",
       "0       52243      NaN     NaN          Sale   14:30:43               52243   \n",
       "1       48407      NaN     NaN          Sale   13:26:47               48407   \n",
       "2       48931      NaN     NaN          Sale   13:35:31               48931   \n",
       "3       55794      NaN     NaN          Sale   15:29:54               55794   \n",
       "4       52233      NaN     NaN          Sale   14:30:33               52233   \n",
       "..        ...      ...     ...           ...        ...                 ...   \n",
       "369     62861      NaN     NaN          Sale   17:27:41               62861   \n",
       "370     63390      NaN     NaN          Sale   17:36:30               63390   \n",
       "371     57852      NaN     NaN          Sale   16:04:12               57852   \n",
       "372     65522      NaN     NaN          Sale   18:12:02               65522   \n",
       "373     62692      NaN     NaN          Sale   17:24:52               62692   \n",
       "\n",
       "         Time Bins  \n",
       "0    14:00 - 15:00  \n",
       "1    13:00 - 14:00  \n",
       "2    13:00 - 14:00  \n",
       "3    15:00 - 16:00  \n",
       "4    14:00 - 15:00  \n",
       "..             ...  \n",
       "369  17:00 - 18:00  \n",
       "370  17:00 - 18:00  \n",
       "371  16:00 - 17:00  \n",
       "372  18:00 - 19:00  \n",
       "373  17:00 - 18:00  \n",
       "\n",
       "[374 rows x 70 columns]"
      ]
     },
     "execution_count": 184,
     "metadata": {},
     "output_type": "execute_result"
    }
   ],
   "source": [
    "df"
   ]
  },
  {
   "cell_type": "code",
   "execution_count": 183,
   "metadata": {},
   "outputs": [],
   "source": [
    "# Convert 'Sale Time' to datetime and then extract the time\n",
    "df['Sale Time'] = pd.to_datetime(df['Sale Time'], format='%H:%M:%S').dt.time\n",
    "\n",
    "# Convert 'Sale Time' to total seconds since midnight\n",
    "df['Sale Time (Seconds)'] = df['Sale Time'].apply(lambda t: t.hour * 3600 + t.minute * 60 + t.second)\n",
    "\n",
    "# Create bins for every hour (3600 seconds = 1 hour)\n",
    "bins = [i * 3600 for i in range(25)]  # 0 to 24 hours in seconds\n",
    "\n",
    "# Assign labels for each hour\n",
    "hour_labels = [f'{i:02d}:00 - {i+1:02d}:00' for i in range(24)]\n",
    "\n",
    "# Bin the 'Sale Time (Seconds)' column using hourly intervals\n",
    "df['Time Bins'] = pd.cut(df['Sale Time (Seconds)'], bins=bins, labels=hour_labels, right=False)"
   ]
  },
  {
   "cell_type": "code",
   "execution_count": 189,
   "metadata": {},
   "outputs": [
    {
     "data": {
      "image/png": "[encoded data removed]",
      "text/plain": [
       "<Figure size 640x480 with 1 Axes>"
      ]
     },
     "metadata": {},
     "output_type": "display_data"
    }
   ],
   "source": [
    "# Plotting the stacked bar chart\n",
    "sns.barplot(x='Time Bins', y='Gross Amount', data=df, width=0.5)  # Change width here\n",
    "\n",
    "# Show the plot\n",
    "plt.title(\"Bar Plot with Custom Width\")\n",
    "plt.xlabel(\"Category\")\n",
    "plt.ylabel(\"Values\")\n",
    "plt.xticks(rotation=90)\n",
    "plt.show()"
   ]
  },
  {
   "cell_type": "code",
   "execution_count": 190,
   "metadata": {},
   "outputs": [
    {
     "data": {
      "text/plain": [
       "np.float64(14175151.0)"
      ]
     },
     "execution_count": 190,
     "metadata": {},
     "output_type": "execute_result"
    }
   ],
   "source": [
    "df['Gross Amount'].sum()"
   ]
  },
  {
   "cell_type": "code",
   "execution_count": 10,
   "metadata": {},
   "outputs": [
    {
     "name": "stderr",
     "output_type": "stream",
     "text": [
      "C:\\Users\\Dell\\AppData\\Local\\Temp\\ipykernel_19720\\2097154700.py:1: FutureWarning: Downcasting behavior in `replace` is deprecated and will be removed in a future version. To retain the old behavior, explicitly call `result.infer_objects(copy=False)`. To opt-in to the future behavior, set `pd.set_option('future.no_silent_downcasting', True)`\n",
      "  statement['Debit']=statement['Debit'].replace('-',0)\n"
     ]
    }
   ],
   "source": [
    "statement['Debit']=statement['Debit'].replace('-',0)\n"
   ]
  },
  {
   "cell_type": "code",
   "execution_count": 12,
   "metadata": {},
   "outputs": [],
   "source": [
    "statement['Debit']=statement[\"Debit\"].astype('float64')"
   ]
  },
  {
   "cell_type": "code",
   "execution_count": 16,
   "metadata": {},
   "outputs": [
    {
     "data": {
      "image/png": "[encoded data removed]",
      "text/plain": [
       "<Figure size 640x480 with 1 Axes>"
      ]
     },
     "metadata": {},
     "output_type": "display_data"
    }
   ],
   "source": [
    "sns.barplot(x='Tran Date',y='Debit',data=statement)\n",
    "plt.xticks(rotation=90)\n",
    "plt.show()"
   ]
  },
  {
   "cell_type": "code",
   "execution_count": 17,
   "metadata": {},
   "outputs": [
    {
     "name": "stdout",
     "output_type": "stream",
     "text": [
      "0\n",
      "3\n",
      "8\n",
      "1\n",
      "10\n",
      "1\n",
      "3\n",
      "8\n",
      "1\n",
      "10\n",
      "2\n",
      "3\n",
      "8\n",
      "1\n",
      "10\n",
      "3\n",
      "3\n",
      "8\n",
      "1\n",
      "10\n"
     ]
    },
    {
     "data": {
      "image/png": "[encoded data removed]",
      "text/plain": [
       "<Figure size 640x480 with 2 Axes>"
      ]
     },
     "metadata": {},
     "output_type": "display_data"
    }
   ],
   "source": [
    "import matplotlib.pyplot as plt\n",
    "import numpy as np\n",
    "\n",
    "#plot 1:\n",
    "x = np.array([0, 1, 2, 3])\n",
    "y = np.array([3, 8, 1, 10])\n",
    "\n",
    "for i in x:\n",
    "    print(i)\n",
    "    plt.scatter(x,y)\n",
    "    for j in y:\n",
    "        plt.subplot(2, 2, 2)\n",
    "        \n",
    "        print(j)\n",
    "        \n",
    "\n",
    "    \n",
    "\n",
    "\n",
    "\n",
    "\n",
    "\n",
    "\n",
    "plt.show()"
   ]
  },
  {
   "cell_type": "code",
   "execution_count": 32,
   "metadata": {},
   "outputs": [
    {
     "name": "stdout",
     "output_type": "stream",
     "text": [
      "[1 2 3 4 5]\n",
      " **********\n",
      " ********\n",
      " ******\n",
      " ****\n",
      " **\n"
     ]
    }
   ],
   "source": [
    "a=np.arange(1,6)\n",
    "print(a)\n",
    "\n",
    "for i in a[::-1]:\n",
    "    print(' '+'*'*2*i)"
   ]
  },
  {
   "cell_type": "code",
   "execution_count": 34,
   "metadata": {},
   "outputs": [
    {
     "name": "stdout",
     "output_type": "stream",
     "text": [
      "    *\n",
      "   ***\n",
      "  *****\n",
      " *******\n",
      "*********\n"
     ]
    }
   ],
   "source": [
    "n = 5  # Number of levels for the pyramid\n",
    "\n",
    "for i in range(1, n+1):\n",
    "    print(' ' * (n - i) + '*' * (2 * i-1))\n"
   ]
  },
  {
   "cell_type": "code",
   "execution_count": 40,
   "metadata": {},
   "outputs": [
    {
     "name": "stdout",
     "output_type": "stream",
     "text": [
      "[0 1 2 3 4]\n",
      "[10 11 12 13 14]\n",
      "[ 0 11 24 39 56]\n"
     ]
    }
   ],
   "source": [
    "a=np.arange(0,5)\n",
    "b=np.arange(10,15)\n",
    "print(a)\n",
    "print(b)\n",
    "print(a*b)"
   ]
  },
  {
   "cell_type": "code",
   "execution_count": 46,
   "metadata": {},
   "outputs": [
    {
     "name": "stdout",
     "output_type": "stream",
     "text": [
      "[[0.40180729 0.31522371 0.22557066 0.68183248]\n",
      " [0.6004348  0.02851493 0.93197129 0.82676612]\n",
      " [0.25861094 0.490006   0.40084614 0.18000424]]\n"
     ]
    }
   ],
   "source": [
    "c=np.random.random((3,4))\n",
    "print(c)"
   ]
  },
  {
   "cell_type": "code",
   "execution_count": 112,
   "metadata": {},
   "outputs": [
    {
     "data": {
      "text/plain": [
       "array([[4, 0, 0],\n",
       "       [0, 4, 0],\n",
       "       [0, 0, 4]])"
      ]
     },
     "execution_count": 112,
     "metadata": {},
     "output_type": "execute_result"
    }
   ],
   "source": [
    "d=np.identity(3,dtype=int)*4\n",
    "d"
   ]
  },
  {
   "cell_type": "code",
   "execution_count": 113,
   "metadata": {},
   "outputs": [
    {
     "data": {
      "text/plain": [
       "array([[-2,  0,  0],\n",
       "       [ 0, -2,  0],\n",
       "       [ 0,  0, -2]])"
      ]
     },
     "execution_count": 113,
     "metadata": {},
     "output_type": "execute_result"
    }
   ],
   "source": [
    "e=np.identity(3,dtype=int)*-2\n",
    "e"
   ]
  },
  {
   "cell_type": "code",
   "execution_count": 114,
   "metadata": {},
   "outputs": [
    {
     "data": {
      "text/plain": [
       "array([[-8,  0,  0],\n",
       "       [ 0, -8,  0],\n",
       "       [ 0,  0, -8]])"
      ]
     },
     "execution_count": 114,
     "metadata": {},
     "output_type": "execute_result"
    }
   ],
   "source": [
    "f=np.dot(d,e)\n",
    "f"
   ]
  },
  {
   "cell_type": "code",
   "execution_count": 127,
   "metadata": {},
   "outputs": [
    {
     "data": {
      "text/plain": [
       "array([0.63853295, 0.75545638, 0.6309088 , 0.34966467, 0.67959349,\n",
       "       0.32985568, 0.98281107, 0.87288542])"
      ]
     },
     "execution_count": 127,
     "metadata": {},
     "output_type": "execute_result"
    }
   ],
   "source": [
    "g=np.random.random((4,2))\n",
    "g.ravel()"
   ]
  },
  {
   "cell_type": "code",
   "execution_count": 136,
   "metadata": {},
   "outputs": [],
   "source": [
    "import numpy as np\n",
    "import pandas as pd\n",
    "import matplotlib.pyplot as plt\n",
    "import seaborn as sns"
   ]
  },
  {
   "cell_type": "code",
   "execution_count": 78,
   "metadata": {},
   "outputs": [
    {
     "data": {
      "text/html": [
       "<div>\n",
       "<style scoped>\n",
       "    .dataframe tbody tr th:only-of-type {\n",
       "        vertical-align: middle;\n",
       "    }\n",
       "\n",
       "    .dataframe tbody tr th {\n",
       "        vertical-align: top;\n",
       "    }\n",
       "\n",
       "    .dataframe thead th {\n",
       "        text-align: right;\n",
       "    }\n",
       "</style>\n",
       "<table border=\"1\" class=\"dataframe\">\n",
       "  <thead>\n",
       "    <tr style=\"text-align: right;\">\n",
       "      <th></th>\n",
       "      <th>Sales Date</th>\n",
       "      <th>Transaction Status</th>\n",
       "      <th>Discount</th>\n",
       "      <th>Gross Amount</th>\n",
       "      <th>Net Sales Price</th>\n",
       "      <th>Sales Person Code</th>\n",
       "      <th>Sales Person Name</th>\n",
       "      <th>Transaction ID</th>\n",
       "      <th>Design No</th>\n",
       "      <th>Serial Number</th>\n",
       "      <th>...</th>\n",
       "      <th>Sales Person Code New</th>\n",
       "      <th>Coupon Discount</th>\n",
       "      <th>Periodic Discount</th>\n",
       "      <th>Empowerment Discount</th>\n",
       "      <th>Coupons</th>\n",
       "      <th>Magic Price Discount</th>\n",
       "      <th>Procurement Type</th>\n",
       "      <th>buddystaffid</th>\n",
       "      <th>Making Discount</th>\n",
       "      <th>Wastage Discount</th>\n",
       "    </tr>\n",
       "  </thead>\n",
       "  <tbody>\n",
       "    <tr>\n",
       "      <th>0</th>\n",
       "      <td>2024-04-04 12:00:00.0000000</td>\n",
       "      <td>Posted</td>\n",
       "      <td>10566.64</td>\n",
       "      <td>95099.74</td>\n",
       "      <td>0.0</td>\n",
       "      <td>003119</td>\n",
       "      <td>Santosh Verma</td>\n",
       "      <td>114-114R2-1204</td>\n",
       "      <td>OBF16780-D400XEC</td>\n",
       "      <td>004168160</td>\n",
       "      <td>...</td>\n",
       "      <td>003119</td>\n",
       "      <td>0.0</td>\n",
       "      <td>10566.64</td>\n",
       "      <td>0.0</td>\n",
       "      <td>Diamond Festival 24- Dia (O+W)</td>\n",
       "      <td>0.0</td>\n",
       "      <td>JobWork</td>\n",
       "      <td>NaN</td>\n",
       "      <td>0.0</td>\n",
       "      <td>0.0</td>\n",
       "    </tr>\n",
       "  </tbody>\n",
       "</table>\n",
       "<p>1 rows × 90 columns</p>\n",
       "</div>"
      ],
      "text/plain": [
       "                    Sales Date Transaction Status  Discount  Gross Amount  \\\n",
       "0  2024-04-04 12:00:00.0000000             Posted  10566.64      95099.74   \n",
       "\n",
       "   Net Sales Price Sales Person Code Sales Person Name  Transaction ID  \\\n",
       "0              0.0            003119     Santosh Verma  114-114R2-1204   \n",
       "\n",
       "          Design No Serial Number  ... Sales Person Code New Coupon Discount  \\\n",
       "0  OBF16780-D400XEC     004168160  ...                003119             0.0   \n",
       "\n",
       "   Periodic Discount Empowerment Discount                         Coupons  \\\n",
       "0           10566.64                  0.0  Diamond Festival 24- Dia (O+W)   \n",
       "\n",
       "  Magic Price Discount Procurement Type buddystaffid Making Discount  \\\n",
       "0                  0.0          JobWork          NaN             0.0   \n",
       "\n",
       "  Wastage Discount  \n",
       "0              0.0  \n",
       "\n",
       "[1 rows x 90 columns]"
      ]
     },
     "execution_count": 78,
     "metadata": {},
     "output_type": "execute_result"
    }
   ],
   "source": [
    "sales=pd.read_csv(r\"D:\\GdriveBackup\\0.Projects\\Mock Projects\\DE\\Python\\sales24102024.csv\",low_memory=False)\n",
    "sales.head(1)"
   ]
  },
  {
   "cell_type": "code",
   "execution_count": 79,
   "metadata": {},
   "outputs": [],
   "source": [
    "sales['Sales Date']=pd.to_datetime(sales['Sales Date'])"
   ]
  },
  {
   "cell_type": "code",
   "execution_count": 328,
   "metadata": {},
   "outputs": [],
   "source": []
  },
  {
   "cell_type": "code",
   "execution_count": 80,
   "metadata": {},
   "outputs": [],
   "source": [
    "sales['date']=sales['Sales Date'].dt.date\n",
    "sales['date'] = pd.to_datetime(sales['date'], format='%d-%m-%Y')\n",
    "sales['formatted_date'] = sales['date'].dt.strftime('%Y-%b-%d')"
   ]
  },
  {
   "cell_type": "code",
   "execution_count": 81,
   "metadata": {},
   "outputs": [
    {
     "data": {
      "text/html": [
       "<div>\n",
       "<style scoped>\n",
       "    .dataframe tbody tr th:only-of-type {\n",
       "        vertical-align: middle;\n",
       "    }\n",
       "\n",
       "    .dataframe tbody tr th {\n",
       "        vertical-align: top;\n",
       "    }\n",
       "\n",
       "    .dataframe thead th {\n",
       "        text-align: right;\n",
       "    }\n",
       "</style>\n",
       "<table border=\"1\" class=\"dataframe\">\n",
       "  <thead>\n",
       "    <tr style=\"text-align: right;\">\n",
       "      <th></th>\n",
       "      <th>Sales Date</th>\n",
       "      <th>Transaction Status</th>\n",
       "      <th>Discount</th>\n",
       "      <th>Gross Amount</th>\n",
       "      <th>Net Sales Price</th>\n",
       "      <th>Sales Person Code</th>\n",
       "      <th>Sales Person Name</th>\n",
       "      <th>Transaction ID</th>\n",
       "      <th>Design No</th>\n",
       "      <th>Serial Number</th>\n",
       "      <th>...</th>\n",
       "      <th>Periodic Discount</th>\n",
       "      <th>Empowerment Discount</th>\n",
       "      <th>Coupons</th>\n",
       "      <th>Magic Price Discount</th>\n",
       "      <th>Procurement Type</th>\n",
       "      <th>buddystaffid</th>\n",
       "      <th>Making Discount</th>\n",
       "      <th>Wastage Discount</th>\n",
       "      <th>date</th>\n",
       "      <th>formatted_date</th>\n",
       "    </tr>\n",
       "  </thead>\n",
       "  <tbody>\n",
       "    <tr>\n",
       "      <th>167007</th>\n",
       "      <td>2023-11-09 12:00:00</td>\n",
       "      <td>Posted</td>\n",
       "      <td>4859.0</td>\n",
       "      <td>43737.39</td>\n",
       "      <td>0.0</td>\n",
       "      <td>005274</td>\n",
       "      <td>JAYA SRIVASTAVA</td>\n",
       "      <td>132-132R1-2274</td>\n",
       "      <td>OPR18038-D300XFB</td>\n",
       "      <td>001770185</td>\n",
       "      <td>...</td>\n",
       "      <td>0.0</td>\n",
       "      <td>4859.0</td>\n",
       "      <td>NaN</td>\n",
       "      <td>0.0</td>\n",
       "      <td>JobWork</td>\n",
       "      <td>NaN</td>\n",
       "      <td>0.0</td>\n",
       "      <td>0.0</td>\n",
       "      <td>2023-11-09</td>\n",
       "      <td>2023-Nov-09</td>\n",
       "    </tr>\n",
       "  </tbody>\n",
       "</table>\n",
       "<p>1 rows × 92 columns</p>\n",
       "</div>"
      ],
      "text/plain": [
       "                Sales Date Transaction Status  Discount  Gross Amount  \\\n",
       "167007 2023-11-09 12:00:00             Posted    4859.0      43737.39   \n",
       "\n",
       "        Net Sales Price Sales Person Code Sales Person Name  Transaction ID  \\\n",
       "167007              0.0            005274   JAYA SRIVASTAVA  132-132R1-2274   \n",
       "\n",
       "               Design No Serial Number  ... Periodic Discount  \\\n",
       "167007  OPR18038-D300XFB     001770185  ...               0.0   \n",
       "\n",
       "       Empowerment Discount  Coupons Magic Price Discount Procurement Type  \\\n",
       "167007               4859.0      NaN                  0.0          JobWork   \n",
       "\n",
       "       buddystaffid Making Discount Wastage Discount       date formatted_date  \n",
       "167007          NaN             0.0              0.0 2023-11-09    2023-Nov-09  \n",
       "\n",
       "[1 rows x 92 columns]"
      ]
     },
     "execution_count": 81,
     "metadata": {},
     "output_type": "execute_result"
    }
   ],
   "source": [
    "sales.sample()"
   ]
  },
  {
   "cell_type": "code",
   "execution_count": 82,
   "metadata": {},
   "outputs": [],
   "source": [
    "sa1=sales[['formatted_date','Gross Weight','date']].groupby(['formatted_date','date']).sum().reset_index()\n",
    "sa1.sort_values('date',inplace=True,ascending=True)\n",
    "sa1['formatted_date']=pd.to_datetime(sa1['formatted_date'],format='%Y-%b-%d')\n",
    "sa1['formatted_date']=sa1['formatted_date'].dt.strftime('%Y-%b')"
   ]
  },
  {
   "cell_type": "code",
   "execution_count": 83,
   "metadata": {},
   "outputs": [],
   "source": [
    "sa1['Gross Weight']=round((sa1['Gross Weight']/1000),1)"
   ]
  },
  {
   "cell_type": "code",
   "execution_count": 84,
   "metadata": {},
   "outputs": [],
   "source": [
    "sa1=sa1.drop(columns='date')"
   ]
  },
  {
   "cell_type": "code",
   "execution_count": 85,
   "metadata": {},
   "outputs": [
    {
     "data": {
      "text/html": [
       "<div>\n",
       "<style scoped>\n",
       "    .dataframe tbody tr th:only-of-type {\n",
       "        vertical-align: middle;\n",
       "    }\n",
       "\n",
       "    .dataframe tbody tr th {\n",
       "        vertical-align: top;\n",
       "    }\n",
       "\n",
       "    .dataframe thead th {\n",
       "        text-align: right;\n",
       "    }\n",
       "</style>\n",
       "<table border=\"1\" class=\"dataframe\">\n",
       "  <thead>\n",
       "    <tr style=\"text-align: right;\">\n",
       "      <th></th>\n",
       "      <th>formatted_date</th>\n",
       "      <th>Gross Weight</th>\n",
       "    </tr>\n",
       "  </thead>\n",
       "  <tbody>\n",
       "    <tr>\n",
       "      <th>92</th>\n",
       "      <td>2023-Sep</td>\n",
       "      <td>0.0</td>\n",
       "    </tr>\n",
       "    <tr>\n",
       "      <th>93</th>\n",
       "      <td>2023-Sep</td>\n",
       "      <td>0.0</td>\n",
       "    </tr>\n",
       "    <tr>\n",
       "      <th>94</th>\n",
       "      <td>2023-Sep</td>\n",
       "      <td>0.1</td>\n",
       "    </tr>\n",
       "    <tr>\n",
       "      <th>95</th>\n",
       "      <td>2023-Sep</td>\n",
       "      <td>0.3</td>\n",
       "    </tr>\n",
       "    <tr>\n",
       "      <th>96</th>\n",
       "      <td>2023-Sep</td>\n",
       "      <td>0.2</td>\n",
       "    </tr>\n",
       "    <tr>\n",
       "      <th>...</th>\n",
       "      <td>...</td>\n",
       "      <td>...</td>\n",
       "    </tr>\n",
       "    <tr>\n",
       "      <th>366</th>\n",
       "      <td>2024-Oct</td>\n",
       "      <td>3.2</td>\n",
       "    </tr>\n",
       "    <tr>\n",
       "      <th>367</th>\n",
       "      <td>2024-Oct</td>\n",
       "      <td>2.9</td>\n",
       "    </tr>\n",
       "    <tr>\n",
       "      <th>368</th>\n",
       "      <td>2024-Oct</td>\n",
       "      <td>3.5</td>\n",
       "    </tr>\n",
       "    <tr>\n",
       "      <th>369</th>\n",
       "      <td>2024-Oct</td>\n",
       "      <td>6.6</td>\n",
       "    </tr>\n",
       "    <tr>\n",
       "      <th>370</th>\n",
       "      <td>2024-Oct</td>\n",
       "      <td>0.4</td>\n",
       "    </tr>\n",
       "  </tbody>\n",
       "</table>\n",
       "<p>401 rows × 2 columns</p>\n",
       "</div>"
      ],
      "text/plain": [
       "    formatted_date  Gross Weight\n",
       "92        2023-Sep           0.0\n",
       "93        2023-Sep           0.0\n",
       "94        2023-Sep           0.1\n",
       "95        2023-Sep           0.3\n",
       "96        2023-Sep           0.2\n",
       "..             ...           ...\n",
       "366       2024-Oct           3.2\n",
       "367       2024-Oct           2.9\n",
       "368       2024-Oct           3.5\n",
       "369       2024-Oct           6.6\n",
       "370       2024-Oct           0.4\n",
       "\n",
       "[401 rows x 2 columns]"
      ]
     },
     "execution_count": 85,
     "metadata": {},
     "output_type": "execute_result"
    }
   ],
   "source": [
    "sa1"
   ]
  },
  {
   "cell_type": "code",
   "execution_count": 86,
   "metadata": {},
   "outputs": [
    {
     "name": "stderr",
     "output_type": "stream",
     "text": [
      "C:\\Users\\Dell\\AppData\\Local\\Temp\\ipykernel_52688\\189475106.py:2: UserWarning:\n",
      "\n",
      "Could not infer format, so each element will be parsed individually, falling back to `dateutil`. To ensure parsing is consistent and as-expected, please specify a format.\n",
      "\n"
     ]
    },
    {
     "data": {
      "text/html": [
       "<div>\n",
       "<style scoped>\n",
       "    .dataframe tbody tr th:only-of-type {\n",
       "        vertical-align: middle;\n",
       "    }\n",
       "\n",
       "    .dataframe tbody tr th {\n",
       "        vertical-align: top;\n",
       "    }\n",
       "\n",
       "    .dataframe thead th {\n",
       "        text-align: right;\n",
       "    }\n",
       "</style>\n",
       "<table border=\"1\" class=\"dataframe\">\n",
       "  <thead>\n",
       "    <tr style=\"text-align: right;\">\n",
       "      <th></th>\n",
       "      <th>formatted_date</th>\n",
       "      <th>Gross Weight</th>\n",
       "    </tr>\n",
       "  </thead>\n",
       "  <tbody>\n",
       "    <tr>\n",
       "      <th>3</th>\n",
       "      <td>2023-Sep</td>\n",
       "      <td>1.2</td>\n",
       "    </tr>\n",
       "    <tr>\n",
       "      <th>2</th>\n",
       "      <td>2023-Oct</td>\n",
       "      <td>46.5</td>\n",
       "    </tr>\n",
       "    <tr>\n",
       "      <th>1</th>\n",
       "      <td>2023-Nov</td>\n",
       "      <td>116.3</td>\n",
       "    </tr>\n",
       "    <tr>\n",
       "      <th>0</th>\n",
       "      <td>2023-Dec</td>\n",
       "      <td>56.6</td>\n",
       "    </tr>\n",
       "    <tr>\n",
       "      <th>7</th>\n",
       "      <td>2024-Jan</td>\n",
       "      <td>74.4</td>\n",
       "    </tr>\n",
       "    <tr>\n",
       "      <th>6</th>\n",
       "      <td>2024-Feb</td>\n",
       "      <td>77.2</td>\n",
       "    </tr>\n",
       "    <tr>\n",
       "      <th>10</th>\n",
       "      <td>2024-Mar</td>\n",
       "      <td>59.5</td>\n",
       "    </tr>\n",
       "    <tr>\n",
       "      <th>4</th>\n",
       "      <td>2024-Apr</td>\n",
       "      <td>88.6</td>\n",
       "    </tr>\n",
       "    <tr>\n",
       "      <th>11</th>\n",
       "      <td>2024-May</td>\n",
       "      <td>109.7</td>\n",
       "    </tr>\n",
       "    <tr>\n",
       "      <th>9</th>\n",
       "      <td>2024-Jun</td>\n",
       "      <td>67.9</td>\n",
       "    </tr>\n",
       "    <tr>\n",
       "      <th>8</th>\n",
       "      <td>2024-Jul</td>\n",
       "      <td>83.4</td>\n",
       "    </tr>\n",
       "    <tr>\n",
       "      <th>5</th>\n",
       "      <td>2024-Aug</td>\n",
       "      <td>105.4</td>\n",
       "    </tr>\n",
       "    <tr>\n",
       "      <th>13</th>\n",
       "      <td>2024-Sep</td>\n",
       "      <td>73.7</td>\n",
       "    </tr>\n",
       "    <tr>\n",
       "      <th>12</th>\n",
       "      <td>2024-Oct</td>\n",
       "      <td>90.3</td>\n",
       "    </tr>\n",
       "  </tbody>\n",
       "</table>\n",
       "</div>"
      ],
      "text/plain": [
       "   formatted_date  Gross Weight\n",
       "3        2023-Sep           1.2\n",
       "2        2023-Oct          46.5\n",
       "1        2023-Nov         116.3\n",
       "0        2023-Dec          56.6\n",
       "7        2024-Jan          74.4\n",
       "6        2024-Feb          77.2\n",
       "10       2024-Mar          59.5\n",
       "4        2024-Apr          88.6\n",
       "11       2024-May         109.7\n",
       "9        2024-Jun          67.9\n",
       "8        2024-Jul          83.4\n",
       "5        2024-Aug         105.4\n",
       "13       2024-Sep          73.7\n",
       "12       2024-Oct          90.3"
      ]
     },
     "execution_count": 86,
     "metadata": {},
     "output_type": "execute_result"
    }
   ],
   "source": [
    "sa2=sa1.groupby('formatted_date').sum().reset_index()\n",
    "sa2['formatted_date']=pd.to_datetime(sa2['formatted_date']).dt.to_period('M')\n",
    "sa2.sort_values('formatted_date',inplace=True)\n",
    "\n",
    "sa2['formatted_date'] = sa2['formatted_date'].dt.to_timestamp().dt.strftime('%Y-%b')\n",
    "sa2"
   ]
  },
  {
   "cell_type": "code",
   "execution_count": 87,
   "metadata": {},
   "outputs": [
    {
     "name": "stdout",
     "output_type": "stream",
     "text": [
      "<class 'pandas.core.frame.DataFrame'>\n",
      "Index: 401 entries, 92 to 370\n",
      "Data columns (total 2 columns):\n",
      " #   Column          Non-Null Count  Dtype  \n",
      "---  ------          --------------  -----  \n",
      " 0   formatted_date  401 non-null    object \n",
      " 1   Gross Weight    401 non-null    float64\n",
      "dtypes: float64(1), object(1)\n",
      "memory usage: 9.4+ KB\n"
     ]
    }
   ],
   "source": [
    "sa1.info()"
   ]
  },
  {
   "cell_type": "code",
   "execution_count": 88,
   "metadata": {},
   "outputs": [],
   "source": [
    "plt.style.use('fivethirtyeight')"
   ]
  },
  {
   "cell_type": "code",
   "execution_count": 89,
   "metadata": {},
   "outputs": [
    {
     "data": {
      "image/png": "[encoded data removed]",
      "text/plain": [
       "<Figure size 1000x800 with 1 Axes>"
      ]
     },
     "metadata": {},
     "output_type": "display_data"
    }
   ],
   "source": [
    "plt.figure(figsize=(10,8))\n",
    "plt.subplot(2,2,1)\n",
    "sns.lineplot(x='formatted_date',y='Gross Weight',data=sa2,marker='o',markersize=10,linestyle='-',color='blue',label='Gross Weight')\n",
    "plt.title('Gross Weight By Month')\n",
    "plt.legend(loc='lower right')\n",
    "plt.xlabel('Date')\n",
    "plt.xticks(rotation=90)\n",
    "plt.show()"
   ]
  },
  {
   "cell_type": "code",
   "execution_count": 90,
   "metadata": {},
   "outputs": [
    {
     "data": {
      "image/png": "[encoded data removed]",
      "text/plain": [
       "<Figure size 640x480 with 1 Axes>"
      ]
     },
     "metadata": {},
     "output_type": "display_data"
    }
   ],
   "source": [
    "import numpy as np\n",
    "import matplotlib.pyplot as plt\n",
    "from mpl_toolkits.mplot3d import Axes3D\n",
    "\n",
    "# Create sample data\n",
    "x = np.linspace(0, 10, 100)  # X values\n",
    "y = np.sin(x)                 # Y values\n",
    "z = np.cos(x)                 # Z values\n",
    "\n",
    "# Create a new figure for the 3D plot\n",
    "fig = plt.figure()\n",
    "ax = fig.add_subplot(111, projection='3d')\n",
    "\n",
    "# Plot the 3D line\n",
    "ax.plot(x, y, z, linestyle='-', color='b')\n",
    "\n",
    "# Set labels\n",
    "ax.set_xlabel('X Label')\n",
    "ax.set_ylabel('Y Label')\n",
    "ax.set_zlabel('Z Label')\n",
    "ax.set_title('3D Line Plot')\n",
    "\n",
    "# Show the plot\n",
    "plt.show()\n"
   ]
  },
  {
   "cell_type": "code",
   "execution_count": 91,
   "metadata": {},
   "outputs": [],
   "source": [
    "sa3=sales[['Gross Weight','Product']].groupby('Product').sum().reset_index()\n",
    "sa3['Gross Weight']=abs(round((sa3['Gross Weight']/1000),2))\n"
   ]
  },
  {
   "cell_type": "code",
   "execution_count": 92,
   "metadata": {},
   "outputs": [],
   "source": [
    "import plotly.express as px\n",
    "import plotly.graph_objects as go"
   ]
  },
  {
   "cell_type": "code",
   "execution_count": 93,
   "metadata": {},
   "outputs": [
    {
     "data": {
      "image/png": "[encoded data removed]",
      "text/plain": [
       "<Figure size 640x480 with 1 Axes>"
      ]
     },
     "metadata": {},
     "output_type": "display_data"
    }
   ],
   "source": [
    "plt.pie(sa3['Gross Weight'],labels=sa3['Product'],autopct='%1.1f%%', startangle=140, \n",
    "        wedgeprops={'width': 0.4}, pctdistance=0.85, labeldistance=1.1)\n",
    "plt.show()"
   ]
  },
  {
   "cell_type": "code",
   "execution_count": 94,
   "metadata": {},
   "outputs": [
    {
     "data": {
      "text/plain": [
       "''"
      ]
     },
     "execution_count": 94,
     "metadata": {},
     "output_type": "execute_result"
    }
   ],
   "source": [
    "fig2.data[0].name"
   ]
  },
  {
   "cell_type": "code",
   "execution_count": 100,
   "metadata": {},
   "outputs": [
    {
     "data": {
      "application/vnd.plotly.v1+json": {
       "config": {
        "plotlyServerURL": "https://plot.ly"
       },
       "data": [
        {
         "hovertemplate": "x=%{x}<br>y=%{y}<extra></extra>",
         "legendgroup": "",
         "line": {
          "color": "rgb(102, 197, 204)",
          "dash": "solid"
         },
         "marker": {
          "symbol": "circle"
         },
         "mode": "lines+markers",
         "name": "",
         "orientation": "v",
         "showlegend": false,
         "type": "scatter",
         "x": [
          "2023-Sep",
          "2023-Oct",
          "2023-Nov",
          "2023-Dec",
          "2024-Jan",
          "2024-Feb",
          "2024-Mar",
          "2024-Apr",
          "2024-May",
          "2024-Jun",
          "2024-Jul",
          "2024-Aug",
          "2024-Sep",
          "2024-Oct"
         ],
         "xaxis": "x",
         "y": [
          1.2,
          46.5,
          116.3,
          56.6,
          74.4,
          77.2,
          59.5,
          88.6,
          109.7,
          67.9,
          83.4,
          105.4,
          73.7,
          90.3
         ],
         "yaxis": "y"
        }
       ],
       "layout": {
        "height": 400,
        "legend": {
         "tracegroupgap": 0
        },
        "margin": {
         "t": 60
        },
        "showlegend": true,
        "template": {
         "data": {
          "bar": [
           {
            "error_x": {
             "color": "#2a3f5f"
            },
            "error_y": {
             "color": "#2a3f5f"
            },
            "marker": {
             "line": {
              "color": "#E5ECF6",
              "width": 0.5
             },
             "pattern": {
              "fillmode": "overlay",
              "size": 10,
              "solidity": 0.2
             }
            },
            "type": "bar"
           }
          ],
          "barpolar": [
           {
            "marker": {
             "line": {
              "color": "#E5ECF6",
              "width": 0.5
             },
             "pattern": {
              "fillmode": "overlay",
              "size": 10,
              "solidity": 0.2
             }
            },
            "type": "barpolar"
           }
          ],
          "carpet": [
           {
            "aaxis": {
             "endlinecolor": "#2a3f5f",
             "gridcolor": "white",
             "linecolor": "white",
             "minorgridcolor": "white",
             "startlinecolor": "#2a3f5f"
            },
            "baxis": {
             "endlinecolor": "#2a3f5f",
             "gridcolor": "white",
             "linecolor": "white",
             "minorgridcolor": "white",
             "startlinecolor": "#2a3f5f"
            },
            "type": "carpet"
           }
          ],
          "choropleth": [
           {
            "colorbar": {
             "outlinewidth": 0,
             "ticks": ""
            },
            "type": "choropleth"
           }
          ],
          "contour": [
           {
            "colorbar": {
             "outlinewidth": 0,
             "ticks": ""
            },
            "colorscale": [
             [
              0,
              "#0d0887"
             ],
             [
              0.1111111111111111,
              "#46039f"
             ],
             [
              0.2222222222222222,
              "#7201a8"
             ],
             [
              0.3333333333333333,
              "#9c179e"
             ],
             [
              0.4444444444444444,
              "#bd3786"
             ],
             [
              0.5555555555555556,
              "#d8576b"
             ],
             [
              0.6666666666666666,
              "#ed7953"
             ],
             [
              0.7777777777777778,
              "#fb9f3a"
             ],
             [
              0.8888888888888888,
              "#fdca26"
             ],
             [
              1,
              "#f0f921"
             ]
            ],
            "type": "contour"
           }
          ],
          "contourcarpet": [
           {
            "colorbar": {
             "outlinewidth": 0,
             "ticks": ""
            },
            "type": "contourcarpet"
           }
          ],
          "heatmap": [
           {
            "colorbar": {
             "outlinewidth": 0,
             "ticks": ""
            },
            "colorscale": [
             [
              0,
              "#0d0887"
             ],
             [
              0.1111111111111111,
              "#46039f"
             ],
             [
              0.2222222222222222,
              "#7201a8"
             ],
             [
              0.3333333333333333,
              "#9c179e"
             ],
             [
              0.4444444444444444,
              "#bd3786"
             ],
             [
              0.5555555555555556,
              "#d8576b"
             ],
             [
              0.6666666666666666,
              "#ed7953"
             ],
             [
              0.7777777777777778,
              "#fb9f3a"
             ],
             [
              0.8888888888888888,
              "#fdca26"
             ],
             [
              1,
              "#f0f921"
             ]
            ],
            "type": "heatmap"
           }
          ],
          "heatmapgl": [
           {
            "colorbar": {
             "outlinewidth": 0,
             "ticks": ""
            },
            "colorscale": [
             [
              0,
              "#0d0887"
             ],
             [
              0.1111111111111111,
              "#46039f"
             ],
             [
              0.2222222222222222,
              "#7201a8"
             ],
             [
              0.3333333333333333,
              "#9c179e"
             ],
             [
              0.4444444444444444,
              "#bd3786"
             ],
             [
              0.5555555555555556,
              "#d8576b"
             ],
             [
              0.6666666666666666,
              "#ed7953"
             ],
             [
              0.7777777777777778,
              "#fb9f3a"
             ],
             [
              0.8888888888888888,
              "#fdca26"
             ],
             [
              1,
              "#f0f921"
             ]
            ],
            "type": "heatmapgl"
           }
          ],
          "histogram": [
           {
            "marker": {
             "pattern": {
              "fillmode": "overlay",
              "size": 10,
              "solidity": 0.2
             }
            },
            "type": "histogram"
           }
          ],
          "histogram2d": [
           {
            "colorbar": {
             "outlinewidth": 0,
             "ticks": ""
            },
            "colorscale": [
             [
              0,
              "#0d0887"
             ],
             [
              0.1111111111111111,
              "#46039f"
             ],
             [
              0.2222222222222222,
              "#7201a8"
             ],
             [
              0.3333333333333333,
              "#9c179e"
             ],
             [
              0.4444444444444444,
              "#bd3786"
             ],
             [
              0.5555555555555556,
              "#d8576b"
             ],
             [
              0.6666666666666666,
              "#ed7953"
             ],
             [
              0.7777777777777778,
              "#fb9f3a"
             ],
             [
              0.8888888888888888,
              "#fdca26"
             ],
             [
              1,
              "#f0f921"
             ]
            ],
            "type": "histogram2d"
           }
          ],
          "histogram2dcontour": [
           {
            "colorbar": {
             "outlinewidth": 0,
             "ticks": ""
            },
            "colorscale": [
             [
              0,
              "#0d0887"
             ],
             [
              0.1111111111111111,
              "#46039f"
             ],
             [
              0.2222222222222222,
              "#7201a8"
             ],
             [
              0.3333333333333333,
              "#9c179e"
             ],
             [
              0.4444444444444444,
              "#bd3786"
             ],
             [
              0.5555555555555556,
              "#d8576b"
             ],
             [
              0.6666666666666666,
              "#ed7953"
             ],
             [
              0.7777777777777778,
              "#fb9f3a"
             ],
             [
              0.8888888888888888,
              "#fdca26"
             ],
             [
              1,
              "#f0f921"
             ]
            ],
            "type": "histogram2dcontour"
           }
          ],
          "mesh3d": [
           {
            "colorbar": {
             "outlinewidth": 0,
             "ticks": ""
            },
            "type": "mesh3d"
           }
          ],
          "parcoords": [
           {
            "line": {
             "colorbar": {
              "outlinewidth": 0,
              "ticks": ""
             }
            },
            "type": "parcoords"
           }
          ],
          "pie": [
           {
            "automargin": true,
            "type": "pie"
           }
          ],
          "scatter": [
           {
            "fillpattern": {
             "fillmode": "overlay",
             "size": 10,
             "solidity": 0.2
            },
            "type": "scatter"
           }
          ],
          "scatter3d": [
           {
            "line": {
             "colorbar": {
              "outlinewidth": 0,
              "ticks": ""
             }
            },
            "marker": {
             "colorbar": {
              "outlinewidth": 0,
              "ticks": ""
             }
            },
            "type": "scatter3d"
           }
          ],
          "scattercarpet": [
           {
            "marker": {
             "colorbar": {
              "outlinewidth": 0,
              "ticks": ""
             }
            },
            "type": "scattercarpet"
           }
          ],
          "scattergeo": [
           {
            "marker": {
             "colorbar": {
              "outlinewidth": 0,
              "ticks": ""
             }
            },
            "type": "scattergeo"
           }
          ],
          "scattergl": [
           {
            "marker": {
             "colorbar": {
              "outlinewidth": 0,
              "ticks": ""
             }
            },
            "type": "scattergl"
           }
          ],
          "scattermapbox": [
           {
            "marker": {
             "colorbar": {
              "outlinewidth": 0,
              "ticks": ""
             }
            },
            "type": "scattermapbox"
           }
          ],
          "scatterpolar": [
           {
            "marker": {
             "colorbar": {
              "outlinewidth": 0,
              "ticks": ""
             }
            },
            "type": "scatterpolar"
           }
          ],
          "scatterpolargl": [
           {
            "marker": {
             "colorbar": {
              "outlinewidth": 0,
              "ticks": ""
             }
            },
            "type": "scatterpolargl"
           }
          ],
          "scatterternary": [
           {
            "marker": {
             "colorbar": {
              "outlinewidth": 0,
              "ticks": ""
             }
            },
            "type": "scatterternary"
           }
          ],
          "surface": [
           {
            "colorbar": {
             "outlinewidth": 0,
             "ticks": ""
            },
            "colorscale": [
             [
              0,
              "#0d0887"
             ],
             [
              0.1111111111111111,
              "#46039f"
             ],
             [
              0.2222222222222222,
              "#7201a8"
             ],
             [
              0.3333333333333333,
              "#9c179e"
             ],
             [
              0.4444444444444444,
              "#bd3786"
             ],
             [
              0.5555555555555556,
              "#d8576b"
             ],
             [
              0.6666666666666666,
              "#ed7953"
             ],
             [
              0.7777777777777778,
              "#fb9f3a"
             ],
             [
              0.8888888888888888,
              "#fdca26"
             ],
             [
              1,
              "#f0f921"
             ]
            ],
            "type": "surface"
           }
          ],
          "table": [
           {
            "cells": {
             "fill": {
              "color": "#EBF0F8"
             },
             "line": {
              "color": "white"
             }
            },
            "header": {
             "fill": {
              "color": "#C8D4E3"
             },
             "line": {
              "color": "white"
             }
            },
            "type": "table"
           }
          ]
         },
         "layout": {
          "annotationdefaults": {
           "arrowcolor": "#2a3f5f",
           "arrowhead": 0,
           "arrowwidth": 1
          },
          "autotypenumbers": "strict",
          "coloraxis": {
           "colorbar": {
            "outlinewidth": 0,
            "ticks": ""
           }
          },
          "colorscale": {
           "diverging": [
            [
             0,
             "#8e0152"
            ],
            [
             0.1,
             "#c51b7d"
            ],
            [
             0.2,
             "#de77ae"
            ],
            [
             0.3,
             "#f1b6da"
            ],
            [
             0.4,
             "#fde0ef"
            ],
            [
             0.5,
             "#f7f7f7"
            ],
            [
             0.6,
             "#e6f5d0"
            ],
            [
             0.7,
             "#b8e186"
            ],
            [
             0.8,
             "#7fbc41"
            ],
            [
             0.9,
             "#4d9221"
            ],
            [
             1,
             "#276419"
            ]
           ],
           "sequential": [
            [
             0,
             "#0d0887"
            ],
            [
             0.1111111111111111,
             "#46039f"
            ],
            [
             0.2222222222222222,
             "#7201a8"
            ],
            [
             0.3333333333333333,
             "#9c179e"
            ],
            [
             0.4444444444444444,
             "#bd3786"
            ],
            [
             0.5555555555555556,
             "#d8576b"
            ],
            [
             0.6666666666666666,
             "#ed7953"
            ],
            [
             0.7777777777777778,
             "#fb9f3a"
            ],
            [
             0.8888888888888888,
             "#fdca26"
            ],
            [
             1,
             "#f0f921"
            ]
           ],
           "sequentialminus": [
            [
             0,
             "#0d0887"
            ],
            [
             0.1111111111111111,
             "#46039f"
            ],
            [
             0.2222222222222222,
             "#7201a8"
            ],
            [
             0.3333333333333333,
             "#9c179e"
            ],
            [
             0.4444444444444444,
             "#bd3786"
            ],
            [
             0.5555555555555556,
             "#d8576b"
            ],
            [
             0.6666666666666666,
             "#ed7953"
            ],
            [
             0.7777777777777778,
             "#fb9f3a"
            ],
            [
             0.8888888888888888,
             "#fdca26"
            ],
            [
             1,
             "#f0f921"
            ]
           ]
          },
          "colorway": [
           "#636efa",
           "#EF553B",
           "#00cc96",
           "#ab63fa",
           "#FFA15A",
           "#19d3f3",
           "#FF6692",
           "#B6E880",
           "#FF97FF",
           "#FECB52"
          ],
          "font": {
           "color": "#2a3f5f"
          },
          "geo": {
           "bgcolor": "white",
           "lakecolor": "white",
           "landcolor": "#E5ECF6",
           "showlakes": true,
           "showland": true,
           "subunitcolor": "white"
          },
          "hoverlabel": {
           "align": "left"
          },
          "hovermode": "closest",
          "mapbox": {
           "style": "light"
          },
          "paper_bgcolor": "white",
          "plot_bgcolor": "#E5ECF6",
          "polar": {
           "angularaxis": {
            "gridcolor": "white",
            "linecolor": "white",
            "ticks": ""
           },
           "bgcolor": "#E5ECF6",
           "radialaxis": {
            "gridcolor": "white",
            "linecolor": "white",
            "ticks": ""
           }
          },
          "scene": {
           "xaxis": {
            "backgroundcolor": "#E5ECF6",
            "gridcolor": "white",
            "gridwidth": 2,
            "linecolor": "white",
            "showbackground": true,
            "ticks": "",
            "zerolinecolor": "white"
           },
           "yaxis": {
            "backgroundcolor": "#E5ECF6",
            "gridcolor": "white",
            "gridwidth": 2,
            "linecolor": "white",
            "showbackground": true,
            "ticks": "",
            "zerolinecolor": "white"
           },
           "zaxis": {
            "backgroundcolor": "#E5ECF6",
            "gridcolor": "white",
            "gridwidth": 2,
            "linecolor": "white",
            "showbackground": true,
            "ticks": "",
            "zerolinecolor": "white"
           }
          },
          "shapedefaults": {
           "line": {
            "color": "#2a3f5f"
           }
          },
          "ternary": {
           "aaxis": {
            "gridcolor": "white",
            "linecolor": "white",
            "ticks": ""
           },
           "baxis": {
            "gridcolor": "white",
            "linecolor": "white",
            "ticks": ""
           },
           "bgcolor": "#E5ECF6",
           "caxis": {
            "gridcolor": "white",
            "linecolor": "white",
            "ticks": ""
           }
          },
          "title": {
           "x": 0.05
          },
          "xaxis": {
           "automargin": true,
           "gridcolor": "white",
           "linecolor": "white",
           "ticks": "",
           "title": {
            "standoff": 15
           },
           "zerolinecolor": "white",
           "zerolinewidth": 2
          },
          "yaxis": {
           "automargin": true,
           "gridcolor": "white",
           "linecolor": "white",
           "ticks": "",
           "title": {
            "standoff": 15
           },
           "zerolinecolor": "white",
           "zerolinewidth": 2
          }
         }
        },
        "title": {
         "text": "Gross Weight By Month"
        },
        "width": 800,
        "xaxis": {
         "anchor": "y",
         "domain": [
          0,
          1
         ],
         "title": {
          "text": "Formatted Date"
         }
        },
        "yaxis": {
         "anchor": "x",
         "domain": [
          0,
          1
         ],
         "title": {
          "text": "Gross Weight"
         }
        }
       }
      }
     },
     "metadata": {},
     "output_type": "display_data"
    }
   ],
   "source": [
    "fig2=px.line(x=sa2['formatted_date'],y=sa2['Gross Weight']\n",
    "             ,markers=True,color_discrete_sequence=px.colors.qualitative.Pastel\n",
    "             ,labels={'Gross Weight': 'Gross Weight'})\n",
    "# fig2=go.Figure()c\n",
    "\n",
    "fig2.update_layout(\n",
    "    title_text='Gross Weight By Month',\n",
    "    width=800,   # Set width of the figure\n",
    "    height=400,  # Set height of the figure\n",
    "    showlegend=True\n",
    ")\n",
    "\n",
    "# Add x and y axis titles (not directly applicable to pie charts, but can be used for other charts)\n",
    "fig2.update_xaxes(title_text='Formatted Date')  # X-axis title\n",
    "fig2.update_yaxes(title_text='Gross Weight') \n",
    "fig2.show()"
   ]
  },
  {
   "cell_type": "code",
   "execution_count": 98,
   "metadata": {},
   "outputs": [
    {
     "data": {
      "application/vnd.plotly.v1+json": {
       "config": {
        "plotlyServerURL": "https://plot.ly"
       },
       "data": [
        {
         "domain": {
          "x": [
           0,
           1
          ],
          "y": [
           0,
           1
          ]
         },
         "hole": 0.4,
         "hovertemplate": "label=%{label}<br>value=%{value}<extra></extra>",
         "labels": [
          "Anklet",
          "BANGLE",
          "Bangle",
          "Bars",
          "Bracelet",
          "Chain",
          "Chains",
          "Cufflink",
          "EARRING",
          "Earring",
          "Gents Bracelet",
          "Gents Ring",
          "Gold Coin",
          "Kada",
          "Ladies Bracelet",
          "Ladies Ring",
          "Loose Solitaire",
          "Mang Tikka",
          "Mangalsutra",
          "Mangtika",
          "Necklace",
          "Non-Openable",
          "Nosepin",
          "Nosewear",
          "Openable",
          "Others",
          "PENDANT",
          "Peg Head",
          "Pendant",
          "Pendant Earring",
          "Pendant Set",
          "Pendant set",
          "RING",
          "Ring",
          "Set Earring",
          "Set Necklace",
          "Silver Coin",
          "Tanmaniya",
          "Tanmaniya Chain",
          "Waist belt",
          "bajubandh",
          "chain",
          "earring",
          "pendant",
          "ring"
         ],
         "legendgroup": "",
         "name": "",
         "showlegend": true,
         "textinfo": "percent+label",
         "textposition": "inside",
         "type": "pie",
         "values": [
          0.05,
          0.01,
          52.8,
          0.05,
          62.54,
          70.22,
          0.04,
          0.01,
          0,
          40.58,
          0.03,
          0.05,
          28.77,
          0.06,
          0.08,
          0.1,
          0.36,
          0.19,
          35.3,
          0.01,
          13.73,
          0.03,
          0,
          1.38,
          0,
          0.01,
          0,
          0,
          4.11,
          19.76,
          18.58,
          0.02,
          0.12,
          108.98,
          44.67,
          193.2,
          427.44,
          0.06,
          0.24,
          0.15,
          0.02,
          0.11,
          0.01,
          0,
          0
         ]
        }
       ],
       "layout": {
        "legend": {
         "tracegroupgap": 0
        },
        "margin": {
         "t": 60
        },
        "piecolorway": [
         "rgb(102, 197, 204)",
         "rgb(246, 207, 113)",
         "rgb(248, 156, 116)",
         "rgb(220, 176, 242)",
         "rgb(135, 197, 95)",
         "rgb(158, 185, 243)",
         "rgb(254, 136, 177)",
         "rgb(201, 219, 116)",
         "rgb(139, 224, 164)",
         "rgb(180, 151, 231)",
         "rgb(179, 179, 179)"
        ],
        "template": {
         "data": {
          "bar": [
           {
            "error_x": {
             "color": "#2a3f5f"
            },
            "error_y": {
             "color": "#2a3f5f"
            },
            "marker": {
             "line": {
              "color": "#E5ECF6",
              "width": 0.5
             },
             "pattern": {
              "fillmode": "overlay",
              "size": 10,
              "solidity": 0.2
             }
            },
            "type": "bar"
           }
          ],
          "barpolar": [
           {
            "marker": {
             "line": {
              "color": "#E5ECF6",
              "width": 0.5
             },
             "pattern": {
              "fillmode": "overlay",
              "size": 10,
              "solidity": 0.2
             }
            },
            "type": "barpolar"
           }
          ],
          "carpet": [
           {
            "aaxis": {
             "endlinecolor": "#2a3f5f",
             "gridcolor": "white",
             "linecolor": "white",
             "minorgridcolor": "white",
             "startlinecolor": "#2a3f5f"
            },
            "baxis": {
             "endlinecolor": "#2a3f5f",
             "gridcolor": "white",
             "linecolor": "white",
             "minorgridcolor": "white",
             "startlinecolor": "#2a3f5f"
            },
            "type": "carpet"
           }
          ],
          "choropleth": [
           {
            "colorbar": {
             "outlinewidth": 0,
             "ticks": ""
            },
            "type": "choropleth"
           }
          ],
          "contour": [
           {
            "colorbar": {
             "outlinewidth": 0,
             "ticks": ""
            },
            "colorscale": [
             [
              0,
              "#0d0887"
             ],
             [
              0.1111111111111111,
              "#46039f"
             ],
             [
              0.2222222222222222,
              "#7201a8"
             ],
             [
              0.3333333333333333,
              "#9c179e"
             ],
             [
              0.4444444444444444,
              "#bd3786"
             ],
             [
              0.5555555555555556,
              "#d8576b"
             ],
             [
              0.6666666666666666,
              "#ed7953"
             ],
             [
              0.7777777777777778,
              "#fb9f3a"
             ],
             [
              0.8888888888888888,
              "#fdca26"
             ],
             [
              1,
              "#f0f921"
             ]
            ],
            "type": "contour"
           }
          ],
          "contourcarpet": [
           {
            "colorbar": {
             "outlinewidth": 0,
             "ticks": ""
            },
            "type": "contourcarpet"
           }
          ],
          "heatmap": [
           {
            "colorbar": {
             "outlinewidth": 0,
             "ticks": ""
            },
            "colorscale": [
             [
              0,
              "#0d0887"
             ],
             [
              0.1111111111111111,
              "#46039f"
             ],
             [
              0.2222222222222222,
              "#7201a8"
             ],
             [
              0.3333333333333333,
              "#9c179e"
             ],
             [
              0.4444444444444444,
              "#bd3786"
             ],
             [
              0.5555555555555556,
              "#d8576b"
             ],
             [
              0.6666666666666666,
              "#ed7953"
             ],
             [
              0.7777777777777778,
              "#fb9f3a"
             ],
             [
              0.8888888888888888,
              "#fdca26"
             ],
             [
              1,
              "#f0f921"
             ]
            ],
            "type": "heatmap"
           }
          ],
          "heatmapgl": [
           {
            "colorbar": {
             "outlinewidth": 0,
             "ticks": ""
            },
            "colorscale": [
             [
              0,
              "#0d0887"
             ],
             [
              0.1111111111111111,
              "#46039f"
             ],
             [
              0.2222222222222222,
              "#7201a8"
             ],
             [
              0.3333333333333333,
              "#9c179e"
             ],
             [
              0.4444444444444444,
              "#bd3786"
             ],
             [
              0.5555555555555556,
              "#d8576b"
             ],
             [
              0.6666666666666666,
              "#ed7953"
             ],
             [
              0.7777777777777778,
              "#fb9f3a"
             ],
             [
              0.8888888888888888,
              "#fdca26"
             ],
             [
              1,
              "#f0f921"
             ]
            ],
            "type": "heatmapgl"
           }
          ],
          "histogram": [
           {
            "marker": {
             "pattern": {
              "fillmode": "overlay",
              "size": 10,
              "solidity": 0.2
             }
            },
            "type": "histogram"
           }
          ],
          "histogram2d": [
           {
            "colorbar": {
             "outlinewidth": 0,
             "ticks": ""
            },
            "colorscale": [
             [
              0,
              "#0d0887"
             ],
             [
              0.1111111111111111,
              "#46039f"
             ],
             [
              0.2222222222222222,
              "#7201a8"
             ],
             [
              0.3333333333333333,
              "#9c179e"
             ],
             [
              0.4444444444444444,
              "#bd3786"
             ],
             [
              0.5555555555555556,
              "#d8576b"
             ],
             [
              0.6666666666666666,
              "#ed7953"
             ],
             [
              0.7777777777777778,
              "#fb9f3a"
             ],
             [
              0.8888888888888888,
              "#fdca26"
             ],
             [
              1,
              "#f0f921"
             ]
            ],
            "type": "histogram2d"
           }
          ],
          "histogram2dcontour": [
           {
            "colorbar": {
             "outlinewidth": 0,
             "ticks": ""
            },
            "colorscale": [
             [
              0,
              "#0d0887"
             ],
             [
              0.1111111111111111,
              "#46039f"
             ],
             [
              0.2222222222222222,
              "#7201a8"
             ],
             [
              0.3333333333333333,
              "#9c179e"
             ],
             [
              0.4444444444444444,
              "#bd3786"
             ],
             [
              0.5555555555555556,
              "#d8576b"
             ],
             [
              0.6666666666666666,
              "#ed7953"
             ],
             [
              0.7777777777777778,
              "#fb9f3a"
             ],
             [
              0.8888888888888888,
              "#fdca26"
             ],
             [
              1,
              "#f0f921"
             ]
            ],
            "type": "histogram2dcontour"
           }
          ],
          "mesh3d": [
           {
            "colorbar": {
             "outlinewidth": 0,
             "ticks": ""
            },
            "type": "mesh3d"
           }
          ],
          "parcoords": [
           {
            "line": {
             "colorbar": {
              "outlinewidth": 0,
              "ticks": ""
             }
            },
            "type": "parcoords"
           }
          ],
          "pie": [
           {
            "automargin": true,
            "type": "pie"
           }
          ],
          "scatter": [
           {
            "fillpattern": {
             "fillmode": "overlay",
             "size": 10,
             "solidity": 0.2
            },
            "type": "scatter"
           }
          ],
          "scatter3d": [
           {
            "line": {
             "colorbar": {
              "outlinewidth": 0,
              "ticks": ""
             }
            },
            "marker": {
             "colorbar": {
              "outlinewidth": 0,
              "ticks": ""
             }
            },
            "type": "scatter3d"
           }
          ],
          "scattercarpet": [
           {
            "marker": {
             "colorbar": {
              "outlinewidth": 0,
              "ticks": ""
             }
            },
            "type": "scattercarpet"
           }
          ],
          "scattergeo": [
           {
            "marker": {
             "colorbar": {
              "outlinewidth": 0,
              "ticks": ""
             }
            },
            "type": "scattergeo"
           }
          ],
          "scattergl": [
           {
            "marker": {
             "colorbar": {
              "outlinewidth": 0,
              "ticks": ""
             }
            },
            "type": "scattergl"
           }
          ],
          "scattermapbox": [
           {
            "marker": {
             "colorbar": {
              "outlinewidth": 0,
              "ticks": ""
             }
            },
            "type": "scattermapbox"
           }
          ],
          "scatterpolar": [
           {
            "marker": {
             "colorbar": {
              "outlinewidth": 0,
              "ticks": ""
             }
            },
            "type": "scatterpolar"
           }
          ],
          "scatterpolargl": [
           {
            "marker": {
             "colorbar": {
              "outlinewidth": 0,
              "ticks": ""
             }
            },
            "type": "scatterpolargl"
           }
          ],
          "scatterternary": [
           {
            "marker": {
             "colorbar": {
              "outlinewidth": 0,
              "ticks": ""
             }
            },
            "type": "scatterternary"
           }
          ],
          "surface": [
           {
            "colorbar": {
             "outlinewidth": 0,
             "ticks": ""
            },
            "colorscale": [
             [
              0,
              "#0d0887"
             ],
             [
              0.1111111111111111,
              "#46039f"
             ],
             [
              0.2222222222222222,
              "#7201a8"
             ],
             [
              0.3333333333333333,
              "#9c179e"
             ],
             [
              0.4444444444444444,
              "#bd3786"
             ],
             [
              0.5555555555555556,
              "#d8576b"
             ],
             [
              0.6666666666666666,
              "#ed7953"
             ],
             [
              0.7777777777777778,
              "#fb9f3a"
             ],
             [
              0.8888888888888888,
              "#fdca26"
             ],
             [
              1,
              "#f0f921"
             ]
            ],
            "type": "surface"
           }
          ],
          "table": [
           {
            "cells": {
             "fill": {
              "color": "#EBF0F8"
             },
             "line": {
              "color": "white"
             }
            },
            "header": {
             "fill": {
              "color": "#C8D4E3"
             },
             "line": {
              "color": "white"
             }
            },
            "type": "table"
           }
          ]
         },
         "layout": {
          "annotationdefaults": {
           "arrowcolor": "#2a3f5f",
           "arrowhead": 0,
           "arrowwidth": 1
          },
          "autotypenumbers": "strict",
          "coloraxis": {
           "colorbar": {
            "outlinewidth": 0,
            "ticks": ""
           }
          },
          "colorscale": {
           "diverging": [
            [
             0,
             "#8e0152"
            ],
            [
             0.1,
             "#c51b7d"
            ],
            [
             0.2,
             "#de77ae"
            ],
            [
             0.3,
             "#f1b6da"
            ],
            [
             0.4,
             "#fde0ef"
            ],
            [
             0.5,
             "#f7f7f7"
            ],
            [
             0.6,
             "#e6f5d0"
            ],
            [
             0.7,
             "#b8e186"
            ],
            [
             0.8,
             "#7fbc41"
            ],
            [
             0.9,
             "#4d9221"
            ],
            [
             1,
             "#276419"
            ]
           ],
           "sequential": [
            [
             0,
             "#0d0887"
            ],
            [
             0.1111111111111111,
             "#46039f"
            ],
            [
             0.2222222222222222,
             "#7201a8"
            ],
            [
             0.3333333333333333,
             "#9c179e"
            ],
            [
             0.4444444444444444,
             "#bd3786"
            ],
            [
             0.5555555555555556,
             "#d8576b"
            ],
            [
             0.6666666666666666,
             "#ed7953"
            ],
            [
             0.7777777777777778,
             "#fb9f3a"
            ],
            [
             0.8888888888888888,
             "#fdca26"
            ],
            [
             1,
             "#f0f921"
            ]
           ],
           "sequentialminus": [
            [
             0,
             "#0d0887"
            ],
            [
             0.1111111111111111,
             "#46039f"
            ],
            [
             0.2222222222222222,
             "#7201a8"
            ],
            [
             0.3333333333333333,
             "#9c179e"
            ],
            [
             0.4444444444444444,
             "#bd3786"
            ],
            [
             0.5555555555555556,
             "#d8576b"
            ],
            [
             0.6666666666666666,
             "#ed7953"
            ],
            [
             0.7777777777777778,
             "#fb9f3a"
            ],
            [
             0.8888888888888888,
             "#fdca26"
            ],
            [
             1,
             "#f0f921"
            ]
           ]
          },
          "colorway": [
           "#636efa",
           "#EF553B",
           "#00cc96",
           "#ab63fa",
           "#FFA15A",
           "#19d3f3",
           "#FF6692",
           "#B6E880",
           "#FF97FF",
           "#FECB52"
          ],
          "font": {
           "color": "#2a3f5f"
          },
          "geo": {
           "bgcolor": "white",
           "lakecolor": "white",
           "landcolor": "#E5ECF6",
           "showlakes": true,
           "showland": true,
           "subunitcolor": "white"
          },
          "hoverlabel": {
           "align": "left"
          },
          "hovermode": "closest",
          "mapbox": {
           "style": "light"
          },
          "paper_bgcolor": "white",
          "plot_bgcolor": "#E5ECF6",
          "polar": {
           "angularaxis": {
            "gridcolor": "white",
            "linecolor": "white",
            "ticks": ""
           },
           "bgcolor": "#E5ECF6",
           "radialaxis": {
            "gridcolor": "white",
            "linecolor": "white",
            "ticks": ""
           }
          },
          "scene": {
           "xaxis": {
            "backgroundcolor": "#E5ECF6",
            "gridcolor": "white",
            "gridwidth": 2,
            "linecolor": "white",
            "showbackground": true,
            "ticks": "",
            "zerolinecolor": "white"
           },
           "yaxis": {
            "backgroundcolor": "#E5ECF6",
            "gridcolor": "white",
            "gridwidth": 2,
            "linecolor": "white",
            "showbackground": true,
            "ticks": "",
            "zerolinecolor": "white"
           },
           "zaxis": {
            "backgroundcolor": "#E5ECF6",
            "gridcolor": "white",
            "gridwidth": 2,
            "linecolor": "white",
            "showbackground": true,
            "ticks": "",
            "zerolinecolor": "white"
           }
          },
          "shapedefaults": {
           "line": {
            "color": "#2a3f5f"
           }
          },
          "ternary": {
           "aaxis": {
            "gridcolor": "white",
            "linecolor": "white",
            "ticks": ""
           },
           "baxis": {
            "gridcolor": "white",
            "linecolor": "white",
            "ticks": ""
           },
           "bgcolor": "#E5ECF6",
           "caxis": {
            "gridcolor": "white",
            "linecolor": "white",
            "ticks": ""
           }
          },
          "title": {
           "x": 0.05
          },
          "xaxis": {
           "automargin": true,
           "gridcolor": "white",
           "linecolor": "white",
           "ticks": "",
           "title": {
            "standoff": 15
           },
           "zerolinecolor": "white",
           "zerolinewidth": 2
          },
          "yaxis": {
           "automargin": true,
           "gridcolor": "white",
           "linecolor": "white",
           "ticks": "",
           "title": {
            "standoff": 15
           },
           "zerolinecolor": "white",
           "zerolinewidth": 2
          }
         }
        },
        "title": {
         "text": "Gross Weight By Product Category"
        }
       }
      }
     },
     "metadata": {},
     "output_type": "display_data"
    }
   ],
   "source": [
    "fig=px.pie(names=sa3['Product'],values=sa3['Gross Weight'],hole=0.4,color_discrete_sequence=px.colors.qualitative.Pastel)\n",
    "fig.update_traces(textposition='inside', textinfo='percent+label')  # Customize labels inside the chart\n",
    "fig.update_layout(title_text='Gross Weight By Product Category')\n",
    "\n",
    "\n",
    "fig.show()"
   ]
  },
  {
   "cell_type": "code",
   "execution_count": 104,
   "metadata": {},
   "outputs": [
    {
     "data": {
      "application/vnd.plotly.v1+json": {
       "config": {
        "plotlyServerURL": "https://plot.ly"
       },
       "data": [
        {
         "hovertemplate": "Category=Gross Weight A<br>formatted_date=%{x}<br>Weight=%{y}<extra></extra>",
         "legendgroup": "Gross Weight A",
         "line": {
          "color": "#636efa",
          "dash": "solid"
         },
         "marker": {
          "symbol": "circle"
         },
         "mode": "lines+markers",
         "name": "Gross Weight A",
         "orientation": "v",
         "showlegend": true,
         "type": "scatter",
         "x": [
          "2024-Jan",
          "2024-Feb",
          "2024-Mar",
          "2024-Apr",
          "2024-May"
         ],
         "xaxis": "x",
         "y": [
          10,
          15,
          12,
          20,
          25
         ],
         "yaxis": "y"
        },
        {
         "hovertemplate": "Category=Gross Weight B<br>formatted_date=%{x}<br>Weight=%{y}<extra></extra>",
         "legendgroup": "Gross Weight B",
         "line": {
          "color": "#EF553B",
          "dash": "solid"
         },
         "marker": {
          "symbol": "circle"
         },
         "mode": "lines+markers",
         "name": "Gross Weight B",
         "orientation": "v",
         "showlegend": true,
         "type": "scatter",
         "x": [
          "2024-Jan",
          "2024-Feb",
          "2024-Mar",
          "2024-Apr",
          "2024-May"
         ],
         "xaxis": "x",
         "y": [
          5,
          10,
          15,
          12,
          20
         ],
         "yaxis": "y"
        }
       ],
       "layout": {
        "height": 400,
        "legend": {
         "title": {
          "text": "Category"
         },
         "tracegroupgap": 0
        },
        "margin": {
         "t": 60
        },
        "template": {
         "data": {
          "bar": [
           {
            "error_x": {
             "color": "#2a3f5f"
            },
            "error_y": {
             "color": "#2a3f5f"
            },
            "marker": {
             "line": {
              "color": "#E5ECF6",
              "width": 0.5
             },
             "pattern": {
              "fillmode": "overlay",
              "size": 10,
              "solidity": 0.2
             }
            },
            "type": "bar"
           }
          ],
          "barpolar": [
           {
            "marker": {
             "line": {
              "color": "#E5ECF6",
              "width": 0.5
             },
             "pattern": {
              "fillmode": "overlay",
              "size": 10,
              "solidity": 0.2
             }
            },
            "type": "barpolar"
           }
          ],
          "carpet": [
           {
            "aaxis": {
             "endlinecolor": "#2a3f5f",
             "gridcolor": "white",
             "linecolor": "white",
             "minorgridcolor": "white",
             "startlinecolor": "#2a3f5f"
            },
            "baxis": {
             "endlinecolor": "#2a3f5f",
             "gridcolor": "white",
             "linecolor": "white",
             "minorgridcolor": "white",
             "startlinecolor": "#2a3f5f"
            },
            "type": "carpet"
           }
          ],
          "choropleth": [
           {
            "colorbar": {
             "outlinewidth": 0,
             "ticks": ""
            },
            "type": "choropleth"
           }
          ],
          "contour": [
           {
            "colorbar": {
             "outlinewidth": 0,
             "ticks": ""
            },
            "colorscale": [
             [
              0,
              "#0d0887"
             ],
             [
              0.1111111111111111,
              "#46039f"
             ],
             [
              0.2222222222222222,
              "#7201a8"
             ],
             [
              0.3333333333333333,
              "#9c179e"
             ],
             [
              0.4444444444444444,
              "#bd3786"
             ],
             [
              0.5555555555555556,
              "#d8576b"
             ],
             [
              0.6666666666666666,
              "#ed7953"
             ],
             [
              0.7777777777777778,
              "#fb9f3a"
             ],
             [
              0.8888888888888888,
              "#fdca26"
             ],
             [
              1,
              "#f0f921"
             ]
            ],
            "type": "contour"
           }
          ],
          "contourcarpet": [
           {
            "colorbar": {
             "outlinewidth": 0,
             "ticks": ""
            },
            "type": "contourcarpet"
           }
          ],
          "heatmap": [
           {
            "colorbar": {
             "outlinewidth": 0,
             "ticks": ""
            },
            "colorscale": [
             [
              0,
              "#0d0887"
             ],
             [
              0.1111111111111111,
              "#46039f"
             ],
             [
              0.2222222222222222,
              "#7201a8"
             ],
             [
              0.3333333333333333,
              "#9c179e"
             ],
             [
              0.4444444444444444,
              "#bd3786"
             ],
             [
              0.5555555555555556,
              "#d8576b"
             ],
             [
              0.6666666666666666,
              "#ed7953"
             ],
             [
              0.7777777777777778,
              "#fb9f3a"
             ],
             [
              0.8888888888888888,
              "#fdca26"
             ],
             [
              1,
              "#f0f921"
             ]
            ],
            "type": "heatmap"
           }
          ],
          "heatmapgl": [
           {
            "colorbar": {
             "outlinewidth": 0,
             "ticks": ""
            },
            "colorscale": [
             [
              0,
              "#0d0887"
             ],
             [
              0.1111111111111111,
              "#46039f"
             ],
             [
              0.2222222222222222,
              "#7201a8"
             ],
             [
              0.3333333333333333,
              "#9c179e"
             ],
             [
              0.4444444444444444,
              "#bd3786"
             ],
             [
              0.5555555555555556,
              "#d8576b"
             ],
             [
              0.6666666666666666,
              "#ed7953"
             ],
             [
              0.7777777777777778,
              "#fb9f3a"
             ],
             [
              0.8888888888888888,
              "#fdca26"
             ],
             [
              1,
              "#f0f921"
             ]
            ],
            "type": "heatmapgl"
           }
          ],
          "histogram": [
           {
            "marker": {
             "pattern": {
              "fillmode": "overlay",
              "size": 10,
              "solidity": 0.2
             }
            },
            "type": "histogram"
           }
          ],
          "histogram2d": [
           {
            "colorbar": {
             "outlinewidth": 0,
             "ticks": ""
            },
            "colorscale": [
             [
              0,
              "#0d0887"
             ],
             [
              0.1111111111111111,
              "#46039f"
             ],
             [
              0.2222222222222222,
              "#7201a8"
             ],
             [
              0.3333333333333333,
              "#9c179e"
             ],
             [
              0.4444444444444444,
              "#bd3786"
             ],
             [
              0.5555555555555556,
              "#d8576b"
             ],
             [
              0.6666666666666666,
              "#ed7953"
             ],
             [
              0.7777777777777778,
              "#fb9f3a"
             ],
             [
              0.8888888888888888,
              "#fdca26"
             ],
             [
              1,
              "#f0f921"
             ]
            ],
            "type": "histogram2d"
           }
          ],
          "histogram2dcontour": [
           {
            "colorbar": {
             "outlinewidth": 0,
             "ticks": ""
            },
            "colorscale": [
             [
              0,
              "#0d0887"
             ],
             [
              0.1111111111111111,
              "#46039f"
             ],
             [
              0.2222222222222222,
              "#7201a8"
             ],
             [
              0.3333333333333333,
              "#9c179e"
             ],
             [
              0.4444444444444444,
              "#bd3786"
             ],
             [
              0.5555555555555556,
              "#d8576b"
             ],
             [
              0.6666666666666666,
              "#ed7953"
             ],
             [
              0.7777777777777778,
              "#fb9f3a"
             ],
             [
              0.8888888888888888,
              "#fdca26"
             ],
             [
              1,
              "#f0f921"
             ]
            ],
            "type": "histogram2dcontour"
           }
          ],
          "mesh3d": [
           {
            "colorbar": {
             "outlinewidth": 0,
             "ticks": ""
            },
            "type": "mesh3d"
           }
          ],
          "parcoords": [
           {
            "line": {
             "colorbar": {
              "outlinewidth": 0,
              "ticks": ""
             }
            },
            "type": "parcoords"
           }
          ],
          "pie": [
           {
            "automargin": true,
            "type": "pie"
           }
          ],
          "scatter": [
           {
            "fillpattern": {
             "fillmode": "overlay",
             "size": 10,
             "solidity": 0.2
            },
            "type": "scatter"
           }
          ],
          "scatter3d": [
           {
            "line": {
             "colorbar": {
              "outlinewidth": 0,
              "ticks": ""
             }
            },
            "marker": {
             "colorbar": {
              "outlinewidth": 0,
              "ticks": ""
             }
            },
            "type": "scatter3d"
           }
          ],
          "scattercarpet": [
           {
            "marker": {
             "colorbar": {
              "outlinewidth": 0,
              "ticks": ""
             }
            },
            "type": "scattercarpet"
           }
          ],
          "scattergeo": [
           {
            "marker": {
             "colorbar": {
              "outlinewidth": 0,
              "ticks": ""
             }
            },
            "type": "scattergeo"
           }
          ],
          "scattergl": [
           {
            "marker": {
             "colorbar": {
              "outlinewidth": 0,
              "ticks": ""
             }
            },
            "type": "scattergl"
           }
          ],
          "scattermapbox": [
           {
            "marker": {
             "colorbar": {
              "outlinewidth": 0,
              "ticks": ""
             }
            },
            "type": "scattermapbox"
           }
          ],
          "scatterpolar": [
           {
            "marker": {
             "colorbar": {
              "outlinewidth": 0,
              "ticks": ""
             }
            },
            "type": "scatterpolar"
           }
          ],
          "scatterpolargl": [
           {
            "marker": {
             "colorbar": {
              "outlinewidth": 0,
              "ticks": ""
             }
            },
            "type": "scatterpolargl"
           }
          ],
          "scatterternary": [
           {
            "marker": {
             "colorbar": {
              "outlinewidth": 0,
              "ticks": ""
             }
            },
            "type": "scatterternary"
           }
          ],
          "surface": [
           {
            "colorbar": {
             "outlinewidth": 0,
             "ticks": ""
            },
            "colorscale": [
             [
              0,
              "#0d0887"
             ],
             [
              0.1111111111111111,
              "#46039f"
             ],
             [
              0.2222222222222222,
              "#7201a8"
             ],
             [
              0.3333333333333333,
              "#9c179e"
             ],
             [
              0.4444444444444444,
              "#bd3786"
             ],
             [
              0.5555555555555556,
              "#d8576b"
             ],
             [
              0.6666666666666666,
              "#ed7953"
             ],
             [
              0.7777777777777778,
              "#fb9f3a"
             ],
             [
              0.8888888888888888,
              "#fdca26"
             ],
             [
              1,
              "#f0f921"
             ]
            ],
            "type": "surface"
           }
          ],
          "table": [
           {
            "cells": {
             "fill": {
              "color": "#EBF0F8"
             },
             "line": {
              "color": "white"
             }
            },
            "header": {
             "fill": {
              "color": "#C8D4E3"
             },
             "line": {
              "color": "white"
             }
            },
            "type": "table"
           }
          ]
         },
         "layout": {
          "annotationdefaults": {
           "arrowcolor": "#2a3f5f",
           "arrowhead": 0,
           "arrowwidth": 1
          },
          "autotypenumbers": "strict",
          "coloraxis": {
           "colorbar": {
            "outlinewidth": 0,
            "ticks": ""
           }
          },
          "colorscale": {
           "diverging": [
            [
             0,
             "#8e0152"
            ],
            [
             0.1,
             "#c51b7d"
            ],
            [
             0.2,
             "#de77ae"
            ],
            [
             0.3,
             "#f1b6da"
            ],
            [
             0.4,
             "#fde0ef"
            ],
            [
             0.5,
             "#f7f7f7"
            ],
            [
             0.6,
             "#e6f5d0"
            ],
            [
             0.7,
             "#b8e186"
            ],
            [
             0.8,
             "#7fbc41"
            ],
            [
             0.9,
             "#4d9221"
            ],
            [
             1,
             "#276419"
            ]
           ],
           "sequential": [
            [
             0,
             "#0d0887"
            ],
            [
             0.1111111111111111,
             "#46039f"
            ],
            [
             0.2222222222222222,
             "#7201a8"
            ],
            [
             0.3333333333333333,
             "#9c179e"
            ],
            [
             0.4444444444444444,
             "#bd3786"
            ],
            [
             0.5555555555555556,
             "#d8576b"
            ],
            [
             0.6666666666666666,
             "#ed7953"
            ],
            [
             0.7777777777777778,
             "#fb9f3a"
            ],
            [
             0.8888888888888888,
             "#fdca26"
            ],
            [
             1,
             "#f0f921"
            ]
           ],
           "sequentialminus": [
            [
             0,
             "#0d0887"
            ],
            [
             0.1111111111111111,
             "#46039f"
            ],
            [
             0.2222222222222222,
             "#7201a8"
            ],
            [
             0.3333333333333333,
             "#9c179e"
            ],
            [
             0.4444444444444444,
             "#bd3786"
            ],
            [
             0.5555555555555556,
             "#d8576b"
            ],
            [
             0.6666666666666666,
             "#ed7953"
            ],
            [
             0.7777777777777778,
             "#fb9f3a"
            ],
            [
             0.8888888888888888,
             "#fdca26"
            ],
            [
             1,
             "#f0f921"
            ]
           ]
          },
          "colorway": [
           "#636efa",
           "#EF553B",
           "#00cc96",
           "#ab63fa",
           "#FFA15A",
           "#19d3f3",
           "#FF6692",
           "#B6E880",
           "#FF97FF",
           "#FECB52"
          ],
          "font": {
           "color": "#2a3f5f"
          },
          "geo": {
           "bgcolor": "white",
           "lakecolor": "white",
           "landcolor": "#E5ECF6",
           "showlakes": true,
           "showland": true,
           "subunitcolor": "white"
          },
          "hoverlabel": {
           "align": "left"
          },
          "hovermode": "closest",
          "mapbox": {
           "style": "light"
          },
          "paper_bgcolor": "white",
          "plot_bgcolor": "#E5ECF6",
          "polar": {
           "angularaxis": {
            "gridcolor": "white",
            "linecolor": "white",
            "ticks": ""
           },
           "bgcolor": "#E5ECF6",
           "radialaxis": {
            "gridcolor": "white",
            "linecolor": "white",
            "ticks": ""
           }
          },
          "scene": {
           "xaxis": {
            "backgroundcolor": "#E5ECF6",
            "gridcolor": "white",
            "gridwidth": 2,
            "linecolor": "white",
            "showbackground": true,
            "ticks": "",
            "zerolinecolor": "white"
           },
           "yaxis": {
            "backgroundcolor": "#E5ECF6",
            "gridcolor": "white",
            "gridwidth": 2,
            "linecolor": "white",
            "showbackground": true,
            "ticks": "",
            "zerolinecolor": "white"
           },
           "zaxis": {
            "backgroundcolor": "#E5ECF6",
            "gridcolor": "white",
            "gridwidth": 2,
            "linecolor": "white",
            "showbackground": true,
            "ticks": "",
            "zerolinecolor": "white"
           }
          },
          "shapedefaults": {
           "line": {
            "color": "#2a3f5f"
           }
          },
          "ternary": {
           "aaxis": {
            "gridcolor": "white",
            "linecolor": "white",
            "ticks": ""
           },
           "baxis": {
            "gridcolor": "white",
            "linecolor": "white",
            "ticks": ""
           },
           "bgcolor": "#E5ECF6",
           "caxis": {
            "gridcolor": "white",
            "linecolor": "white",
            "ticks": ""
           }
          },
          "title": {
           "x": 0.05
          },
          "xaxis": {
           "automargin": true,
           "gridcolor": "white",
           "linecolor": "white",
           "ticks": "",
           "title": {
            "standoff": 15
           },
           "zerolinecolor": "white",
           "zerolinewidth": 2
          },
          "yaxis": {
           "automargin": true,
           "gridcolor": "white",
           "linecolor": "white",
           "ticks": "",
           "title": {
            "standoff": 15
           },
           "zerolinecolor": "white",
           "zerolinewidth": 2
          }
         }
        },
        "title": {
         "text": "Gross Weight By Month"
        },
        "width": 800,
        "xaxis": {
         "anchor": "y",
         "domain": [
          0,
          1
         ],
         "title": {
          "text": "Formatted Date"
         }
        },
        "yaxis": {
         "anchor": "x",
         "domain": [
          0,
          1
         ],
         "title": {
          "text": "Gross Weight"
         }
        }
       }
      }
     },
     "metadata": {},
     "output_type": "display_data"
    }
   ],
   "source": [
    "import plotly.express as px\n",
    "import pandas as pd\n",
    "\n",
    "# Sample data creation for demonstration\n",
    "data = {\n",
    "    'formatted_date': ['2024-Jan', '2024-Feb', '2024-Mar', '2024-Apr', '2024-May'],\n",
    "    'Gross Weight A': [10, 15, 12, 20, 25],\n",
    "    'Gross Weight B': [5, 10, 15, 12, 20]\n",
    "}\n",
    "sa2 = pd.DataFrame(data)\n",
    "\n",
    "# Melt the DataFrame for better compatibility with Plotly Express\n",
    "sa2_melted = sa2.melt(id_vars='formatted_date', value_vars=['Gross Weight A', 'Gross Weight B'],\n",
    "                      var_name='Category', value_name='Weight')\n",
    "\n",
    "# Create a line plot\n",
    "fig2 = px.line(\n",
    "    sa2_melted, \n",
    "    x='formatted_date', \n",
    "    y='Weight', \n",
    "    color='Category',  # This will create separate lines for each category\n",
    "    markers=True\n",
    ")\n",
    "\n",
    "# Update layout\n",
    "fig2.update_layout(\n",
    "    title_text='Gross Weight By Month',\n",
    "    width=800,\n",
    "    height=400,\n",
    ")\n",
    "\n",
    "# Set x and y axis titles\n",
    "fig2.update_xaxes(title_text='Formatted Date')\n",
    "fig2.update_yaxes(title_text='Gross Weight')\n",
    "\n",
    "# Show the figure\n",
    "fig2.show()\n"
   ]
  }
 ],
 "metadata": {
  "kernelspec": {
   "display_name": "Python 3",
   "language": "python",
   "name": "python3"
  },
  "language_info": {
   "codemirror_mode": {
    "name": "ipython",
    "version": 3
   },
   "file_extension": ".py",
   "mimetype": "text/x-python",
   "name": "python",
   "nbconvert_exporter": "python",
   "pygments_lexer": "ipython3",
   "version": "3.9.13"
  }
 },
 "nbformat": 4,
 "nbformat_minor": 2
}
