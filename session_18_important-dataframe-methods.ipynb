{
 "cells": [
  {
   "cell_type": "markdown",
   "metadata": {},
   "source": [
    "## More important functions"
   ]
  },
  {
   "cell_type": "code",
   "execution_count": 4,
   "metadata": {},
   "outputs": [],
   "source": [
    "# value_counts\n",
    "# sort_values\n",
    "# rank\n",
    "# sort_index\n",
    "# set_index\n",
    "# rename_index\n",
    "# reset_index\n",
    "# unique & nunique\n",
    "# isnull/notnull/hasnans\n",
    "# dropna\n",
    "# fillna\n",
    "# drop_duplicates\n",
    "# drop\n",
    "# apply\n",
    "# isin\n",
    "# cor\n",
    "# nlargest -> nsmallest\n",
    "# insert\n",
    "# copy"
   ]
  },
  {
   "cell_type": "code",
   "execution_count": 4,
   "metadata": {},
   "outputs": [],
   "source": [
    "import numpy as np\n",
    "import pandas as pd"
   ]
  },
  {
   "cell_type": "code",
   "execution_count": null,
   "metadata": {},
   "outputs": [],
   "source": [
    "a=pd.Series([2,1,1,13,4])\n",
    "a.value_counts()"
   ]
  },
  {
   "cell_type": "code",
   "execution_count": null,
   "metadata": {},
   "outputs": [],
   "source": [
    "# value_counts: Series and DataFrame\n",
    "\n",
    "marks=pd.DataFrame(\n",
    "    [\n",
    "        [100,80,10],\n",
    "        [90,70,7],\n",
    "        [120,100,14],\n",
    "        [80,70,14],\n",
    "        [80,70,14]\n",
    "    ],columns=['iq','marks','package']\n",
    ")\n",
    "marks"
   ]
  },
  {
   "cell_type": "code",
   "execution_count": null,
   "metadata": {},
   "outputs": [],
   "source": [
    "marks.value_counts()"
   ]
  },
  {
   "cell_type": "code",
   "execution_count": null,
   "metadata": {},
   "outputs": [],
   "source": [
    "marks.iloc[0:2,0:2]"
   ]
  },
  {
   "cell_type": "code",
   "execution_count": null,
   "metadata": {},
   "outputs": [],
   "source": [
    "ipl=pd.read_csv(r'D:\\GdriveBackup\\0.Projects\\Mock Projects\\DE\\Python\\ipl-matches.csv')\n",
    "movies=pd.read_csv(r'D:\\GdriveBackup\\0.Projects\\Mock Projects\\DE\\Python\\movies.csv')\n",
    "ipl.sample()"
   ]
  },
  {
   "cell_type": "code",
   "execution_count": null,
   "metadata": {},
   "outputs": [],
   "source": [
    "# find which player has most potm awards in critical matches\n",
    "ipl[~ipl['MatchNumber'].str.isdigit()]['Player_of_Match'].value_counts()"
   ]
  },
  {
   "cell_type": "code",
   "execution_count": null,
   "metadata": {},
   "outputs": [],
   "source": [
    "# toss decision plot\n",
    "\n",
    "ipl['TossDecision'].value_counts().plot(kind='pie')"
   ]
  },
  {
   "cell_type": "code",
   "execution_count": null,
   "metadata": {},
   "outputs": [],
   "source": [
    "# how many matches each team has played\n",
    "a=ipl['Team1'].value_counts()+ipl['Team2'].value_counts()\n",
    "a"
   ]
  },
  {
   "cell_type": "code",
   "execution_count": null,
   "metadata": {},
   "outputs": [],
   "source": [
    "# sort_values (Series and Dataframes)-> ascending -> na_position -> inplace -> multiple cols\n",
    "\n",
    "x=pd.Series([1,57,223,9422]).sort_values(ascending=False)\n",
    "x"
   ]
  },
  {
   "cell_type": "code",
   "execution_count": null,
   "metadata": {},
   "outputs": [],
   "source": [
    "movies.sort_values('title_x',ascending=False)"
   ]
  },
  {
   "cell_type": "code",
   "execution_count": null,
   "metadata": {},
   "outputs": [],
   "source": [
    "students=pd.DataFrame({\n",
    "'name': ['nitish', 'ankit', 'rupesh', np.nan, 'mrityunjay', np.nan, 'rishabh', np.nan, 'aditya', np.nan],\n",
    "'college': ['bit', 'iit', 'vit', np.nan, np.nan, 'vlsi', 'ssit', np.nan, np.nan, 'git'],\n",
    "'branch': ['eee', 'it', 'cse', np.nan, 'me', 'ce', 'civ', 'cse', 'bio', np.nan],\n",
    "'cgpa': [6.66,8.25,6.41, np.nan, 5.6,9.0, 7.4,10,7.4, np.nan],\n",
    "'package': [4,5,6, np.nan,6,7,8,9, np.nan, np.nan]\n",
    "})\n",
    "students"
   ]
  },
  {
   "cell_type": "code",
   "execution_count": null,
   "metadata": {},
   "outputs": [],
   "source": [
    "students.sort_values('name',na_position='first',ascending=False)"
   ]
  },
  {
   "cell_type": "code",
   "execution_count": null,
   "metadata": {},
   "outputs": [],
   "source": [
    "movies.sort_values(['year_of_release','title_x'],ascending=[True,False])"
   ]
  },
  {
   "cell_type": "code",
   "execution_count": null,
   "metadata": {},
   "outputs": [],
   "source": [
    "movies[movies['year_of_release']==2001]"
   ]
  },
  {
   "cell_type": "code",
   "execution_count": null,
   "metadata": {},
   "outputs": [],
   "source": [
    "# rank(series)\n",
    "batter=pd.read_csv(r'D:\\GdriveBackup\\0.Projects\\Mock Projects\\DE\\Python\\batsman_runs_ipl.csv')\n",
    "batter['rank']=batter['batsman_run'].rank(ascending=False)\n",
    "batter.sort_values('rank')"
   ]
  },
  {
   "cell_type": "code",
   "execution_count": null,
   "metadata": {},
   "outputs": [],
   "source": [
    "batter.sort_values('batsman_run',ascending=False)\n",
    "# batter=batter.drop(columns='rank')\n"
   ]
  },
  {
   "cell_type": "code",
   "execution_count": null,
   "metadata": {},
   "outputs": [],
   "source": [
    "# sort_index\n",
    "\n",
    "marks = {\n",
    "'maths' :67,\n",
    "'english':57,\n",
    "'science':89,\n",
    "'hindi':100\n",
    "}\n",
    "marks_series = pd. Series (marks,name='scores')\n",
    "marks_series"
   ]
  },
  {
   "cell_type": "code",
   "execution_count": null,
   "metadata": {},
   "outputs": [],
   "source": [
    "marks_series.sort_index(ascending=False)"
   ]
  },
  {
   "cell_type": "code",
   "execution_count": null,
   "metadata": {},
   "outputs": [],
   "source": [
    "movies.sort_index(ascending=False)"
   ]
  },
  {
   "cell_type": "code",
   "execution_count": null,
   "metadata": {},
   "outputs": [],
   "source": [
    "ipl[['MatchNumber','ID']]"
   ]
  },
  {
   "cell_type": "code",
   "execution_count": 118,
   "metadata": {},
   "outputs": [],
   "source": [
    "# set_index() -> inplace\n",
    "\n",
    "batter.set_index('batter',inplace=True)"
   ]
  },
  {
   "cell_type": "code",
   "execution_count": null,
   "metadata": {},
   "outputs": [],
   "source": [
    "# reset_index(series,dataframe) -> drop parameter\n",
    "\n",
    "batter.reset_index(inplace=False)\n",
    "batter"
   ]
  },
  {
   "cell_type": "code",
   "execution_count": null,
   "metadata": {},
   "outputs": [],
   "source": [
    "# series to dataframe using reset index\n",
    "marks_series.reset_index()"
   ]
  },
  {
   "cell_type": "code",
   "execution_count": 131,
   "metadata": {},
   "outputs": [],
   "source": [
    "# rename(dataframe) -> index\n",
    "\n",
    "# movies.set_index('title_x',inplace=True)\n",
    "movies.rename(columns={'imdb_id':'imdb','poster_path':'link'},inplace=True)"
   ]
  },
  {
   "cell_type": "code",
   "execution_count": null,
   "metadata": {},
   "outputs": [],
   "source": [
    "movies.rename(index={'Uri: The Surgical Strike':'Uri','Battalion 609':'Battalion'})"
   ]
  },
  {
   "cell_type": "code",
   "execution_count": null,
   "metadata": {},
   "outputs": [],
   "source": [
    "# unique\n",
    "\n",
    "temp=pd.Series([1,2,3,5,6,7,7,np.nan,np.nan])\n",
    "print(temp)\n",
    "temp.unique()"
   ]
  },
  {
   "cell_type": "code",
   "execution_count": null,
   "metadata": {},
   "outputs": [],
   "source": [
    "ipl['Season'].unique()"
   ]
  },
  {
   "cell_type": "code",
   "execution_count": null,
   "metadata": {},
   "outputs": [],
   "source": [
    "len(temp.unique())"
   ]
  },
  {
   "cell_type": "code",
   "execution_count": null,
   "metadata": {},
   "outputs": [],
   "source": [
    "temp.nunique()"
   ]
  },
  {
   "cell_type": "code",
   "execution_count": null,
   "metadata": {},
   "outputs": [],
   "source": [
    "# nunique\n",
    "ipl['Season'].nunique()"
   ]
  },
  {
   "cell_type": "code",
   "execution_count": null,
   "metadata": {},
   "outputs": [],
   "source": [
    "#isnull(series + dataframe)\n",
    "students['name'][~students['name'].isnull()]"
   ]
  },
  {
   "cell_type": "code",
   "execution_count": null,
   "metadata": {},
   "outputs": [],
   "source": [
    "# notnull(series + dataframe)\n",
    "students[students['name'].notnull()]"
   ]
  },
  {
   "cell_type": "code",
   "execution_count": null,
   "metadata": {},
   "outputs": [],
   "source": [
    "#hasnans(series)\n",
    "# attribute\n",
    "students['name'].hasnans"
   ]
  },
  {
   "cell_type": "code",
   "execution_count": null,
   "metadata": {},
   "outputs": [],
   "source": [
    "students.isnull()"
   ]
  },
  {
   "cell_type": "code",
   "execution_count": null,
   "metadata": {},
   "outputs": [],
   "source": []
  },
  {
   "cell_type": "code",
   "execution_count": null,
   "metadata": {},
   "outputs": [],
   "source": [
    "students.notnull()"
   ]
  },
  {
   "cell_type": "code",
   "execution_count": null,
   "metadata": {},
   "outputs": [],
   "source": [
    "# dropna(series + dataframe) -> how parameter ->work like or\n",
    "\n",
    "students['name'].dropna()"
   ]
  },
  {
   "cell_type": "code",
   "execution_count": null,
   "metadata": {},
   "outputs": [],
   "source": [
    "students"
   ]
  },
  {
   "cell_type": "code",
   "execution_count": null,
   "metadata": {},
   "outputs": [],
   "source": [
    "students.dropna(how='all')"
   ]
  },
  {
   "cell_type": "code",
   "execution_count": null,
   "metadata": {},
   "outputs": [],
   "source": [
    "students.dropna(subset=['name','college'])"
   ]
  },
  {
   "cell_type": "code",
   "execution_count": null,
   "metadata": {},
   "outputs": [],
   "source": [
    "# fillna\n",
    "\n",
    "students['name'].fillna('unknown')"
   ]
  },
  {
   "cell_type": "code",
   "execution_count": null,
   "metadata": {},
   "outputs": [],
   "source": [
    "students.fillna(value={'name':'unknown','college':'noCol','package':students['package'].mean()})"
   ]
  },
  {
   "cell_type": "code",
   "execution_count": null,
   "metadata": {},
   "outputs": [],
   "source": [
    "students.fillna(method='ffill')"
   ]
  },
  {
   "cell_type": "code",
   "execution_count": null,
   "metadata": {},
   "outputs": [],
   "source": [
    "# drop_duplicates (series + dataframes) -> works like and -> duplicated()\n",
    "\n",
    "temp= pd.Series([1,2,2,3,4,5,5,5,6])\n",
    "temp.drop_duplicates()"
   ]
  },
  {
   "cell_type": "code",
   "execution_count": null,
   "metadata": {},
   "outputs": [],
   "source": [
    "marks.drop_duplicates()"
   ]
  },
  {
   "cell_type": "code",
   "execution_count": null,
   "metadata": {},
   "outputs": [],
   "source": [
    "# find the last match played by virat kolhi in delhi\n",
    "\n",
    "ipl[((ipl['Team1Players'].str.contains('V Kohli'))|(ipl['Team2Players'].str.contains('V Kohli')))&(ipl['City']=='Delhi')].sort_values('Date',ascending=False).head(1)"
   ]
  }
 ],
 "metadata": {
  "kernelspec": {
   "display_name": "Python 3",
   "language": "python",
   "name": "python3"
  },
  "language_info": {
   "codemirror_mode": {
    "name": "ipython",
    "version": 3
   },
   "file_extension": ".py",
   "mimetype": "text/x-python",
   "name": "python",
   "nbconvert_exporter": "python",
   "pygments_lexer": "ipython3",
   "version": "3.9.13"
  }
 },
 "nbformat": 4,
 "nbformat_minor": 2
}
